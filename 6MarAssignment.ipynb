{
 "cells": [
  {
   "cell_type": "markdown",
   "id": "11323f11-888b-46fe-8f07-bc19a623f3bc",
   "metadata": {},
   "source": [
    "Q1. What is Statistics?\n",
    "\n",
    "Ans. Statistics is the science concerned with developing and studying methods for collecting, analyzing, interpreting and presenting empirical data.\n"
   ]
  },
  {
   "cell_type": "markdown",
   "id": "6ed34d93-089d-4bbf-9986-92a19d42162d",
   "metadata": {},
   "source": [
    "-----------------------------------------------------------------------------------------------------------------------------------------------------------------------------------------------------------------------------------------------"
   ]
  },
  {
   "cell_type": "markdown",
   "id": "380aafd0-a327-4e6e-b813-de6c1b232e38",
   "metadata": {},
   "source": [
    "Q2. Define the different types of statistics and give an example of when each type might be used.\n",
    "\n",
    "Ans. The different types of statistics are:-\n",
    "\n",
    "1.Descriptive Statistics:- Descriptive statistics describe, show, and summarize the basic features of a dataset found in a given study, presented in a summary that describes the data sample and its measurements. It helps analysts to understand the data better.\n",
    "\n",
    "ex:- Average height of students in a class.\n",
    "\n",
    "2.Inferential Statistics:- Inferential statistics use measurements from the sample of subjects in the experiment to compare the treatment groups and make generalizations about the larger population of subjects.\n",
    "\n",
    "ex:- Is height of students in class similar to height of students in entire college. \n"
   ]
  },
  {
   "cell_type": "markdown",
   "id": "15471057-b170-4f5c-ac9f-fd9f84d1dfa0",
   "metadata": {},
   "source": [
    "----------------------------------------------------------------------------------------------------------------------------------------------------------------------------------------------------------------------------------------------"
   ]
  },
  {
   "cell_type": "markdown",
   "id": "5108011c-3b91-41ec-8ec6-6ec76c8806e5",
   "metadata": {},
   "source": [
    "Q3. What are the different types of data and how do they differ from each other? Provide an example of each type of data.\n",
    "\n",
    "Ans. There are basically two types of data:-\n",
    "\n",
    "1.Quantitavive\n",
    "\n",
    "2.Qualitative\n",
    "\n",
    "->Quantitative Data:- These are basically numerical data. These can further be divided into:-\n",
    "\n",
    "1.Discrete Data:- When values in a data set are countable and can only take certain values, it is called discrete data. For example, number of students in a class, number of players required in a team, etc. We can easily count the variables in a discrete data. \n",
    "\n",
    "ex:- Age, Number of students in class etc.\n",
    "\n",
    "2.Continous Data:- Continuous data includes complex numbers and varying data values measured over a particular time interval.\n",
    "\n",
    "ex:- Height, Weight, Temperature etc.\n",
    "\n",
    "->Qualitative Data:- Qualitative data describes qualities or characteristics. It is collected using questionnaires, interviews, or observation, and frequently appears in narrative form.They can be further divided into:-\n",
    "\n",
    "1.Nominal Data:-  In statistics, nominal data is a type of data that is used to label variables without providing any quantitative value. It is the simplest form of a scale of measure. Nominal data cannot be ordered and cannot be measured.\n",
    "\n",
    "ex:- Gender, Blood Group\n",
    "\n",
    "2.Ordinal Data:- Ordinal data is a categorical, statistical data type where the variables have natural, ordered categories and the distances between the categories are not known.\n",
    "\n",
    "ex:- Good, Bad, Best or Poor, Wealthy etc."
   ]
  },
  {
   "cell_type": "markdown",
   "id": "17d2312c-ace5-4d31-94e4-582349df0e2a",
   "metadata": {},
   "source": [
    "---------------------------------------------------------------------------------------------------------------------------------------------------------------------------------------------------------------------------------------------"
   ]
  },
  {
   "cell_type": "markdown",
   "id": "6bc2f2ed-c147-46cd-b649-351af6acf913",
   "metadata": {},
   "source": [
    "Q4. Categorise the following datasets with respect to quantitative and qualitative data types:\n",
    "\n",
    "(i) Grading in exam: A+, A, B+, B, C+, C, D, E ------------------------------------------------------->Ans:- Qualitative Data type (Ordinal)\n",
    "\n",
    "(ii) Colour of mangoes: yellow, green, orange, red---------------------------------------------------->Ans:- Qualitative Data type (Nominal)\n",
    "\n",
    "(iii) Height data of a class: [178.9, 179, 179.5, 176, 177.2, 178.3, 175.8,...]----------------------->Ans:- Quantitative Data type (Continous)\n",
    "\n",
    "(iv) Number of mangoes exported by a farm: [500, 600, 478, 672, ...]---------------------------------->Ans:- Quantitative Data type (Discrete)"
   ]
  },
  {
   "cell_type": "markdown",
   "id": "edac5489-b5e2-410f-a065-8b71b4248b05",
   "metadata": {},
   "source": [
    "-----------------------------------------------------------------------------------------------------------------------------------------------------------------------------------------------------------------------------------------------"
   ]
  },
  {
   "cell_type": "markdown",
   "id": "8f6a4a40-2d63-469c-b33f-820b957afda5",
   "metadata": {},
   "source": [
    "Q5. Explain the concept of levels of measurement and give an example of a variable for each level.\n",
    "\n",
    "Ans. Levels of measurement, also called scales of measurement, tell you how precisely variables are recorded. It is a classification that relates the values that are assigned to variables with each other.\n",
    "\n",
    "There are four Levels or Scale of Measurement:-\n",
    "\n",
    "1.Nominal Scale of Measurement:- ex: Gender, Color etc.\n",
    "\n",
    "2.Ordinal Scale of Meaurement:- ex: Reviews like- Best, Good, Bad.\n",
    "\n",
    "3.Interval Scale of Measurement:- ex: Temperature\n",
    "\n",
    "4.Ratio Scale Data:- ex:- Age."
   ]
  },
  {
   "cell_type": "markdown",
   "id": "1ff78baf-f47c-4c74-827c-5e1b6c9dc473",
   "metadata": {},
   "source": [
    "----------------------------------------------------------------------------------------------------------------------------------------------------------------------------------------------------------------------------------------------"
   ]
  },
  {
   "cell_type": "markdown",
   "id": "b3db6293-6fad-40b9-9502-10d3274eeafe",
   "metadata": {},
   "source": [
    "Q6. Why is it important to understand the level of measurement when analyzing data? Provide an example to illustrate your answer.\n",
    "\n",
    "\n",
    "Ans. Knowing the level of measurement of your data is important for two reasons. \n",
    "\n",
    "1.Each of the levels of measurement provides a different level of detail.  Nominal provides the least amount of detail, ordinal provides the next highest amount of detail, and interval and ratio provide the most amount of detail.\n",
    "\n",
    "ex:-\n",
    "\n",
    "In a nominal level variable, values are grouped into categories that have no meaningful order.  For example, gender and political affiliation are nominal level variables.  Members in the group are assigned a label in that group and there is no hierarchy.  Typical descriptive statistics associated with nominal data are frequencies and percentages.\n",
    "\n",
    "Ordinal level variables are nominal level variables with a meaningful order.  For example, horse race winners can be assigned labels of first, second, third, fourth, etc. and these labels have an ordered relationship among them (i.e., first is higher than second, second is higher than third, and so on).  As with nominal level variables, ordinal level variables are typically described with frequencies and percentages.\n",
    "\n",
    "Interval and ratio level variables (also called continuous level variables) have the most detail associated with them.  Mathematical operations such as addition, subtraction, multiplication, and division can be accurately applied to the values of these variables.  An example variable would be the amount of milk used in cookie recipe (measured in cups).  This variable has arithmetic properties such that 2 cups of milk is exactly twice as much as 1 cup of milk.  Additionally, the difference between 1 and 2 cups of milk is exactly the same as the difference between 2 and 3 cups of milk.  Interval and ratio level variables are typically described using means and standard deviations.\n",
    "\n",
    "2.The second reason levels of measurement are important to know is because different statistical tests are appropriate for variables with different levels of measurement.  For example, chi-square tests of independence are most appropriate for nominal level data.  The Mann-Whitney U test is most appropriate for an ordinal level dependent variable and a nominal level independent variable.  An ANOVA is most appropriate for a continuous level dependent variable and a nominal level independent variable. "
   ]
  },
  {
   "cell_type": "markdown",
   "id": "4c3c8ced-c227-4a47-9295-92e320e9c72f",
   "metadata": {},
   "source": [
    "-----------------------------------------------------------------------------------------------------------------------------------------------------------------------------------------------------------------------------------------------"
   ]
  },
  {
   "cell_type": "markdown",
   "id": "52e0912a-66ac-4d79-93fc-35a3ddecc6c1",
   "metadata": {},
   "source": [
    "Q7. How nominal data type is different from ordinal data type.\n",
    "\n",
    "Ans. Nominal data is classified without a natural order or rank, whereas ordinal data has a predetermined or natural order. "
   ]
  },
  {
   "cell_type": "markdown",
   "id": "ca6a931f-35fe-4d2e-8753-9cfc3a85d99f",
   "metadata": {},
   "source": [
    "-----------------------------------------------------------------------------------------------------------------------------------------------------------------------------------------------------------------------------------------------"
   ]
  },
  {
   "cell_type": "markdown",
   "id": "57f21d1a-f9a1-432f-afc1-65bab21dcbee",
   "metadata": {},
   "source": [
    "Q8. Which type of plot can be used to display data in terms of range?\n",
    "\n",
    "Ans. A histogram is a graphical representation of data points organized into user-specified ranges. Similar in appearance to a bar graph, the histogram condenses a data series into an easily interpreted visual by taking many data points and grouping them into logical ranges or bins."
   ]
  },
  {
   "cell_type": "markdown",
   "id": "3978deb2-9d3f-4ca0-a6dc-7a1371169cee",
   "metadata": {},
   "source": [
    "-----------------------------------------------------------------------------------------------------------------------------------------------------------------------------------------------------------------------------------------------"
   ]
  },
  {
   "cell_type": "markdown",
   "id": "34e55f07-f888-4925-b9a8-6568c8fd3288",
   "metadata": {},
   "source": [
    "Q9. Describe the difference between descriptive and inferential statistics. Give an example of each type of statistics and explain how they are used.\n",
    "\n",
    "Ans. The difference between descriptive and inferential statistics can be given as:-\n",
    "\n",
    "Descriptive statistics summarize the features or characteristics of a data set, while Inferential statistics enables the user to test a hypothesis to check if the data is generalizable to the wider population.\n",
    "\n",
    "->Descriptive Statistics:- Descriptive statistics are used to describe or summarize data in ways that are meaningful and useful.\n",
    "for example:- GPA, A GPA gathers the data points created through a large selection of grades, classes, and exams then average them together and presents a general idea of the student's mean academic performance.\n",
    "\n",
    "They are used for Measures of central tendency and measures of dispersion.\n",
    "\n",
    "->Inferential Statistic:- Inferential statistics use measurements from the sample of subjects in the experiment to compare the treatment groups and make generalizations about the larger population of subjects.\n",
    "for example:- exit polls\n",
    "\n",
    "Uses are for Hypothesis testing and regression analysis."
   ]
  },
  {
   "cell_type": "markdown",
   "id": "8e7d27ee-79f7-46b0-aeb0-8764d5676e98",
   "metadata": {},
   "source": [
    "-----------------------------------------------------------------------------------------------------------------------------------------------------------------------------------------------------------------------------------------------"
   ]
  },
  {
   "cell_type": "markdown",
   "id": "70f52ed9-279d-44a0-8ef1-6ac63343a5aa",
   "metadata": {},
   "source": [
    "Q10. What are some common measures of central tendency and variability used in statistics? Explain how each measure can be used to describe a dataset.\n",
    "\n",
    "Ans. The central tendency measure is defined as the number used to represent the center or middle of a set of data values. \n",
    "The three commonly used measures of central tendency are the \n",
    "\n",
    "1.mean:- The mean is the arithmetic average. Calculating the mean is very simple, we just add up all of the values and divide by the number of observations in our dataset.\n",
    "\n",
    "2.median:- The median is the middle value. It is the value that splits the dataset in half, making it a natural measure of central tendency.\n",
    "To find the median,we order our data from smallest to largest, and then find the data point that has an equal number of values above it and below it.\n",
    "The method for locating the median varies slightly depending on whether our dataset has an even or odd number of values.\n",
    "\n",
    "3.mode:- The mode is the value that occurs the most frequently in our dataset, making it a different type of measure of central tendency than the mean or median.\n",
    "\n",
    "\n",
    "\n",
    "A statistic that tells us how the data values are dispersed or spread out is called the measure of dispersion or measure of variation in data.\n",
    "\n",
    "1.Standard Deviation:- Standard deviation is a statistic that measures the dispersion of a dataset relative to its mean and is calculated as the square root of the variance. \n",
    "It tells how far each score lies from the mean. In normal distributions, a high standard deviation means that values are generally far from the mean, while a low standard deviation indicates that values are clustered close to the mean.\n",
    "\n",
    "2.Variance:- Variance is a measure of dispersion that takes into account the spread of all data points in a data set. It's the measure of dispersion the most often used, along with the standard deviation, which is simply the square root of the variance.\n",
    "\n",
    "3.Range:-  difference between the maximum value and the minimum value in a data set."
   ]
  },
  {
   "cell_type": "markdown",
   "id": "36d66692-91f4-45c6-a83a-3f11851952c7",
   "metadata": {},
   "source": [
    "-----------------------------------------------------------------------------------------------------------------------------------------------------------------------------------------------------------------------------------------------"
   ]
  },
  {
   "cell_type": "code",
   "execution_count": null,
   "id": "45bb87f9-0e3b-4f6d-9a3a-57b278cd3689",
   "metadata": {},
   "outputs": [],
   "source": []
  }
 ],
 "metadata": {
  "kernelspec": {
   "display_name": "Python 3 (ipykernel)",
   "language": "python",
   "name": "python3"
  },
  "language_info": {
   "codemirror_mode": {
    "name": "ipython",
    "version": 3
   },
   "file_extension": ".py",
   "mimetype": "text/x-python",
   "name": "python",
   "nbconvert_exporter": "python",
   "pygments_lexer": "ipython3",
   "version": "3.10.8"
  }
 },
 "nbformat": 4,
 "nbformat_minor": 5
}
