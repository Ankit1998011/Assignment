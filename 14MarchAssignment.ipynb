{
 "cells": [
  {
   "cell_type": "code",
   "execution_count": 9,
   "id": "e30d6b40-b51c-4100-baad-8ecc82158d81",
   "metadata": {},
   "outputs": [],
   "source": [
    "+\n",
    " \"\"\"Q1. Write a Python function that takes in two arrays of data and calculates the F-value for a variance ratio\n",
    "test. The function should return the F-value and the corresponding p-value for the test.\n",
    "\"\"\"\n",
    "\n",
    "# Solution:-\n",
    "\n",
    "import numpy as np\n",
    "import scipy.stats as stat\n",
    "\n",
    "def f_var_test(data1,data2):\n",
    "    \n",
    "    n1 = len(data1)\n",
    "    n2 = len(data2)\n",
    "    \n",
    "    var1 = np.var(data1, ddof =1)\n",
    "    var2 = np.var(data2, ddof =1)\n",
    "    \n",
    "    if var1>var2:\n",
    "        f_stat = var1/var2\n",
    "        dof1 = n1-1\n",
    "        dof2 = n2-1\n",
    "    else:\n",
    "        f_stat = var2/var1\n",
    "        dof1 = n2-1\n",
    "        dof2 = n1-1\n",
    "    \n",
    "    p_val = stat.f.sf(f_stat, dof1, dof2)\n",
    "    \n",
    "    return f_stat, p_val\n",
    "        "
   ]
  },
  {
   "cell_type": "code",
   "execution_count": 10,
   "id": "b8c4a23e-4678-4354-9c4d-84c0dc2239ce",
   "metadata": {},
   "outputs": [
    {
     "name": "stdout",
     "output_type": "stream",
     "text": [
      "F-value: 4.0\n",
      "p-value: 0.10400000000000002\n"
     ]
    }
   ],
   "source": [
    "data1 = [1, 2, 3, 4, 5]\n",
    "data2 = [3, 5, 7, 9, 11]\n",
    "f_stat, p_val = f_var_test(data1, data2)\n",
    "print(\"F-value:\", f_stat)\n",
    "print(\"p-value:\", p_val)"
   ]
  },
  {
   "cell_type": "markdown",
   "id": "bba7bc0c-91ef-43ea-ae0d-fa15d7be222f",
   "metadata": {},
   "source": [
    "-----------------------------------------------------------------------------------------------------------------------------------------------------------------------------------------"
   ]
  },
  {
   "cell_type": "code",
   "execution_count": 12,
   "id": "281b8692-88c9-4af4-b55f-26290d2cdd78",
   "metadata": {},
   "outputs": [],
   "source": [
    "\"\"\"Q2. Given a significance level of 0.05 and the degrees of freedom for the numerator and denominator of an\n",
    "F-distribution, write a Python function that returns the critical F-value for a two-tailed test.\n",
    "\"\"\"\n",
    "\n",
    "import scipy.stats as stat\n",
    "\n",
    "\n",
    "\n",
    "def F_value(alpha, dof1, dof2):\n",
    "    return stat.f.ppf(alpha/2, dof1, dof2), stat.f.ppf(1-alpha/2, dof1, dof2)    # returns left and right-extreme  critical value"
   ]
  },
  {
   "cell_type": "code",
   "execution_count": 15,
   "id": "6ff6f7fa-335b-4af5-8dde-b45d42c428e6",
   "metadata": {},
   "outputs": [
    {
     "name": "stdout",
     "output_type": "stream",
     "text": [
      "Critical Value: (0.3048878636154987, 1.8527528164806204)\n"
     ]
    }
   ],
   "source": [
    "alpha = 0.5\n",
    "\n",
    "# assuming dof:\n",
    "\n",
    "dof1 = 2\n",
    "dof2 = 5\n",
    "\n",
    "lower_cv, upper_cv = F_value(alpha, dof1, dof2)\n",
    "\n",
    "print(f\"Critical Value: ({lower_cv}, {upper_cv})\")"
   ]
  },
  {
   "cell_type": "markdown",
   "id": "a321e0ac-4f32-443a-856c-e2b06e5de6bb",
   "metadata": {},
   "source": [
    "----------------------------------------------------------------------------------------------------------------------------------------------------------------------------------------"
   ]
  },
  {
   "cell_type": "code",
   "execution_count": 4,
   "id": "213376c9-7173-46d2-ba32-3d33284fd14c",
   "metadata": {},
   "outputs": [],
   "source": [
    "\"\"\"Q3. Write a Python program that generates random samples from two normal distributions with known\n",
    "\n",
    "variances and uses an F-test to determine if the variances are equal. The program should output the F-\n",
    "value, degrees of freedom, and p-value for the test.\n",
    "\"\"\"\n",
    "\n",
    "# Solution:-\n",
    "\n",
    "import numpy as np\n",
    "import scipy.stats as stat\n",
    "\n",
    "# let known variances be:-\n",
    "\n",
    "sigma1 = 1\n",
    "sigma2 = 2\n",
    "\n",
    "mu1 = 0\n",
    "mu2 = 1\n",
    "\n",
    "n1 = 30\n",
    "n2 = 40\n",
    "\n",
    "# creating random samples:-\n",
    "\n",
    "np.random.seed(43)   # setting seed value to reproduce sample value for experiment\n",
    "\n",
    "sample1 = np.random.normal(mu1, sigma1, n1)\n",
    "sample2 = np.random.normal(mu2, sigma2, n1)"
   ]
  },
  {
   "cell_type": "code",
   "execution_count": 8,
   "id": "51d4fd46-1f58-4370-8330-40d82c773067",
   "metadata": {},
   "outputs": [
    {
     "name": "stdout",
     "output_type": "stream",
     "text": [
      "F-Value: 0.17896547355865366\n",
      "\n",
      "degress of freedom: df1: 29, df2: 39\n",
      "\n",
      "P-Value: 0.9999964238077438\n"
     ]
    }
   ],
   "source": [
    "f = np.var(sample1, ddof = 1)/np.var(sample2, ddof = 1)\n",
    "\n",
    "df1 = n1 -1\n",
    "df2 = n2 -1\n",
    "\n",
    "p_val = 1 - stat.f.cdf(f, df1, df2)\n",
    "\n",
    "\n",
    "print(f\"F-Value: {f}\")\n",
    "print(f\"\\ndegress of freedom: df1: {df1}, df2: {df2}\")\n",
    "print(f\"\\nP-Value: {p_val}\")"
   ]
  },
  {
   "cell_type": "markdown",
   "id": "3dffca40-3cbf-49f5-b55d-1ff4f52cb526",
   "metadata": {},
   "source": [
    "-----------------------------------------------------------------------------------------------------------------------------------------------------------------------------------------"
   ]
  },
  {
   "cell_type": "markdown",
   "id": "19fdfa63-555d-4d59-8d74-35b37a9a3901",
   "metadata": {},
   "source": [
    "Q4.The variances of two populations are known to be 10 and 15. A sample of 12 observations is taken from each population. Conduct an F-test at the 5% significance level to determine if the variances are significantly different.\n",
    "\n",
    "Ans. \n",
    "\n",
    "Null Hypothesis(H0): var1 = var2\n",
    "\n",
    "Alternate Hypothesis(H1): var1 != var2\n",
    "\n",
    "Performing F-stats we get:\n",
    "\n",
    "F = 10/15\n",
    "\n",
    "= 0.667\n",
    "\n",
    "For significancle level of 5% and dof1 = dof2 => 12-1 => 11  we can calculate critical value to be:-\n",
    "\n",
    "critical value = 2.83\n",
    "\n",
    "Conclusion:-\n",
    "\n",
    "Since, F-val < critical value, we fail to reject Null Hypothesis and can say that we don't have enough evidence to suggest that there is significant difference between variance of two population."
   ]
  },
  {
   "cell_type": "markdown",
   "id": "5c09b17d-a889-4b79-b151-58f993f5d008",
   "metadata": {},
   "source": [
    "-----------------------------------------------------------------------------------------------------------------------------------------------------------------------------------------"
   ]
  },
  {
   "cell_type": "markdown",
   "id": "f06475fe-da8b-4f42-bd55-99f9ad1dae32",
   "metadata": {},
   "source": [
    "Q5. A manufacturer claims that the variance of the diameter of a certain product is 0.005. A sample of 25 products is taken, and the sample variance is found to be 0.006. Conduct an F-test at the 1% significance level to determine if the claim is justified.\n",
    "\n",
    "Ans. \n",
    "\n",
    "Null Hypothesis(H0):-   var = 0.005\n",
    "\n",
    "Alternate Hypothesis(H1):-  Variance is greater than 0.005\n",
    "\n",
    "Performing F-test we get:-\n",
    "\n",
    "F-Value = sample variance/population variance\n",
    "\n",
    "= 0.006/0.005\n",
    "\n",
    "= 1.2\n",
    "\n",
    "From given question we can see:-\n",
    "\n",
    "dof sample = 25-1 => 24\n",
    "\n",
    "dof population = infinite\n",
    "\n",
    "For significance levele of alpha = 0.01\n",
    "\n",
    "critical value = 1.791\n",
    "\n",
    "Conclusion:-\n",
    "\n",
    "Since F-val(1.2) < Critical Value(1.791) we cannot reject Null Hypothesis and we can say that we don't have enough evidence to say that population variance is greater than 0.005 for significance level of 1%."
   ]
  },
  {
   "cell_type": "markdown",
   "id": "f9310e79-e3fb-45f7-ae21-3dbdb8fb1b1b",
   "metadata": {},
   "source": [
    "-----------------------------------------------------------------------------------------------------------------------------------------------------------------------------------------"
   ]
  },
  {
   "cell_type": "code",
   "execution_count": 9,
   "id": "8fe4d930-df10-416b-81d3-2154e5dbf214",
   "metadata": {},
   "outputs": [],
   "source": [
    "\"\"\"Q6. Write a Python function that takes in the degrees of freedom for the numerator and denominator of an\n",
    "F-distribution and calculates the mean and variance of the distribution. The function should return the\n",
    "mean and variance as a tuple.\n",
    "\"\"\"\n",
    "\n",
    "def fdist_mean_var(dofn, dofd):\n",
    "    \n",
    "    if dofn <= 0 or dofd <= 0:\n",
    "        raise ValueError(\"degree of freedom must be greater than 0\")\n",
    "    \n",
    "    mean = dofd/(dofd-2)\n",
    "    \n",
    "    variance =  (2 * (dofd**2) * (dofn + dofd - 2)) / ((dofn * (dofd - 2)**2 * (dofd - 4)))\n",
    "    \n",
    "    return (mean, variance)"
   ]
  },
  {
   "cell_type": "code",
   "execution_count": 10,
   "id": "7b9fc76d-7b13-47cf-aefe-3bb7febc64d1",
   "metadata": {},
   "outputs": [
    {
     "name": "stdout",
     "output_type": "stream",
     "text": [
      "Mean: 1.25\n",
      "Variance: 1.3541666666666667\n"
     ]
    }
   ],
   "source": [
    "mean, variance = fdist_mean_var(5, 10)\n",
    "print(\"Mean:\", mean)\n",
    "print(\"Variance:\", variance)"
   ]
  },
  {
   "cell_type": "markdown",
   "id": "8c2eab60-97a0-4f87-a668-ced74cd69a55",
   "metadata": {},
   "source": [
    "------------------------------------------------------------------------------------------------------------------------------------------------------------------------------------------"
   ]
  },
  {
   "cell_type": "markdown",
   "id": "30b41750-e2ad-46a4-a3fb-9dd0c043e0f6",
   "metadata": {},
   "source": [
    "Q7. A random sample of 10 measurements is taken from a normal population with unknown variance. The sample variance is found to be 25. Another random sample of 15 measurements is taken from another normal population with unknown variance, and the sample variance is found to be 20. Conduct an F-test at the 10% significance level to determine if the variances are significantly different.\n",
    "\n",
    "Ans. \n",
    "\n",
    "Null Hypothesis(H0):- s1 = s2\n",
    "\n",
    "Alternate Hypothesis(H1):- s1 != s2\n",
    "\n",
    "Performing F-test we get F-Value to be:-\n",
    "\n",
    "F-val = s1/s2\n",
    "\n",
    "=> 1.25\n",
    "\n",
    "calculating degree of freedom:\n",
    "\n",
    "dof1 = 10 - 1 => 9\n",
    "\n",
    "dof2 = 15 - 1 => 14\n",
    "\n",
    "For significance level of 10% and dof1 = 9 and dof2 = 14 we get critical value equal to:-\n",
    "\n",
    "critical value = 2.12\n",
    "\n",
    "Coclusion:-\n",
    "\n",
    "Since, F-val(1.25) < Critical val(2.12) we fail to reject Null Hypothesis and we can say that we don't have enough evidence to say that there is significant difference between variances\n",
    "at 10% significance level."
   ]
  },
  {
   "cell_type": "markdown",
   "id": "dbb047cb-fac8-49a1-a3f2-a4ba41b75c30",
   "metadata": {},
   "source": [
    "-----------------------------------------------------------------------------------------------------------------------------------------------------------------------------------------"
   ]
  },
  {
   "cell_type": "markdown",
   "id": "5927c480-2c44-4407-b977-cdebb71d97b6",
   "metadata": {},
   "source": [
    "Q8. The following data represent the waiting times in minutes at two different restaurants on a Saturday\n",
    "night: Restaurant A: 24, 25, 28, 23, 22, 20, 27; Restaurant B: 31, 33, 35, 30, 32, 36. Conduct an F-test at the 5%\n",
    "significance level to determine if the variances are significantly different.\n",
    "\n",
    "\n",
    "Ans.\n",
    "\n",
    "Null Hypothesis(H0): varA = varB\n",
    "\n",
    "Alternate Hypothesis(H1): varA != varB\n",
    "\n",
    "A = (24, 25, 28, 23, 22, 20, 27)\n",
    "\n",
    "B = (31, 33, 35, 30, 32, 36)\n",
    "\n",
    "We Know variance = summation(xi - xbar)^2/n-1\n",
    "\n",
    "For A xbar = 24.14\n",
    "\n",
    "For B xbar = 32.83\n",
    "\n",
    "Using formula we get variances as:-\n"
   ]
  },
  {
   "cell_type": "markdown",
   "id": "ad18737f-d193-4b1d-989b-fd1f6f38d467",
   "metadata": {},
   "source": [
    "A = [24, 25, 28, 23, 22, 20, 27]\n",
    "B = [31, 33, 35, 30, 32, 36]\n",
    "\n",
    "import numpy as np\n",
    "\n",
    "varA = np.var(A, ddof =1)\n",
    "varB = np.var(B, ddof =1)\n",
    "print(varA)\n",
    "print(varB)"
   ]
  },
  {
   "cell_type": "markdown",
   "id": "18cf583f-3a11-42c5-870a-0e189dd25a56",
   "metadata": {},
   "source": [
    "Performing F-statistics we get:-\n",
    "\n",
    "F-val = varA/varB \n",
    "\n",
    "=> 7.809/5.366\n",
    "\n",
    "=> 1.455\n",
    "\n",
    "Degree of freedom is:-\n",
    "\n",
    "dof1 = 7-1\n",
    "\n",
    "dof1 => 6\n",
    "\n",
    "dof2 = 6-1\n",
    "\n",
    "dof2 => 5\n",
    "\n",
    "For significance level of 5%  and dof1 = 6, dof2 = 5 we get critical value as:-\n",
    "\n",
    "critical value = 4.95\n",
    "\n",
    "Conclusion:-\n",
    "\n",
    "Since, F-value(1.455) < Critical Val(4.95) we fail to reject Null Hypothesis and can say that there is no siginificance difference between variances at significance level of 5%."
   ]
  },
  {
   "cell_type": "markdown",
   "id": "f8b57f5a-86d9-47d4-8e1b-94cea98b608c",
   "metadata": {},
   "source": [
    "-----------------------------------------------------------------------------------------------------------------------------------------------------------------------------------------"
   ]
  },
  {
   "cell_type": "markdown",
   "id": "c95a5c17-a806-45cc-b7ce-55b8686c034c",
   "metadata": {},
   "source": [
    "Q9. The following data represent the test scores of two groups of students: Group A: 80, 85, 90, 92, 87, 83;\n",
    "Group B: 75, 78, 82, 79, 81, 84. Conduct an F-test at the 1% significance level to determine if the variances\n",
    "are significantly different.\n",
    "\n",
    "Ans. \n",
    "\n",
    "Null Hypothesis(H0): varA = varB\n",
    "\n",
    "Alternate Hypothesis(H1): varA != varB\n",
    "\n",
    "A = (80, 85, 90, 92, 87, 83)\n",
    "\n",
    "B = (75, 78, 82, 79, 81, 84)\n",
    "\n",
    "We Know variance = summation(xi - xbar)^2/n-1\n",
    "\n",
    "For A xbar = 86.1667\n",
    "\n",
    "For B xbar = 79.8333\n",
    "\n",
    "Using formula we get variances as:-"
   ]
  },
  {
   "cell_type": "code",
   "execution_count": 14,
   "id": "f8fe449c-63df-4854-a85c-637980fc57a8",
   "metadata": {},
   "outputs": [
    {
     "name": "stdout",
     "output_type": "stream",
     "text": [
      "16.472222222222225 8.472222222222221\n"
     ]
    }
   ],
   "source": [
    "import numpy as np\n",
    "\n",
    "A = [80, 85, 90, 92, 87, 83]\n",
    "B = [75, 78, 82, 79, 81, 84]\n",
    "\n",
    "varA = np.var(A)\n",
    "varB = np.var(B)\n",
    "print(varA,varB)"
   ]
  },
  {
   "cell_type": "markdown",
   "id": "10e62f48-601d-4512-86cf-cc08a34c06f1",
   "metadata": {},
   "source": [
    "Performing F-statistics we get:-\n",
    "\n",
    "F-val = varA/varB \n",
    "\n",
    "=> 16.472/8.472\n",
    "\n",
    "=> 1.944\n",
    "\n",
    "Degree of freedom is:-\n",
    "\n",
    "dof1 = 6-1\n",
    "\n",
    "dof1 => 5\n",
    "\n",
    "dof2 = 6-1\n",
    "\n",
    "dof2 => 5\n",
    "\n",
    "For significance level of 1%  and dof1 = 5, dof2 = 5 we get critical value as:-\n",
    "\n",
    "critical value = 10.967\n",
    "\n",
    "Conclusion:-\n",
    "\n",
    "Since, F-value(1.944) < Critical Val(10.967) we fail to reject Null Hypothesis and can say that there is no siginificance difference between variances at significance level of 1%."
   ]
  },
  {
   "cell_type": "markdown",
   "id": "2f3d6c6d-c3c3-4326-b0f0-7f34819a16be",
   "metadata": {},
   "source": [
    "-----------------------------------------------------------------------------------------------------------------------------------------------------------------------------------------"
   ]
  },
  {
   "cell_type": "code",
   "execution_count": null,
   "id": "c66b685e-f4f4-436a-8b3a-7c3eb41f9314",
   "metadata": {},
   "outputs": [],
   "source": []
  }
 ],
 "metadata": {
  "kernelspec": {
   "display_name": "Python 3 (ipykernel)",
   "language": "python",
   "name": "python3"
  },
  "language_info": {
   "codemirror_mode": {
    "name": "ipython",
    "version": 3
   },
   "file_extension": ".py",
   "mimetype": "text/x-python",
   "name": "python",
   "nbconvert_exporter": "python",
   "pygments_lexer": "ipython3",
   "version": "3.10.8"
  }
 },
 "nbformat": 4,
 "nbformat_minor": 5
}
