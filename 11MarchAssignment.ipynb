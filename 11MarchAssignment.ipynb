{
 "cells": [
  {
   "cell_type": "markdown",
   "id": "f4d100a8-59e4-47a8-b8aa-2bcadc7e217a",
   "metadata": {},
   "source": [
    "Q1: What is the difference between a t-test and a z-test? Provide an example scenario where you would use each type of test.\n",
    "\n",
    "Ans. A t-test and a z-test are both statistical tests used to make inferences about a population based on a sample of data. The main difference between the two is the assumptions they make about the population's standard deviation. \n",
    "\n",
    "A z-test is used when the population's standard deviation is known, or when the sample size is very large. For example, if we want to test whether a sample mean is significantly different from a hypothesized population mean, and we know the population's standard deviation, we can use a z-test. Another scenario where a z-test can be used is in quality control, when the population's standard deviation can be estimated based on historical data.\n",
    "\n",
    "On the other hand, a t-test is used when the population's standard deviation is unknown and must be estimated from the sample data. The t-test is also used when the sample size is small. For example, if we want to test whether there is a significant difference between the means of two independent samples, we can use a two-sample t-test. Another scenario where a t-test is commonly used is in biomedical research, where sample sizes are often limited and the population's standard deviation can be difficult to estimate.\n",
    "\n",
    "In summary, a z-test is preferred when the population's standard deviation is known, or when the sample size is large, while a t-test is preferred when the population's standard deviation is unknown and the sample size is small.\n",
    "\n",
    "->Example Scenario:\n",
    "\n",
    "Suppose a pharmaceutical company produces a new drug and wants to test whether the drug is effective in reducing patients' blood pressure. The company takes a sample of 30 patients and administers the drug to them, then measures their blood pressure after the treatment. Since the population's standard deviation is unknown, the company should use a t-test to determine whether the drug is effective."
   ]
  },
  {
   "cell_type": "markdown",
   "id": "a3c5d6ce-b929-4faf-be01-b0d3a1d2f6b6",
   "metadata": {},
   "source": [
    "-----------------------------------------------------------------------------------------------------------------------------------------------------------------------------------------"
   ]
  },
  {
   "cell_type": "markdown",
   "id": "78923131-24fa-459b-aa5c-24539f328d8c",
   "metadata": {},
   "source": [
    "Q2: Differentiate between one-tailed and two-tailed tests.\n",
    "\n",
    "Ans. One-tailed and two-tailed tests are types of hypothesis tests that are used to determine whether there is a significant difference between a sample statistic and a population parameter.\n",
    "\n",
    "A one-tailed test is a hypothesis test where the alternative hypothesis is directional, meaning it predicts the direction of the difference between the sample statistic and the population parameter. For example, a one-tailed test might be used to determine whether a new drug increases blood pressure. The null hypothesis would be that the drug has no effect on blood pressure, and the alternative hypothesis would be that the drug increases blood pressure. The one-tailed test would reject the null hypothesis if the blood pressure increase is statistically significant.\n",
    "\n",
    "A two-tailed test is a hypothesis test where the alternative hypothesis is non-directional, meaning it predicts that there is a difference between the sample statistic and the population parameter, but it does not predict the direction of the difference. For example, a two-tailed test might be used to determine whether a coin is fair. The null hypothesis would be that the coin is fair, and the alternative hypothesis would be that the coin is biased in either direction. The two-tailed test would reject the null hypothesis if the coin toss results are statistically significant in either direction.\n",
    "\n",
    "In summary, a one-tailed test is used when the alternative hypothesis predicts the direction of the difference, while a two-tailed test is used when the alternative hypothesis does not predict the direction of the difference."
   ]
  },
  {
   "cell_type": "markdown",
   "id": "503a9267-ce11-4f9e-9696-22cce14b2360",
   "metadata": {},
   "source": [
    "------------------------------------------------------------------------------------------------------------------------------------------------------------------------------------------"
   ]
  },
  {
   "cell_type": "markdown",
   "id": "687715e4-7a1a-4242-9744-4f6e2b92c07f",
   "metadata": {},
   "source": [
    "Q3: Explain the concept of Type 1 and Type 2 errors in hypothesis testing. Provide an example scenario for each type of error.\n",
    "\n",
    "Ans. In hypothesis testing, there are two types of errors that can occur: Type I errors and Type II errors.\n",
    "\n",
    "Type I error occurs when a null hypothesis is rejected, even though it is actually true. In other words, a Type I error occurs when we incorrectly conclude that there is a significant difference between a sample statistic and a population parameter, when in fact, the difference is due to chance. The probability of making a Type I error is denoted by alpha (α) and is typically set at 0.05 or 0.01.\n",
    "\n",
    "For example, suppose a company is testing a new product to see if it increases sales. The null hypothesis would be that the product has no effect on sales. A Type I error would occur if the company rejected the null hypothesis and concluded that the product does increase sales, even though it actually has no effect.\n",
    "\n",
    "Type II error occurs when a null hypothesis is not rejected, even though it is actually false. In other words, a Type II error occurs when we incorrectly conclude that there is no significant difference between a sample statistic and a population parameter, when in fact, there is a real difference. The probability of making a Type II error is denoted by beta (β).\n",
    "\n",
    "For example, suppose a medical researcher is testing a new drug to see if it lowers blood pressure. The null hypothesis would be that the drug has no effect on blood pressure. A Type II error would occur if the researcher failed to reject the null hypothesis and concluded that the drug has no effect on blood pressure, even though it actually does lower blood pressure.\n",
    "\n",
    "In summary, a Type I error occurs when a true null hypothesis is rejected, while a Type II error occurs when a false null hypothesis is not rejected."
   ]
  },
  {
   "cell_type": "markdown",
   "id": "8afd803c-9149-4bd3-8729-c0784a1b320b",
   "metadata": {},
   "source": [
    "-----------------------------------------------------------------------------------------------------------------------------------------------------------------------------------------"
   ]
  },
  {
   "cell_type": "markdown",
   "id": "e13f853e-bde3-46d3-a0d8-eef1d4a2fc73",
   "metadata": {},
   "source": [
    "Q4: Explain Bayes's theorem with an example.\n",
    "\n",
    "Ans. Bayes's theorem is a mathematical formula that describes the probability of an event based on prior knowledge of conditions that might be related to the event. It was named after the Reverend Thomas Bayes, an 18th-century British statistician.\n",
    "\n",
    "Bayes's theorem states that the probability of an event A, given the occurrence of event B, can be calculated as follows:\n",
    "\n",
    "P(A|B) = P(B|A) * P(A) / P(B)\n",
    "\n",
    "Where:\n",
    "\n",
    "P(A|B) is the probability of event A given event B (also known as the posterior probability).\n",
    "\n",
    "P(B|A) is the probability of event B given event A (also known as the likelihood).\n",
    "\n",
    "P(A) is the prior probability of event A.\n",
    "\n",
    "P(B) is the prior probability of event B.\n",
    "\n",
    "To understand this theorem better, let's consider an example:\n",
    "\n",
    "Suppose there is a medical test to detect a rare disease that only affects 1 in 1,000 people in the population. The test is 99% accurate, meaning that it correctly identifies 99% of people who have the disease and 99% of people who do not have the disease.\n",
    "\n",
    "If a person tests positive for the disease, what is the probability that they actually have the disease?\n",
    "\n",
    "Using Bayes's theorem, we can calculate the probability as follows:\n",
    "\n",
    "P(A) = the prior probability of having the disease = 1/1000 = 0.001\n",
    "\n",
    "P(B|A) = the probability of testing positive given that the person has the disease = 0.99\n",
    "\n",
    "P(B|not A) = the probability of testing positive given that the person does not have the disease = 0.01\n",
    "\n",
    "P(B) = the probability of testing positive = P(B|A) * P(A) + P(B|not A) * P(not A) = 0.99 * 0.001 + 0.01 * 0.999 = 0.01098\n",
    "\n",
    "Therefore, the probability of having the disease given a positive test result is:\n",
    "\n",
    "P(A|B) = P(B|A) * P(A) / P(B) = 0.99 * 0.001 / 0.01098 = 0.090\n",
    "\n",
    "This means that if a person tests positive for the disease, the probability of actually having the disease is only 9%. Even though the test is highly accurate, the low prevalence of the disease in the population makes it less likely that a positive test result indicates the presence of the disease."
   ]
  },
  {
   "cell_type": "markdown",
   "id": "ff04f089-8f6f-4b8e-80c6-ce5ebd644f72",
   "metadata": {},
   "source": [
    "-----------------------------------------------------------------------------------------------------------------------------------------------------------------------------------------"
   ]
  },
  {
   "cell_type": "markdown",
   "id": "0936624d-a27a-49de-ae5b-8f3240f7c58c",
   "metadata": {},
   "source": [
    "Q5: What is a confidence interval? How to calculate the confidence interval, explain with an example.\n",
    "\n",
    "Ans. A confidence interval is a range of values that provides an estimate for an unknown population parameter, such as a mean or a proportion, based on a sample of data. The confidence interval expresses the degree of uncertainty associated with the estimate, and represents the range of values that we can be reasonably confident contains the true population parameter.\n",
    "\n",
    "To calculate a confidence interval, we first need to determine the level of confidence that we want to have in our estimate. The level of confidence is typically set at 95%, meaning that if we were to repeat the sampling procedure many times, about 95% of the intervals we calculate would contain the true population parameter.\n",
    "\n",
    "Here's an example to illustrate the calculation of a confidence interval:\n",
    "\n",
    "Suppose we want to estimate the mean height of adult males in a certain population. We take a random sample of 100 males and measure their heights. The sample mean height is calculated as 180 cm, with a sample standard deviation of 10 cm.\n",
    "\n",
    "To calculate a 95% confidence interval for the true population mean height, we can use the following formula:\n",
    "\n",
    "CI = Xbar +/- z*(s/sqrt(n))\n",
    "\n",
    "Where:\n",
    "\n",
    "-Xbar is the sample mean height\n",
    "\n",
    "-s is the sample standard deviation\n",
    "\n",
    "-n is the sample size\n",
    "\n",
    "-z is the critical value from the standard normal distribution that corresponds to our chosen level of confidence (1.96 for 95% confidence)\n",
    "\n",
    "Substituting the values, we get:\n",
    "\n",
    "CI = 180 +/- 1.96*(10/sqrt(100))\n",
    "\n",
    "CI = 180 +/- 1.96\n",
    "\n",
    "CI = (178.04, 181.96)\n",
    "\n",
    "Thus, we can say with 95% confidence that the true population mean height is between 178.04 cm and 181.96 cm.\n",
    "\n",
    "In summary, a confidence interval is a range of values that provides an estimate for an unknown population parameter, and typically expresses the degree of uncertainty associated with the estimate. The calculation of the interval involves determining the level of confidence, as well as the sample mean, sample standard deviation, sample size, and critical value from the relevant distribution."
   ]
  },
  {
   "cell_type": "markdown",
   "id": "baa48316-d75c-4452-b60f-9476ad97d51e",
   "metadata": {},
   "source": [
    "------------------------------------------------------------------------------------------------------------------------------------------------------------------------------------------"
   ]
  },
  {
   "cell_type": "markdown",
   "id": "2c8d80f8-9cc2-4cc8-b779-6a7ae42120c3",
   "metadata": {},
   "source": [
    "Q6. Use Bayes' Theorem to calculate the probability of an event occurring given prior knowledge of the event's probability and new evidence. Provide a sample problem and solution.\n",
    "\n",
    "Ans.\n",
    "\n",
    "Suppose there is a rare disease that affects 0.1% of the population. A medical test has a false positive rate of 5% (meaning it incorrectly indicates that a person has the disease 5% of the time) and a false negative rate of 1% (meaning it incorrectly indicates that a person does not have the disease 1% of the time). If a person tests positive for the disease, what is the probability that they actually have the disease?\n",
    "\n",
    "Using Bayes' Theorem, we can calculate the probability as follows:\n",
    "\n",
    "Let A be the event that a person has the disease, and B be the event that the person tests positive for the disease.\n",
    "\n",
    "P(A) = 0.001 (the prior probability of a person having the disease)\n",
    "\n",
    "P(not A) = 1 - P(A) = 0.999 (the prior probability of a person not having the disease)\n",
    "\n",
    "P(B|A) = 1 - 0.01 = 0.99 (the probability of testing positive given that the person actually has the disease)\n",
    "\n",
    "P(B|not A) = 0.05 (the probability of testing positive given that the person does not have the disease)\n",
    "\n",
    "We need to calculate P(B), which is the probability of testing positive for the disease, regardless of whether the person actually has the disease or not. We can do this using the law of total probability:\n",
    "\n",
    "P(B) = P(B|A) * P(A) + P(B|not A) * P(not A)\n",
    "\n",
    "P(B) = 0.99 * 0.001 + 0.05 * 0.999\n",
    "\n",
    "P(B) = 0.05094\n",
    "\n",
    "Now we can use Bayes' Theorem to calculate the probability that a person actually has the disease given a positive test result:\n",
    "\n",
    "P(A|B) = P(B|A) * P(A) / P(B)\n",
    "\n",
    "P(A|B) = 0.99 * 0.001 / 0.05094\n",
    "\n",
    "P(A|B) = 0.019\n",
    "\n",
    "So, the probability that a person actually has the disease given a positive test result is about 1.9%. Even though the test is relatively accurate, the low prevalence of the disease in the population means that a positive test result is still unlikely to indicate the presence of the disease."
   ]
  },
  {
   "cell_type": "markdown",
   "id": "af0aa229-543f-4f7c-818e-af750ef5192f",
   "metadata": {},
   "source": [
    "-----------------------------------------------------------------------------------------------------------------------------------------------------------------------------------------"
   ]
  },
  {
   "cell_type": "markdown",
   "id": "a154225c-091a-41d2-88f7-5fd1fa4b60f5",
   "metadata": {},
   "source": [
    "Q7. Calculate the 95% confidence interval for a sample of data with a mean of 50 and a standard deviation of 5. Interpret the results.\n",
    "\n",
    "Ans. Using the formula for a confidence interval:\n",
    "\n",
    "CI = Xbar +/- z*(s/sqrt(n))\n",
    "\n",
    "Where:\n",
    "\n",
    "-Xbar is the sample mean (50)\n",
    "\n",
    "-s is the sample standard deviation (5)\n",
    "\n",
    "-n is the sample size\n",
    "\n",
    "-z is the critical value from the standard normal distribution that corresponds to our chosen level of confidence (1.96 for 95% confidence)\n",
    "\n",
    "Since the sample size is not given, let's assume it is 100 for this example.\n",
    "\n",
    "Substituting the values, we get:\n",
    "\n",
    "CI = 50 +/- 1.96*(5/sqrt(100))\n",
    "\n",
    "CI = 50 +/- 0.98\n",
    "\n",
    "CI = (49.02, 50.98)\n",
    "\n",
    "The 95% confidence interval for the true population mean based on this sample data is between 49.02 and 50.98. This means that if we were to take many random samples of the same size from this population and calculate the confidence interval each time, about 95% of those intervals would contain the true population mean."
   ]
  },
  {
   "cell_type": "markdown",
   "id": "fb4f8089-41bd-4cbb-b6ef-16d1cff18266",
   "metadata": {},
   "source": [
    "------------------------------------------------------------------------------------------------------------------------------------------------------------------------------------------"
   ]
  },
  {
   "cell_type": "markdown",
   "id": "f0f1cca6-542e-4e9c-b005-ad1a2e3a9163",
   "metadata": {},
   "source": [
    "Q8. What is the margin of error in a confidence interval? How does sample size affect the margin of error? Provide an example of a scenario where a larger sample size would\n",
    "result in a smaller margin of error.\n",
    "\n",
    "Ans. The margin of error is the amount of error or uncertainty associated with a particular confidence interval. It indicates the range of values we can be reasonably confident that contains the true population parameter, given the sample data and the chosen level of confidence.\n",
    "\n",
    "The margin of error is affected by several factors, including the level of confidence, the sample size, and the variability of the data. A larger sample size generally results in a smaller margin of error, assuming all else remains constant. This is because a larger sample size provides more information about the population, and as a result, the estimate of the population parameter is likely to be more accurate and precise.\n",
    "\n",
    "Let's say you're running a political poll to determine the percentage of voters that support a particular candidate. We want to estimate the percentage with 95% confidence, and we want the margin of error to be no more than 3%. A small sample size, say 100 voters, might not accurately represent the larger population of voters, and the margin of error could be larger than desired. However, a larger sample size, say 1000 or more, would likely provide a more accurate estimate and a smaller margin of error, allowing us to make more precise predictions about the population as a whole.\n",
    "\n",
    "In summary, the margin of error is the amount of error or uncertainty associated with a particular confidence interval, and is affected by several factors including the sample size. A larger sample size generally results in a smaller margin of error and provides more accurate estimates of population parameters."
   ]
  },
  {
   "cell_type": "markdown",
   "id": "cbf39897-889a-4d52-a7f6-ff776a068d59",
   "metadata": {},
   "source": [
    "-----------------------------------------------------------------------------------------------------------------------------------------------------------------------------------------"
   ]
  },
  {
   "cell_type": "markdown",
   "id": "a0293800-c497-420b-910d-3c2050dd7272",
   "metadata": {},
   "source": [
    "Q9. Calculate the z-score for a data point with a value of 75, a population mean of 70, and a population standard deviation of 5. Interpret the results.\n",
    "\n",
    "Ans. To calculate the z-score for a data point with a value of 75, a population mean of 70, and a population standard deviation of 5, we can use the following formula:\n",
    "z = (x - mu) / sigma\n",
    "\n",
    "Where:\n",
    "\n",
    "->x is the data point value (75)\n",
    "\n",
    "->mu is the population mean (70)\n",
    "\n",
    "->sigma is the population standard deviation (5)\n",
    "\n",
    "Substituting the values, we get:\n",
    "\n",
    "z = (75 - 70) / 5\n",
    "\n",
    "z = 1\n",
    "\n",
    "The z-score for the data point with a value of 75 is 1, which indicates that it is one standard deviation above the mean. In other words, this data point is located 1 standard deviation units above the center of the population distribution, which is centered around the mean of 70. \n",
    "\n",
    "This result means that the data point of 75 represents a value that is relatively higher than the rest of the population. By knowing the z-score, we can compare with other data points in the population which can help identify unusual data points that are far from the mean of the population.\n",
    "\n",
    "In summary, the z-score measures the number of standard deviations a data point is from the population mean, and is useful for determining the position of a data point relative to the rest of the population. In this case, the z-score of 1 for a data point of 75 indicates that it is one standard deviation above the mean."
   ]
  },
  {
   "cell_type": "markdown",
   "id": "1b8d26db-db81-4289-ae2b-f245e8e262dc",
   "metadata": {},
   "source": [
    "-----------------------------------------------------------------------------------------------------------------------------------------------------------------------------------------"
   ]
  },
  {
   "cell_type": "markdown",
   "id": "b973dcd6-5676-4b39-8cdf-614316907cff",
   "metadata": {},
   "source": [
    "Q10. In a study of the effectiveness of a new weight loss drug, a sample of 50 participants lost an average of 6 pounds with a standard deviation of 2.5 pounds. Conduct a hypothesis test to determine if the drug is significantly effective at a 95% confidence level using a t-test.\n",
    "\n",
    "Ans. To conduct a hypothesis test to determine if the new weight loss drug is significantly effective at a 95% confidence level using a t-test, we need to state our null and alternative hypothesis first.\n",
    "\n",
    "Null hypothesis (H0): The average weight loss for the population is equal to or less than 0.\n",
    "\n",
    "Alternative hypothesis (H1): The average weight loss for the population is greater than 0.\n",
    "\n",
    "We will use a one-sample t-test with a significance level of 0.05.\n",
    "\n",
    "The test statistic can be calculated using the formula:\n",
    "\n",
    "t = (Xbar - mu) / (s / sqrt(n))\n",
    "\n",
    "where:\n",
    "\n",
    "-Xbar is the sample mean weight loss (6 pounds)\n",
    "\n",
    "-mu is the hypothesized population mean weight loss (0 pounds)\n",
    "\n",
    "-s is the sample standard deviation (2.5 pounds)\n",
    "\n",
    "-n is the sample size (50)\n",
    "\n",
    "Substituting the values, we get:\n",
    "\n",
    "t = (6 - 0) / (2.5 / sqrt(50))\n",
    "\n",
    "t = 18.973\n",
    "\n",
    "The degrees of freedom for this test are (n-1) = 49. With a significance level of 0.05 and 49 degrees of freedom, the critical t-value from the t-distribution table is approximately 1.677.\n",
    "\n",
    "Since the calculated t-value (18.973) is greater than the critical t-value (1.677), we reject the null hypothesis and conclude that the weight loss drug is significantly effective at a 95% confidence level.\n",
    "\n",
    "In other words, the sample data provides strong evidence that the true population mean weight loss is greater than 0, indicating that the weight loss drug is effective in promoting weight loss.\n",
    "\n",
    "Therefore, we can conclude that the new weight loss drug is a significant and effective method for weight loss.\n"
   ]
  },
  {
   "cell_type": "markdown",
   "id": "13f61e20-035c-4ed6-ab9e-16e33cf80d1b",
   "metadata": {},
   "source": [
    "-----------------------------------------------------------------------------------------------------------------------------------------------------------------------------------------"
   ]
  },
  {
   "cell_type": "markdown",
   "id": "d9ed8911-b833-4be2-b5be-93d50942394a",
   "metadata": {},
   "source": [
    "Q11. In a survey of 500 people, 65% reported being satisfied with their current job. Calculate the 95% confidence interval for the true proportion of people who are satisfied with their job.\n",
    "\n",
    "Ans. To calculate the 95% confidence interval for the proportion of people who are satisfied with their current job based on a survey of 500 people with 65% satisfaction rate, we can use the following formula:\n",
    "\n",
    "CI = p +/- z * sqrt((p * (1 - p))/n)\n",
    "\n",
    "where p is the sample proportion, z is the z-score for the desired confidence level (95% confidence level corresponds to z=1.96), n is the sample size.\n",
    "\n",
    "Substituting the values given in the question:\n",
    "\n",
    "p = 0.65\n",
    "\n",
    "z = 1.96\n",
    "\n",
    "n = 500\n",
    "\n",
    "CI = 0.65 +/- 1.96 * sqrt((0.65 * (1 - 0.65))/500)\n",
    "\n",
    "Solving the equation above, we get:\n",
    "\n",
    "CI = 0.65 +/- 0.047\n",
    "\n",
    "Therefore, the 95% confidence interval for the true proportion of people who are satisfied with their job is:\n",
    "\n",
    "0.603 <= p <= 0.697\n",
    "\n",
    "So we can say with 95% confidence that the true proportion of people who are satisfied with their job lies between 60.3% and 69.7%."
   ]
  },
  {
   "cell_type": "markdown",
   "id": "ab236766-0870-4417-bd6d-61d676842eae",
   "metadata": {},
   "source": [
    "-----------------------------------------------------------------------------------------------------------------------------------------------------------------------------------------"
   ]
  },
  {
   "cell_type": "markdown",
   "id": "cc1428c4-a177-418d-9e57-fb986d47b4be",
   "metadata": {},
   "source": [
    "Q12. A researcher is testing the effectiveness of two different teaching methods on student performance. Sample A has a mean score of 85 with a standard deviation of 6, while sample B has a mean score of 82 with a standard deviation of 5. Conduct a hypothesis test to determine if the two teaching methods have a significant difference in student performance using a t-test with a significance level of 0.01.\n",
    "\n",
    "Ans. \n",
    "\n",
    "Let us assume that the sample sizes of sample A and sample B are n1=n2=30 to use a t-test.\n",
    "\n",
    "\n",
    "H0: x1bar = x2bar (there is no significant difference in student performance between the two teaching methods)\n",
    "\n",
    "H1: x1bar != x2bar (there is a significant difference in student performance between the two teaching methods)\n",
    "\n",
    "where x1bar is the  mean for sample A and x2bar is mean for sample B.\n",
    "\n",
    "\n",
    "alpha = 0.01\n",
    "\n",
    "\n",
    "We can use the two-sample t-test formula to calculate the test statistic:\n",
    "\n",
    "t = (x1bar - x2bar) / sqrt(s1^2/n1 + s2^2/n2)\n",
    "\n",
    "where x1bar and x2bar are the sample means, s1 and s2 are the sample standard deviations, and n1 and n2 are the sample sizes.\n",
    "\n",
    "Substituting the values we get:\n",
    "\n",
    "t = (85 - 82) / sqrt(6^2/30 + 5^2/30)\n",
    "\n",
    "t = 3 / 1.506\n",
    "\n",
    "t = 1.994\n",
    "\n",
    "\n",
    "We can determine the critical value for a two-tailed test with alpha = 0.01 and degrees of freedom = n1 + n2 - 2 = 58 using a t-distribution table. The critical value is +2.660.\n",
    "\n",
    "\n",
    "\n",
    "Since the calculated t-value of 1.994 is less than the critical value of +/-2.660, we fail to reject the null hypothesis. Therefore, we can conclude that there is insufficient evidence to support the claim that there is a significant difference in student performance between the two teaching methods at a significance level of 0.01.\n",
    "\n",
    "In other words, we cannot reject the hypothesis that both teaching methods have the same effect on student performance.\n",
    "\n",
    "\n"
   ]
  },
  {
   "cell_type": "markdown",
   "id": "5730c034-5f54-41a2-a6b2-8a499c6ec3f8",
   "metadata": {},
   "source": [
    "-----------------------------------------------------------------------------------------------------------------------------------------------------------------------------------------"
   ]
  },
  {
   "cell_type": "markdown",
   "id": "fee0be8e-7087-4a4b-a429-1a97550166ad",
   "metadata": {},
   "source": [
    "Q13. A population has a mean of 60 and a standard deviation of 8. A sample of 50 observations has a mean of 65. Calculate the 90% confidence interval for the true population mean.\n",
    "\n",
    "Ans. To calculate the 90% confidence interval for the true population mean given a sample of 50 observations, we can use the following formula:\n",
    "\n",
    "CI = Xbar +/- Z * (sigma/sqrt(n))\n",
    "\n",
    "Where Xbar is the sample mean, Z is the critical value from the standard normal distribution table for a 90% confidence level (which is 1.65), sigma is the population standard deviation, and n is the sample size.\n",
    "\n",
    "Substituting the values given in the question:\n",
    "\n",
    "Xbar = 65 (sample mean)\n",
    "\n",
    "sigma = 8 (population standard deviation)\n",
    "\n",
    "n = 50 (sample size)\n",
    "\n",
    "Z = 1.65 (critical value for a 90% confidence level)\n",
    "\n",
    "We can now compute the confidence interval:\n",
    "\n",
    "CI = 65 +/- (1.65) * (8/√50)\n",
    "\n",
    "CI = (63.13, 66.87)\n",
    "\n",
    "Therefore, we can say with 90% confidence that the true population mean falls between 63.13 and 66.87 based on the given sample."
   ]
  },
  {
   "cell_type": "markdown",
   "id": "9bcb6aa9-d378-4da7-8379-6a6d771e30cb",
   "metadata": {},
   "source": [
    "----------------------------------------------------------------------------------------------------------------------------------------------------------------------------------------"
   ]
  },
  {
   "cell_type": "markdown",
   "id": "27036a42-4fff-4fc5-bc3f-e600d2eceb5d",
   "metadata": {},
   "source": [
    "Q14. In a study of the effects of caffeine on reaction time, a sample of 30 participants had an average reaction time of 0.25 seconds with a standard deviation of 0.05 seconds. Conduct a hypothesis test to determine if the caffeine has a significant effect on reaction time at a 90% confidence level using a t-test.\n",
    "\n",
    "Ans. \n",
    "\n",
    "The null hypothesis is that caffeine has no significant effect on reaction time:\n",
    "H0: xbar-mu = 0.25\n",
    "\n",
    "The alternative hypothesis is that caffeine has a significant effect on reaction time:\n",
    "Ha: xbar-mu != 0\n",
    "\n",
    "where mu is the true population mean of reaction time.\n",
    "\n",
    "The significance level is given as 0.1\n",
    "\n",
    "Degrees of freedom can be calculated as: df = n - 1 = 30 - 1 = 29, where n is the sample size.\n",
    "\n",
    "We can calculate the t-score using the following formula:\n",
    "\n",
    "t = ( xbar - mu ) / ( s / sqrt(n) )\n",
    "\n",
    "where xbar is the sample mean, mu is the population mean, s is the sample standard deviation, and n is the sample size.\n",
    "\n",
    "Substituting the values given in the question:\n",
    "\n",
    "xbar = 0.25 (sample mean)\n",
    "\n",
    "s = 0.05 (sample standard deviation)\n",
    "\n",
    "n = 30 (sample size)\n",
    "\n",
    "mu  (population mean)\n",
    "\n",
    "We can now compute the t-score:\n",
    "\n",
    "t = (0) / (0.05 / sqrt(30))\n",
    "t = 0\n",
    "\n",
    "Using the significance level and degrees of freedom, we can determine the critical t-value from the t-distribution table. For a two-tailed test with 0.1 significance level and df=29, the critical values are ±1.699.\n",
    "\n",
    "Since the t-score (0) is not in the rejection region (outside ±1.699), we fail to reject the null hypothesis. This means that there is not enough evidence to conclude that caffeine has a significant effect on reaction time at a 90% confidence level. \n",
    "\n",
    "In conclusion, the data does not support the claim that caffeine has a significant effect on reaction time at a 90% confidence level based on the given sample."
   ]
  },
  {
   "cell_type": "markdown",
   "id": "509f2827-cabe-4139-ab56-ff2b029edcbd",
   "metadata": {},
   "source": [
    "-----------------------------------------------------------------------------------------------------------------------------------------------------------------------------------------"
   ]
  },
  {
   "cell_type": "code",
   "execution_count": null,
   "id": "cbe170fa-dbd0-41b3-9c50-17e82c78fe39",
   "metadata": {},
   "outputs": [],
   "source": []
  }
 ],
 "metadata": {
  "kernelspec": {
   "display_name": "Python 3 (ipykernel)",
   "language": "python",
   "name": "python3"
  },
  "language_info": {
   "codemirror_mode": {
    "name": "ipython",
    "version": 3
   },
   "file_extension": ".py",
   "mimetype": "text/x-python",
   "name": "python",
   "nbconvert_exporter": "python",
   "pygments_lexer": "ipython3",
   "version": "3.10.8"
  }
 },
 "nbformat": 4,
 "nbformat_minor": 5
}
