{
 "cells": [
  {
   "cell_type": "code",
   "execution_count": 3,
   "id": "d17daccc-6f79-434a-9f96-2c0333c34556",
   "metadata": {},
   "outputs": [
    {
     "name": "stdout",
     "output_type": "stream",
     "text": [
      "1.9842169515086827\n"
     ]
    }
   ],
   "source": [
    "\"\"\"Q1. Calculate the 95% confidence interval for a sample of data with a mean of 50 and a standard deviation\n",
    "of 5 using Python. Interpret the results.\n",
    "\"\"\"\n",
    "\n",
    "# Solution:- \n",
    "\n",
    "import scipy.stats as stat\n",
    "\n",
    "sample_mean = 50\n",
    "sample_std = 5\n",
    "\n",
    "# Assuming sample size to be 100\n",
    "\n",
    "n = 100\n",
    "\n",
    "critical_value = stat.t.ppf(0.975,n-1)\n",
    "print(critical_value)"
   ]
  },
  {
   "cell_type": "code",
   "execution_count": 9,
   "id": "fd2c5b50-c043-4b6f-83f4-a4045fcdb30e",
   "metadata": {},
   "outputs": [
    {
     "name": "stdout",
     "output_type": "stream",
     "text": [
      "0.9921084757543414\n"
     ]
    }
   ],
   "source": [
    "# calculating margin of error(moe):-\n",
    "\n",
    "moe = critical_value*(sample_std/n**0.5)\n",
    "print(moe)"
   ]
  },
  {
   "cell_type": "code",
   "execution_count": 10,
   "id": "d6304357-0fa4-4d00-91a2-f197d790c6d2",
   "metadata": {},
   "outputs": [
    {
     "name": "stdout",
     "output_type": "stream",
     "text": [
      "Lower Bound: 49.00789152424566\n"
     ]
    }
   ],
   "source": [
    "lower_bound = 50-moe\n",
    "print(f\"Lower Bound: {lower_bound}\")"
   ]
  },
  {
   "cell_type": "code",
   "execution_count": 11,
   "id": "610eee49-880b-4761-9251-ce99d8ccb28c",
   "metadata": {},
   "outputs": [
    {
     "name": "stdout",
     "output_type": "stream",
     "text": [
      "Upper Bound: 50.99210847575434\n"
     ]
    }
   ],
   "source": [
    "upper_bound = 50+moe\n",
    "print(f\"Upper Bound: {upper_bound}\")"
   ]
  },
  {
   "cell_type": "code",
   "execution_count": 16,
   "id": "7eb11c00-ffdb-4d04-aa4d-71b6568f6251",
   "metadata": {},
   "outputs": [
    {
     "name": "stdout",
     "output_type": "stream",
     "text": [
      "The 95% confidence interval is 49.01, 50.99\n"
     ]
    }
   ],
   "source": [
    "print(f\"The 95% confidence interval is {round(lower_bound,2)}, {round(upper_bound,2)}\")"
   ]
  },
  {
   "cell_type": "markdown",
   "id": "961bfe13-a112-4d01-aeba-386848533dac",
   "metadata": {},
   "source": [
    "------------------------------------------------------------------------------------------------------------------------------------------------------"
   ]
  },
  {
   "cell_type": "code",
   "execution_count": 21,
   "id": "ca525fb5-9760-4223-9d55-8558020a931e",
   "metadata": {},
   "outputs": [
    {
     "name": "stdout",
     "output_type": "stream",
     "text": [
      "40.0\n"
     ]
    }
   ],
   "source": [
    "\"\"\"Q2. Conduct a chi-square goodness of fit test to determine if the distribution of colors of M&Ms in a bag\n",
    "matches the expected distribution of 20% blue, 20% orange, 20% green, 10% yellow, 10% red, and 20%\n",
    "brown. Use Python to perform the test with a significance level of 0.05.\n",
    "\"\"\"\n",
    "\n",
    "import scipy.stats as stat\n",
    "\n",
    "# Solution:-\n",
    "\n",
    "# Let the total observed M&Ms in bag be 100\n",
    "# observed Blue = 30, orange = 10, green = 10, yellow = 20, red = 20, brown = 10\n",
    "\n",
    "observed = [30, 10, 10, 20, 20, 10]\n",
    "\n",
    "# expected = [0.2*100, 0.2*100, 0.2*100, 0.1*100, 0.1*100, 0.2*100]\n",
    "expected = [20, 20, 20, 10, 10, 20]\n",
    "\n",
    "chi_square_test_val, p_val =  stat.chisquare(observed, expected)\n",
    "print(chi_square_test_val)"
   ]
  },
  {
   "cell_type": "code",
   "execution_count": 19,
   "id": "baff60d8-eddb-4c24-b1cc-ed6f84587227",
   "metadata": {},
   "outputs": [
    {
     "name": "stdout",
     "output_type": "stream",
     "text": [
      "11.070497693516351\n"
     ]
    }
   ],
   "source": [
    "# given alpha = 0.05\n",
    "\n",
    "alpha = 0.05\n",
    "dof = len(expected)-1\n",
    "critical_value = stat.chi2.ppf(1-alpha,dof)\n",
    "print(critical_value)"
   ]
  },
  {
   "cell_type": "code",
   "execution_count": 20,
   "id": "5341918f-bb81-4921-abb0-250976916da4",
   "metadata": {},
   "outputs": [
    {
     "name": "stdout",
     "output_type": "stream",
     "text": [
      "Reject Null Hypothesis H0\n"
     ]
    }
   ],
   "source": [
    "if chi_square_test_val>critical_value:\n",
    "    print(\"Reject Null Hypothesis H0\")\n",
    "else:\n",
    "    print(\"We fail to reject Null Hypothesis\")"
   ]
  },
  {
   "cell_type": "markdown",
   "id": "d08362e9-24e6-437c-b01c-0cc0c59d31c8",
   "metadata": {},
   "source": [
    "-----------------------------------------------------------------------------------------------------------------------------------------------------------------------------------------"
   ]
  },
  {
   "cell_type": "code",
   "execution_count": 2,
   "id": "afbf2eb6-7cbe-4f09-b998-d6d3655917fc",
   "metadata": {},
   "outputs": [
    {
     "name": "stdout",
     "output_type": "stream",
     "text": [
      "chi-square statistics: 5.833333333333334, P value: 0.05411376622282158\n"
     ]
    }
   ],
   "source": [
    "\"\"\" Q3.\n",
    "\"\"\"\n",
    "\n",
    "# Solution:-\n",
    "\n",
    "import numpy as np\n",
    "import scipy.stats as stat\n",
    "\n",
    "contigency_table = np.array([[20,15],\n",
    "                             [10,25],\n",
    "                             [15,20]])\n",
    "\n",
    "chi_stats, p_val,dof,expected = stat.chi2_contingency(contigency_table)\n",
    "print(f\"chi-square statistics: {chi_stats}, P value: {p_val}\")"
   ]
  },
  {
   "cell_type": "code",
   "execution_count": 3,
   "id": "7ec58fb0-265c-4f0d-a11d-a0f4872dccc7",
   "metadata": {},
   "outputs": [
    {
     "name": "stdout",
     "output_type": "stream",
     "text": [
      "Reject Null Hypothesis\n"
     ]
    }
   ],
   "source": [
    "# since chi_stats > p_val:-\n",
    "\n",
    "if chi_stats > p_val:\n",
    "    print(\"Reject Null Hypothesis\")\n",
    "else:\n",
    "    print(\"Fail to reject Null Hypothesis\")"
   ]
  },
  {
   "cell_type": "markdown",
   "id": "fb75a07e-dffe-4093-a950-b575db9d9734",
   "metadata": {},
   "source": [
    "-----------------------------------------------------------------------------------------------------------------------------------------------------------------------------------------"
   ]
  },
  {
   "cell_type": "code",
   "execution_count": 2,
   "id": "91eda5a7-82f0-440c-babd-c0bfd457dbf7",
   "metadata": {},
   "outputs": [
    {
     "name": "stdout",
     "output_type": "stream",
     "text": [
      "The 95% confidence interval is (0.09151586546865079, 0.1484841345313492)\n",
      "Therefore, we can say with 95% confidence that the true proportion of individuals in the population who smoke is between 0.09151586546865079 and 0.1484841345313492.\n"
     ]
    }
   ],
   "source": [
    "\"\"\"Q4. A study of the prevalence of smoking in a population of 500 individuals found that 60 individuals smoked. Use Python to calculate the 95% confidence interval for the true proportion of individuals in the population who smoke.\n",
    "\"\"\"\n",
    "# Solution:-\n",
    "\n",
    "n = 500   # sample size\n",
    "x = 60    # people who smoke\n",
    "\n",
    "p = x/n   # sample proportion\n",
    "\n",
    "# using formula  CI = p +/- z*sqrt((p*(1-p))/n)\n",
    "\n",
    "z = 1.96  # for 95% confidence level\n",
    "\n",
    "upper_bound = p + z*((p*(1-p))/n)**0.5\n",
    "lower_bound = p - z*((p*(1-p))/n)**0.5\n",
    "\n",
    "\n",
    "print(f\"The 95% confidence interval is ({lower_bound}, {upper_bound})\")\n",
    "print(f\"Therefore, we can say with 95% confidence that the true proportion of individuals in the population who smoke is between {lower_bound} and {upper_bound}.\")"
   ]
  },
  {
   "cell_type": "markdown",
   "id": "db1e1470-8a68-43e5-8a41-937113373ef4",
   "metadata": {},
   "source": [
    "-----------------------------------------------------------------------------------------------------------------------------------------------------------------------------------------"
   ]
  },
  {
   "cell_type": "code",
   "execution_count": 5,
   "id": "3b270fd2-9bfd-4d33-9f91-b8e9bf785e13",
   "metadata": {},
   "outputs": [
    {
     "name": "stdout",
     "output_type": "stream",
     "text": [
      "The 90% confidence interval is (72.12679284214839, 77.87320715785161)\n",
      "We can say with 90% confidence that the true population mean falls between 72.12679284214839 and 77.87320715785161. \n"
     ]
    }
   ],
   "source": [
    "\"\"\"Q5. Calculate the 90% confidence interval for a sample of data with a mean of 75 and a standard deviation of 12 using Python. Interpret the results.\n",
    "\"\"\"\n",
    "import scipy.stats as stat\n",
    "\n",
    "# Solution:-\n",
    "\n",
    "n = 30  # assume sample size n = 30\n",
    "\n",
    "xbar = 75 # sample mean\n",
    "\n",
    "sample_std = 12 # sample standard deviation\n",
    "\n",
    "dof = n-1   # degree of freedom\n",
    "\n",
    "t_val = stat.t.ppf(0.90, dof)\n",
    "\n",
    "# using formula:-  CI = xbar +/- t_val*(sample_std/n**0.5)\n",
    "\n",
    "lower_bound = xbar - t_val*(sample_std/n**0.5)\n",
    "upper_bound = xbar + t_val*(sample_std/n**0.5)\n",
    "\n",
    "print(f\"The 90% confidence interval is ({lower_bound}, {upper_bound})\")\n",
    "print(f\"We can say with 90% confidence that the true population mean falls between {lower_bound} and {upper_bound}. \")"
   ]
  },
  {
   "cell_type": "markdown",
   "id": "d25a6b48-dfeb-4503-9e14-1c8045e3a96c",
   "metadata": {},
   "source": [
    "-----------------------------------------------------------------------------------------------------------------------------------------------------------------------------------------"
   ]
  },
  {
   "cell_type": "code",
   "execution_count": 47,
   "id": "78643db7-7306-4357-a673-a3658b4037bb",
   "metadata": {},
   "outputs": [
    {
     "data": {
      "image/png": "[encoded data removed]",
      "text/plain": [
       "<Figure size 640x480 with 1 Axes>"
      ]
     },
     "metadata": {},
     "output_type": "display_data"
    }
   ],
   "source": [
    "\"\"\"Q6. Use Python to plot the chi-square distribution with 10 degrees of freedom. Label the axes and shade the\n",
    "area corresponding to a chi-square statistic of 15.\n",
    "\"\"\"\n",
    "\n",
    "# Solution:-\n",
    "\n",
    "import numpy as np\n",
    "import matplotlib.pyplot as plt\n",
    "import scipy.stats as stat\n",
    "\n",
    "x = np.linspace(stat.chi2.ppf(0.01,df), stat.chi2.ppf(0.99, df), 1000)\n",
    "y = stat.chi2.pdf(x, df)\n",
    "plt.plot(x, y, color = \"black\", label = \"Pdf\")\n",
    "plt.fill_between(x[x>=15],stat.chi2.pdf(x[x>=15], df), color = \"grey\")\n",
    "plt.xlabel(\"Chi-Square Statistics\")\n",
    "plt.ylabel(\"Probability Density(Pdf)\")\n",
    "plt.legend(loc='best', frameon=False)\n",
    "plt.show()"
   ]
  },
  {
   "cell_type": "markdown",
   "id": "65998596-052e-4fce-a574-56a595c781cc",
   "metadata": {},
   "source": [
    "-----------------------------------------------------------------------------------------------------------------------------------------------------------------------------------------"
   ]
  },
  {
   "cell_type": "code",
   "execution_count": 50,
   "id": "d5f7491a-e373-4eed-8a5b-ec8615052058",
   "metadata": {},
   "outputs": [
    {
     "name": "stdout",
     "output_type": "stream",
     "text": [
      "The 99% confidence interval is (0.47930246089012263, 0.5606975391098774)\n"
     ]
    }
   ],
   "source": [
    "\"\"\"Q7. A random sample of 1000 people was asked if they preferred Coke or Pepsi. Of the sample, 520\n",
    "preferred Coke. Calculate a 99% confidence interval for the true proportion of people in the population who\n",
    "prefer Coke.\n",
    "\"\"\"\n",
    "\n",
    "# Solution:-\n",
    "\n",
    "n = 1000  # sample size\n",
    "\n",
    "p =  520/1000  # proportion of those who preffered coke \n",
    "\n",
    "standard_error = ((p*(1-p))/n)**0.5\n",
    "\n",
    "z_val = 2.576 # for 99% confidence level\n",
    "\n",
    "lower_bound = p - z_val*standard_error\n",
    "upper_bound = p + z_val*standard_error\n",
    "\n",
    "print(f\"The 99% confidence interval is ({lower_bound}, {upper_bound})\")"
   ]
  },
  {
   "cell_type": "markdown",
   "id": "4ec7573c-3c21-4209-8293-237c0d18445c",
   "metadata": {},
   "source": [
    "-----------------------------------------------------------------------------------------------------------------------------------------------------------------------------------------"
   ]
  },
  {
   "cell_type": "markdown",
   "id": "8438d76a-b52e-40ff-8476-dcf63f4de149",
   "metadata": {},
   "source": [
    "Q8. A researcher hypothesizes that a coin is biased towards tails. They flip the coin 100 times and observe\n",
    "45 tails. Conduct a chi-square goodness of fit test to determine if the observed frequencies match the\n",
    "expected frequencies of a fair coin. Use a significance level of 0.05.\n",
    "\n",
    "\n",
    "Ans. \n",
    "\n",
    "Null Hypothesis(H0):- we assume that the coin is fair and has equal probability of getting head Pb(H) = 0.5 and tails Pb(T) = 0.5.\n",
    "     \n",
    "Alternate Hypothesis(H1):- Coin is biased towards tails\n",
    "\n",
    "\n",
    "According to Null Hypothesis if we flip coin 100 times  we get 50 heads and 50 tails.\n",
    "\n",
    "Thus:-  Expected-> 50(Heads) and 50(Tails)\n",
    "\n",
    "From observation we get:-\n",
    "\n",
    "55(Heads) and  45(Tails)\n",
    "\n",
    "Now performing Chi-square test:-\n",
    "\n",
    "chi-square Stats = summation (O-E)^2/E\n",
    "\n",
    " = (55-50)^2/50 + (45-50)^2/50\n",
    " = 1\n",
    " \n",
    "For significance level of 0.05 and Degree of freedom = 2-1 => 1  :-\n",
    "\n",
    "critical value = 3.841  (Using Chi-square table)\n",
    "\n",
    "Conclusion:-\n",
    "\n",
    "Since chi-square stats(1)< critical value(3.841) we can  say that we fail to reject the Null Hypothesis i.e. we don't have enough evidence to say that coin is biased towards tail. "
   ]
  },
  {
   "cell_type": "markdown",
   "id": "1fedb4b4-b3a8-4b5e-880c-02cf3ba64bf6",
   "metadata": {},
   "source": [
    "-----------------------------------------------------------------------------------------------------------------------------------------------------------------------------------------"
   ]
  },
  {
   "cell_type": "markdown",
   "id": "f7f13e21-cafb-46b0-9443-99e9a123f232",
   "metadata": {},
   "source": [
    "Q9. A study was conducted to determine if there is an association between smoking status (smoker or\n",
    "non-smoker) and lung cancer diagnosis (yes or no). The results are shown in the contingency table below.\n",
    "Conduct a chi-square test for independence to determine if there is a significant association between\n",
    "smoking status and lung cancer diagnosis.\n",
    "\n",
    "Use a significance level of 0.05.\n",
    "\n",
    "\n",
    "                       Lung Cancer: Yes            Lung Cancer: No    Total\n",
    "\n",
    "Smoker                      60(a)                          140(b)           200(a+b)\n",
    "\n",
    "Non-smoker                  30(c)                          170(d)           200(c+d)\n",
    "\n",
    "Total                       90(a+c)                        310(b+d)         400(n = sample size)\n",
    "\n",
    "Ans. \n",
    "\n",
    "Null Hypothesis(H0) : There is a no significant association between smoking status and lung cancer diagnosis.\n",
    "\n",
    "Alternate Hypothesis(H1): There is  significant association between smoking status and lung cancer diagnosis.\n",
    "\n",
    "From contigency table  we can see:-\n",
    "\n",
    "a. observed that 60 people have cancer and are smoker.\n",
    "\n",
    "b. observed that 140 people have no cancer and are smoker.\n",
    "\n",
    "c. observed that 30 people have cancer and are non-smoker.\n",
    "\n",
    "d. observed that 170 people have no cancer and are non-smoker.\n",
    "\n",
    "Expected:-\n",
    "\n",
    "Expected people who have lung cancer and are smoker:- ((a+c) * (a+b))/n = 90*200/400 = 45\n",
    "\n",
    "Expected people who have no cancer and are smoker:-  ((b+d) * (a+b))/n = 310*200/400 = 155\n",
    "\n",
    "Expected people who have  cancer and are non smoker:- ((a+c) * (c+d))/n = 90*200/400 = 45\n",
    "\n",
    "Expected people who have no cancer and are non smoker:- ((b+d) * (c+d))/n = 310*200/400 = 155\n",
    "\n",
    "\n",
    "\n",
    "chi-square test(X^2) = summation((O-E)^2/E) = (60-45)^2/45 + (140-155)^2/155 + (30-45)^2/45 + (170-155)^2/155= 225/45 + 225/155 + 225/45 + 225/155 = 12.90\n",
    "\n",
    "degree of freedom = (Number of rows - 1) * (Number of columns -1) = (2-1) * (2-1) = 1\n",
    "\n",
    "dof = 1\n",
    "\n",
    "significance level = 0.05\n",
    "\n",
    "Using chi-square table for dof=1 and significance level = 0.05:-\n",
    "\n",
    "critical value = 3.841\n",
    "\n",
    "Conclusion:-\n",
    "\n",
    "Since test val(12.90) > critical val(3.841) we reject Null Hypothesis and can say that there seems to be  significant association between\n",
    "smoking status and lung cancer diagnosis.\n"
   ]
  },
  {
   "cell_type": "markdown",
   "id": "55c47eb3-5b03-496d-86dc-52458c115657",
   "metadata": {},
   "source": [
    "----------------------------------------------------------------------------------------------------------------------------------------------------------------------------------------"
   ]
  },
  {
   "cell_type": "markdown",
   "id": "f1e8ac17-2f49-4866-a569-88a1456ce4f6",
   "metadata": {},
   "source": [
    "Q10. A study was conducted to determine if the proportion of people who prefer milk chocolate, darkchocolate, or white chocolate is different in the U.S. versus the U.K. A random sample of 500 people from the U.S. and a random sample of 500 people from the U.K. were surveyed. The results are shown in the contingency table below. Conduct a chi-square test for independence to determine if there is a significant association between chocolate preference and country of origin.\n",
    "\n",
    "\n",
    "                Milk Chocolate    Dark Chocolate             White Chocolate       Total\n",
    "                \n",
    "U.S.(n=500)(1)      200(1)                 150(2)                   150(3)            500(1)(1+2+3)\n",
    "\n",
    "U.K.(n=500)(2)      225(1)                 175(2)                   100(3)            500(2)(1+2+3)\n",
    "\n",
    "Total               445                    325                      250               n = 1000(sample size)\n",
    "\n",
    "Use a significance level of 0.01.\n",
    "\n",
    "\n",
    "Ans.  \n",
    "\n",
    "\n",
    "\n",
    "Null hypothesis (H0):- would be that there is no significant association between chocolate preference and country of origin.\n",
    "\n",
    "Alternative hypothesis (H1):- would be that there is a significant association between chocolate preference and country of origin.\n",
    "\n",
    "To calculate the expected frequencies for each cell in the contingency table, we can use the formula: (row total * column total) / n, where n is the total sample size. Using this formula, we get:\n",
    "\n",
    "Expected frequency for cell (1,1) = (500 * 445) / 1000 = 222.5\n",
    "\n",
    "Expected frequency for cell (1,2) = (500 * 325) / 1000 = 162.5\n",
    "\n",
    "Expected frequency for cell (1,3) = (500 * 250) / 1000 = 125\n",
    "\n",
    "Expected frequency for cell (2,1) = (500 * 445) / 1000 = 222.5\n",
    "\n",
    "Expected frequency for cell (2,2) = (500 * 325) / 1000 = 162.5\n",
    "\n",
    "Expected frequency for cell (2,3) = (500 * 250) / 1000 = 125\n",
    "\n",
    "Calculate the chi-square statistic. The formula for the chi-square statistic for a test of independence is:\n",
    "\n",
    "X^2 = summation((O-E)^2 / E)\n",
    "\n",
    "Using this formula and the observed and expected frequencies from the question, we get: \n",
    "\n",
    "X^2 = ((200-222.5)^2 / 222.5) + ((150-162.5)^2 / 162.5) + ((150-125)^2 / 125) + ((225-222.5)^2 / 222.5) + ((175-162.5)^2 / 162.5) + ((100-125)^2 / 125) \n",
    "\n",
    "= 2.27 + 0.96 + 5 + 0.028 + 0.96 + 5\n",
    "\n",
    "X^2 = 14.218\n",
    "\n",
    "The degrees of freedom would be (rows-1) x (cols-1) = 2\n",
    "\n",
    "For significance level 0.01 and dof = 2 critical value would be:-\n",
    "\n",
    "critical value = 9.210\n",
    "\n",
    "\n",
    "Conclusion:-\n",
    "\n",
    "Since the calculated chi-square statistic (14.218) is greater than the critical value (9.210), we reject the null hypothesis of no association and conclude that there is a significant association between chocolate preference and country of origin.\n"
   ]
  },
  {
   "cell_type": "markdown",
   "id": "e640d174-392c-48ed-a1eb-184d07fe5ade",
   "metadata": {},
   "source": [
    "-----------------------------------------------------------------------------------------------------------------------------------------------------------------------------------------"
   ]
  },
  {
   "cell_type": "markdown",
   "id": "9aedbc24-808a-47b3-8e58-9cf0fd816111",
   "metadata": {},
   "source": [
    "Q11. A random sample of 30 people was selected from a population with an unknown mean and standarddeviation. The sample mean was found to be 72 and the sample standard deviation was found to be 10.Conduct a hypothesis test to determine if the population mean is significantly different from 70. Use a significance level of 0.05.\n",
    "\n",
    "Ans. \n",
    "\n",
    "Null Hypothesis(H0):- mu = 70  population mean is not significantly different from 70.\n",
    "\n",
    "Alternate Hypothesis(H1):- mu != 70  population mean is significantly different from 70.\n",
    "\n",
    "using t-test we get:-\n",
    "\n",
    "t-test value = (72-70)/(10/30**0.5)\n",
    "\n",
    "t-test value = 1.095\n",
    "\n",
    "degree of freedom = n-1 => 30-1 => 29\n",
    "\n",
    "for significance level of 0.05 and dof = 29 critical value:-\n",
    "\n",
    "critical value = 1.699\n",
    "\n",
    "Conclusion:-\n",
    "\n",
    "Since, t-test value(1.095) < critical value(1.699), we fail to reject Null Hypothesis and can say that we don't have enough data to say that population mean is significantly different from 70 at a significance level of 0.05."
   ]
  },
  {
   "cell_type": "markdown",
   "id": "c19d7890-31b7-401f-a6b4-233326757fa4",
   "metadata": {},
   "source": [
    "------------------------------------------------------------------------------------------------------------------------------------------------------------------------------------------"
   ]
  },
  {
   "cell_type": "code",
   "execution_count": null,
   "id": "f6ca8a9b-4a9a-41b6-8cab-121455d33130",
   "metadata": {},
   "outputs": [],
   "source": []
  }
 ],
 "metadata": {
  "kernelspec": {
   "display_name": "Python 3 (ipykernel)",
   "language": "python",
   "name": "python3"
  },
  "language_info": {
   "codemirror_mode": {
    "name": "ipython",
    "version": 3
   },
   "file_extension": ".py",
   "mimetype": "text/x-python",
   "name": "python",
   "nbconvert_exporter": "python",
   "pygments_lexer": "ipython3",
   "version": "3.10.8"
  }
 },
 "nbformat": 4,
 "nbformat_minor": 5
}
