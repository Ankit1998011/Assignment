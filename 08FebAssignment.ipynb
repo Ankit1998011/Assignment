{
 "cells": [
  {
   "cell_type": "markdown",
   "id": "79b35819-3b2e-4ad0-9cd7-96c4802db6f9",
   "metadata": {},
   "source": [
    "# Q1. What is Abstraction in OOps? Explain with an example.\n",
    "\n",
    "Ans. It is a way to hide the unnecessary code details from the user. Also,  when we do not want to give out sensitive parts of our code implementation and this is where data abstraction came.\n",
    "Data Abstraction in Python can be achieved through creating abstract classes.\n",
    "\n",
    "for ex:-  When we are using a computer a normal user doesn't know the internal workings they only know that if we give input it will give desired output without knowing\n",
    "how it works.\n"
   ]
  },
  {
   "cell_type": "code",
   "execution_count": null,
   "id": "e2020ae3-8c89-46ef-89de-ec9136993f19",
   "metadata": {},
   "outputs": [],
   "source": [
    "# example:-\n",
    "\n",
    "from abc import ABC,abstractmethod\n",
    "\n",
    "class Animal(ABC):      # Here Class Animal is a abstract class\n",
    "    @abstractmethod\n",
    "    def makes_sound(self):\n",
    "        pass"
   ]
  },
  {
   "cell_type": "markdown",
   "id": "5ba31027-b557-4932-8815-1749a26ec7ee",
   "metadata": {},
   "source": [
    "------------------------------------------------------------------------------------------------------------------------------------------------------------------------------------------"
   ]
  },
  {
   "cell_type": "markdown",
   "id": "15de658b-3e4b-4a59-aefb-78e094eda603",
   "metadata": {},
   "source": [
    "Q2. Differentiate between Abstraction and Encapsulation. Explain with an example.\n",
    "\n",
    "Ans.  Abstraction:- It is a way to hide the unnecessary code details from the user. Also,  when we do not want to give out sensitive parts of our code implementation and this is where data abstraction came.\n",
    "Data Abstraction in Python can be achieved through creating abstract classes.\n",
    "\n",
    "Example:-\n",
    "\n",
    "The best example of abstraction can be an ATM machine which can be used for cash transfer, withdrawal, inquiring account balance, etc. We utilize ATM machines to achieve different functionalities but when we put the card in the ATM, we have no idea what operations are happening within the ATM machine.\n",
    "\n"
   ]
  },
  {
   "cell_type": "markdown",
   "id": "028a634f-d9a8-4416-8223-0282c0eee682",
   "metadata": {},
   "source": [
    "Encapsulation:- Encapsulation is one of the fundamental concepts in object-oriented programming. \n",
    "It describes the idea of wrapping data and the methods that work on data within one unit.\n",
    "This puts restrictions on accessing variables and methods directly and can prevent the accidental modification of data.\n",
    "To prevent accidental change, an object’s variable can only be changed by an object’s method.\n",
    "Those types of variables are known as private variables.\n",
    "\n",
    "A class is an example of encapsulation as it encapsulates all the data that is member functions, variables, etc.\n",
    "\n",
    "Example:-\n",
    "\n",
    "A class is an example of encapsulation as it binds all the data members (instance variables) and methods into a single unit.\n",
    "\n",
    "-----------------------------------------------------------------------------------------------------------------------------------------------------------------------------------------"
   ]
  },
  {
   "cell_type": "markdown",
   "id": "06f707f6-6c71-498a-9d55-50cf6b14f67e",
   "metadata": {},
   "source": [
    "Q3. What is abc module in python? Why is it used?\n",
    "\n",
    "Ans. 'abc' stands for 'abstract base class'. It is used to provide a standardized way to test whether an object adheres to a given specification. It can also prevent any attempt to instantiate a subclass that doesn’t override a particular method in the superclass.\n",
    "\n",
    "And finally, using an abstract class, a class can derive identity from another class without any object inheritance."
   ]
  },
  {
   "cell_type": "code",
   "execution_count": 1,
   "id": "e7816110-1f08-4343-b545-0a5613bc9489",
   "metadata": {},
   "outputs": [],
   "source": [
    "#using abc module to create an abstract class:-\n",
    "\n",
    "from abc import ABC,abstractmethod\n",
    "\n",
    "class Animal(ABC):      # Here Class Animal is a abstract class\n",
    "    @abstractmethod\n",
    "    def makes_sound(self):\n",
    "        pass"
   ]
  },
  {
   "cell_type": "markdown",
   "id": "d291b012-1886-4143-ade5-8f3812eaec9f",
   "metadata": {},
   "source": [
    "-----------------------------------------------------------------------------------------------------------------------------------------------------------------------------------------"
   ]
  },
  {
   "cell_type": "markdown",
   "id": "637fbe12-f898-4680-a9c7-86c0dea60d0e",
   "metadata": {},
   "source": [
    "Q4. How can we achieve data abstraction?\n",
    "\n",
    "Ans. In Python, abstraction can be achieved by using abstract classes and methods in our programs."
   ]
  },
  {
   "cell_type": "markdown",
   "id": "320a5744-de2d-4e11-aedf-d01ff7e39efd",
   "metadata": {},
   "source": [
    "----------------------------------------------------------------------------------------------------------------------------------------------------------------------------------------"
   ]
  },
  {
   "cell_type": "markdown",
   "id": "b716e3fc-c400-4e92-b625-bf418f8ad6d5",
   "metadata": {},
   "source": [
    "Q5. Can we create an instance of an abstract class? Explain your answer.\n",
    "\n",
    "Ans. Abstract classes cannot be instantiated, but they can be subclassed.\n",
    "\n",
    "When an abstract class is subclassed, the subclass usually provides implementations for all of the abstract methods in its parent class."
   ]
  },
  {
   "cell_type": "code",
   "execution_count": 3,
   "id": "3332aa01-4d61-44ba-a927-90b13a652ec2",
   "metadata": {},
   "outputs": [],
   "source": [
    "# Example:-\n",
    "\n",
    "from abc import ABC,abstractmethod\n",
    "\n",
    "class Animal(ABC):  # abstract class Animal\n",
    "    @abstractmethod\n",
    "    def makes_sound(self):\n",
    "        pass\n",
    "\n",
    "class Dog(Animal):\n",
    "    def makes_sound(self):\n",
    "        print(\"Woof!Woof!\")\n",
    "\n"
   ]
  },
  {
   "cell_type": "code",
   "execution_count": 5,
   "id": "e90c61c5-a53c-47f3-b17a-630868ef8137",
   "metadata": {},
   "outputs": [
    {
     "ename": "TypeError",
     "evalue": "Can't instantiate abstract class Animal with abstract method makes_sound",
     "output_type": "error",
     "traceback": [
      "\u001b[0;31m---------------------------------------------------------------------------\u001b[0m",
      "\u001b[0;31mTypeError\u001b[0m                                 Traceback (most recent call last)",
      "Cell \u001b[0;32mIn[5], line 1\u001b[0m\n\u001b[0;32m----> 1\u001b[0m a1 \u001b[38;5;241m=\u001b[39m \u001b[43mAnimal\u001b[49m\u001b[43m(\u001b[49m\u001b[43m)\u001b[49m  \u001b[38;5;66;03m# cannot create instance of abstract class\u001b[39;00m\n",
      "\u001b[0;31mTypeError\u001b[0m: Can't instantiate abstract class Animal with abstract method makes_sound"
     ]
    }
   ],
   "source": [
    "a1 = Animal()  # cannot create instance of abstract class"
   ]
  },
  {
   "cell_type": "code",
   "execution_count": 6,
   "id": "e15d3f9b-2de3-4965-a0be-e4ce8dba76d5",
   "metadata": {},
   "outputs": [],
   "source": [
    "d1 = Dog()"
   ]
  },
  {
   "cell_type": "code",
   "execution_count": 7,
   "id": "53fc3f00-d6bc-4b18-8d6c-480fc0e06940",
   "metadata": {},
   "outputs": [
    {
     "name": "stdout",
     "output_type": "stream",
     "text": [
      "Woof!Woof!\n"
     ]
    }
   ],
   "source": [
    "d1.makes_sound()"
   ]
  },
  {
   "cell_type": "code",
   "execution_count": null,
   "id": "89811feb-e9e5-43ea-bc78-a983f178315c",
   "metadata": {},
   "outputs": [],
   "source": []
  }
 ],
 "metadata": {
  "kernelspec": {
   "display_name": "Python 3 (ipykernel)",
   "language": "python",
   "name": "python3"
  },
  "language_info": {
   "codemirror_mode": {
    "name": "ipython",
    "version": 3
   },
   "file_extension": ".py",
   "mimetype": "text/x-python",
   "name": "python",
   "nbconvert_exporter": "python",
   "pygments_lexer": "ipython3",
   "version": "3.10.8"
  }
 },
 "nbformat": 4,
 "nbformat_minor": 5
}
