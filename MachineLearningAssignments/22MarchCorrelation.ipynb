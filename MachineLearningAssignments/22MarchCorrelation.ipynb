{
 "cells": [
  {
   "cell_type": "markdown",
   "id": "c2a9033a-682e-4fd3-b91c-844ba50f14d3",
   "metadata": {},
   "source": [
    "### Q1. Pearson correlation coefficient is a measure of the linear relationship between two variables. Suppose\n",
    "### you have collected data on the amount of time students spend studying for an exam and their final exam\n",
    "### scores. Calculate the Pearson correlation coefficient between these two variables and interpret the result."
   ]
  },
  {
   "cell_type": "markdown",
   "id": "ee628085-f418-4946-b056-3436f99906e5",
   "metadata": {},
   "source": [
    "Ans. The Pearson correlation coefficient is a statistical measure that measures the strength and direction of the linear association between two continuous variables.\n",
    "\n",
    "It ranges from -1 to 1, where a value of 1 represents a strong positive correlation, meaning that as one variable increases, the other variable also increases at the same rate. On the other hand, a value of -1 represents a strong negative correlation, meaning that as one variable increases, the other variable decreases at the same rate. A value of 0 represents no correlation between the variables. "
   ]
  },
  {
   "cell_type": "code",
   "execution_count": 59,
   "id": "e837af52-56ab-4b07-9a3e-74d6f205795b",
   "metadata": {},
   "outputs": [
    {
     "data": {
      "text/html": [
       "<div>\n",
       "<style scoped>\n",
       "    .dataframe tbody tr th:only-of-type {\n",
       "        vertical-align: middle;\n",
       "    }\n",
       "\n",
       "    .dataframe tbody tr th {\n",
       "        vertical-align: top;\n",
       "    }\n",
       "\n",
       "    .dataframe thead th {\n",
       "        text-align: right;\n",
       "    }\n",
       "</style>\n",
       "<table border=\"1\" class=\"dataframe\">\n",
       "  <thead>\n",
       "    <tr style=\"text-align: right;\">\n",
       "      <th></th>\n",
       "      <th>Study Time(hours)</th>\n",
       "      <th>Score(100)</th>\n",
       "    </tr>\n",
       "  </thead>\n",
       "  <tbody>\n",
       "    <tr>\n",
       "      <th>0</th>\n",
       "      <td>40</td>\n",
       "      <td>65</td>\n",
       "    </tr>\n",
       "    <tr>\n",
       "      <th>1</th>\n",
       "      <td>35</td>\n",
       "      <td>60</td>\n",
       "    </tr>\n",
       "    <tr>\n",
       "      <th>2</th>\n",
       "      <td>20</td>\n",
       "      <td>30</td>\n",
       "    </tr>\n",
       "    <tr>\n",
       "      <th>3</th>\n",
       "      <td>70</td>\n",
       "      <td>80</td>\n",
       "    </tr>\n",
       "    <tr>\n",
       "      <th>4</th>\n",
       "      <td>120</td>\n",
       "      <td>100</td>\n",
       "    </tr>\n",
       "    <tr>\n",
       "      <th>5</th>\n",
       "      <td>10</td>\n",
       "      <td>10</td>\n",
       "    </tr>\n",
       "  </tbody>\n",
       "</table>\n",
       "</div>"
      ],
      "text/plain": [
       "   Study Time(hours)  Score(100)\n",
       "0                 40          65\n",
       "1                 35          60\n",
       "2                 20          30\n",
       "3                 70          80\n",
       "4                120         100\n",
       "5                 10          10"
      ]
     },
     "execution_count": 59,
     "metadata": {},
     "output_type": "execute_result"
    }
   ],
   "source": [
    "## Solution:-\n",
    "\n",
    "import numpy as np\n",
    "import pandas as pd\n",
    "\n",
    "#Creating dataset:-\n",
    "df = pd.DataFrame({\"Study Time(hours)\": [40, 35, 20, 70, 120, 10],\n",
    "                   \"Score(100)\": [65, 60, 30, 80, 100, 10]})\n",
    "df"
   ]
  },
  {
   "cell_type": "code",
   "execution_count": 60,
   "id": "d1e8609c-ef0b-4d53-a71c-9e76e580405d",
   "metadata": {},
   "outputs": [
    {
     "data": {
      "text/html": [
       "<div>\n",
       "<style scoped>\n",
       "    .dataframe tbody tr th:only-of-type {\n",
       "        vertical-align: middle;\n",
       "    }\n",
       "\n",
       "    .dataframe tbody tr th {\n",
       "        vertical-align: top;\n",
       "    }\n",
       "\n",
       "    .dataframe thead th {\n",
       "        text-align: right;\n",
       "    }\n",
       "</style>\n",
       "<table border=\"1\" class=\"dataframe\">\n",
       "  <thead>\n",
       "    <tr style=\"text-align: right;\">\n",
       "      <th></th>\n",
       "      <th>Study Time(hours)</th>\n",
       "      <th>Score(100)</th>\n",
       "    </tr>\n",
       "  </thead>\n",
       "  <tbody>\n",
       "    <tr>\n",
       "      <th>Study Time(hours)</th>\n",
       "      <td>1.000000</td>\n",
       "      <td>0.912774</td>\n",
       "    </tr>\n",
       "    <tr>\n",
       "      <th>Score(100)</th>\n",
       "      <td>0.912774</td>\n",
       "      <td>1.000000</td>\n",
       "    </tr>\n",
       "  </tbody>\n",
       "</table>\n",
       "</div>"
      ],
      "text/plain": [
       "                   Study Time(hours)  Score(100)\n",
       "Study Time(hours)           1.000000    0.912774\n",
       "Score(100)                  0.912774    1.000000"
      ]
     },
     "execution_count": 60,
     "metadata": {},
     "output_type": "execute_result"
    }
   ],
   "source": [
    "df.corr(method=\"pearson\")  ## using pearsion correlation "
   ]
  },
  {
   "cell_type": "markdown",
   "id": "f78b8a0f-fac7-4517-b6ec-54ed2e0bb0fc",
   "metadata": {},
   "source": [
    "The Pearson correlation coefficient is 0.912774, it indicates a strong positive linear relationship between the amount of time spent studying and the final exam scores. This means that students who spend more time studying tend to score higher on the exam, while students who spend less time studying tend to score lower. "
   ]
  },
  {
   "cell_type": "markdown",
   "id": "a1c8725a-2d2d-47c0-ad8e-b703c56a8c7b",
   "metadata": {},
   "source": [
    "------------------------------------------------------------------------------------------------------------------------------------------------------------------------------------------"
   ]
  },
  {
   "cell_type": "markdown",
   "id": "0593f3b5-c26a-4727-ac2a-608cbd566b4f",
   "metadata": {},
   "source": [
    "### Q2. Spearman's rank correlation is a measure of the monotonic relationship between two variables.\n",
    "### Suppose you have collected data on the amount of sleep individuals get each night and their overall job\n",
    "### satisfaction level on a scale of 1 to 10. Calculate the Spearman's rank correlation between these two\n",
    "### variables and interpret the result."
   ]
  },
  {
   "cell_type": "markdown",
   "id": "099aaa5f-0be8-4a6f-9bff-67384e598680",
   "metadata": {},
   "source": [
    "Ans. Spearman's correlation is a monotonic relationship which refers to a type of relationship between two variables where the change in one variable is associated with the change in the other variable, but the change does not necessarily have to be at a constant rate."
   ]
  },
  {
   "cell_type": "code",
   "execution_count": 14,
   "id": "340a93d1-eb71-406d-b596-3ebacca79236",
   "metadata": {},
   "outputs": [
    {
     "data": {
      "text/html": [
       "<div>\n",
       "<style scoped>\n",
       "    .dataframe tbody tr th:only-of-type {\n",
       "        vertical-align: middle;\n",
       "    }\n",
       "\n",
       "    .dataframe tbody tr th {\n",
       "        vertical-align: top;\n",
       "    }\n",
       "\n",
       "    .dataframe thead th {\n",
       "        text-align: right;\n",
       "    }\n",
       "</style>\n",
       "<table border=\"1\" class=\"dataframe\">\n",
       "  <thead>\n",
       "    <tr style=\"text-align: right;\">\n",
       "      <th></th>\n",
       "      <th>Sleep</th>\n",
       "      <th>Job Satisfaction</th>\n",
       "    </tr>\n",
       "  </thead>\n",
       "  <tbody>\n",
       "    <tr>\n",
       "      <th>0</th>\n",
       "      <td>6</td>\n",
       "      <td>8</td>\n",
       "    </tr>\n",
       "    <tr>\n",
       "      <th>1</th>\n",
       "      <td>8</td>\n",
       "      <td>7</td>\n",
       "    </tr>\n",
       "    <tr>\n",
       "      <th>2</th>\n",
       "      <td>7</td>\n",
       "      <td>6</td>\n",
       "    </tr>\n",
       "    <tr>\n",
       "      <th>3</th>\n",
       "      <td>5</td>\n",
       "      <td>9</td>\n",
       "    </tr>\n",
       "    <tr>\n",
       "      <th>4</th>\n",
       "      <td>9</td>\n",
       "      <td>5</td>\n",
       "    </tr>\n",
       "    <tr>\n",
       "      <th>5</th>\n",
       "      <td>7</td>\n",
       "      <td>7</td>\n",
       "    </tr>\n",
       "  </tbody>\n",
       "</table>\n",
       "</div>"
      ],
      "text/plain": [
       "   Sleep  Job Satisfaction\n",
       "0      6                 8\n",
       "1      8                 7\n",
       "2      7                 6\n",
       "3      5                 9\n",
       "4      9                 5\n",
       "5      7                 7"
      ]
     },
     "execution_count": 14,
     "metadata": {},
     "output_type": "execute_result"
    }
   ],
   "source": [
    "df = pd.DataFrame({\"Sleep\": [6,8,7,5,9,7],\n",
    "                   \"Job Satisfaction\": [8,7,6,9,5,7]})\n",
    "df"
   ]
  },
  {
   "cell_type": "code",
   "execution_count": 15,
   "id": "1dade8fc-d490-4f3f-83eb-eca25be96e3f",
   "metadata": {},
   "outputs": [
    {
     "data": {
      "text/html": [
       "<div>\n",
       "<style scoped>\n",
       "    .dataframe tbody tr th:only-of-type {\n",
       "        vertical-align: middle;\n",
       "    }\n",
       "\n",
       "    .dataframe tbody tr th {\n",
       "        vertical-align: top;\n",
       "    }\n",
       "\n",
       "    .dataframe thead th {\n",
       "        text-align: right;\n",
       "    }\n",
       "</style>\n",
       "<table border=\"1\" class=\"dataframe\">\n",
       "  <thead>\n",
       "    <tr style=\"text-align: right;\">\n",
       "      <th></th>\n",
       "      <th>Sleep</th>\n",
       "      <th>Job Satisfaction</th>\n",
       "    </tr>\n",
       "  </thead>\n",
       "  <tbody>\n",
       "    <tr>\n",
       "      <th>Sleep</th>\n",
       "      <td>1.000000</td>\n",
       "      <td>-0.867647</td>\n",
       "    </tr>\n",
       "    <tr>\n",
       "      <th>Job Satisfaction</th>\n",
       "      <td>-0.867647</td>\n",
       "      <td>1.000000</td>\n",
       "    </tr>\n",
       "  </tbody>\n",
       "</table>\n",
       "</div>"
      ],
      "text/plain": [
       "                     Sleep  Job Satisfaction\n",
       "Sleep             1.000000         -0.867647\n",
       "Job Satisfaction -0.867647          1.000000"
      ]
     },
     "execution_count": 15,
     "metadata": {},
     "output_type": "execute_result"
    }
   ],
   "source": [
    "df.corr(method=\"spearman\")"
   ]
  },
  {
   "cell_type": "markdown",
   "id": "f3d08bca-6a0e-4c73-9c8a-b35e9dd5c066",
   "metadata": {},
   "source": [
    "A negative value indicates negative monotonic relationship between Sleep and Job Satisfaction and it indicates higher amounts of sleep are associated with lower levels of job satisfaction. "
   ]
  },
  {
   "cell_type": "markdown",
   "id": "160dc336-4900-4c3e-8570-a55cafdc6853",
   "metadata": {},
   "source": [
    "------------------------------------------------------------------------------------------------------------------------------------------------------------------------------------------"
   ]
  },
  {
   "cell_type": "markdown",
   "id": "d171b66a-2a78-4bf8-8867-a86801a85144",
   "metadata": {},
   "source": [
    "### Q3. Suppose you are conducting a study to examine the relationship between the number of hours of\n",
    "### exercise per week and body mass index (BMI) in a sample of adults. You collected data on both variables\n",
    "### for 50 participants. Calculate the Pearson correlation coefficient and the Spearman's rank correlation\n",
    "### between these two variables and compare the results."
   ]
  },
  {
   "cell_type": "code",
   "execution_count": 17,
   "id": "bf50ec49-6e47-41db-a05b-41d2ee8797a1",
   "metadata": {},
   "outputs": [
    {
     "data": {
      "text/html": [
       "<div>\n",
       "<style scoped>\n",
       "    .dataframe tbody tr th:only-of-type {\n",
       "        vertical-align: middle;\n",
       "    }\n",
       "\n",
       "    .dataframe tbody tr th {\n",
       "        vertical-align: top;\n",
       "    }\n",
       "\n",
       "    .dataframe thead th {\n",
       "        text-align: right;\n",
       "    }\n",
       "</style>\n",
       "<table border=\"1\" class=\"dataframe\">\n",
       "  <thead>\n",
       "    <tr style=\"text-align: right;\">\n",
       "      <th></th>\n",
       "      <th>Exercise (hours/week)</th>\n",
       "      <th>BMI</th>\n",
       "    </tr>\n",
       "  </thead>\n",
       "  <tbody>\n",
       "    <tr>\n",
       "      <th>0</th>\n",
       "      <td>2.3</td>\n",
       "      <td>24.4</td>\n",
       "    </tr>\n",
       "    <tr>\n",
       "      <th>1</th>\n",
       "      <td>4.2</td>\n",
       "      <td>28.0</td>\n",
       "    </tr>\n",
       "    <tr>\n",
       "      <th>2</th>\n",
       "      <td>1.5</td>\n",
       "      <td>26.5</td>\n",
       "    </tr>\n",
       "    <tr>\n",
       "      <th>3</th>\n",
       "      <td>3.2</td>\n",
       "      <td>22.6</td>\n",
       "    </tr>\n",
       "    <tr>\n",
       "      <th>4</th>\n",
       "      <td>1.0</td>\n",
       "      <td>32.0</td>\n",
       "    </tr>\n",
       "  </tbody>\n",
       "</table>\n",
       "</div>"
      ],
      "text/plain": [
       "   Exercise (hours/week)   BMI\n",
       "0                    2.3  24.4\n",
       "1                    4.2  28.0\n",
       "2                    1.5  26.5\n",
       "3                    3.2  22.6\n",
       "4                    1.0  32.0"
      ]
     },
     "execution_count": 17,
     "metadata": {},
     "output_type": "execute_result"
    }
   ],
   "source": [
    "## Creating  Dataset:-\n",
    "\n",
    "df = pd.DataFrame({\"Exercise (hours/week)\": [2.3, 4.2, 1.5, 3.2, 1]*10,\n",
    "                   \"BMI\": [24.4, 28, 26.5, 22.6, 32]*10})\n",
    "df.head()"
   ]
  },
  {
   "cell_type": "code",
   "execution_count": 18,
   "id": "036b3381-eede-450d-91ac-a26a160c5eab",
   "metadata": {},
   "outputs": [
    {
     "data": {
      "text/html": [
       "<div>\n",
       "<style scoped>\n",
       "    .dataframe tbody tr th:only-of-type {\n",
       "        vertical-align: middle;\n",
       "    }\n",
       "\n",
       "    .dataframe tbody tr th {\n",
       "        vertical-align: top;\n",
       "    }\n",
       "\n",
       "    .dataframe thead th {\n",
       "        text-align: right;\n",
       "    }\n",
       "</style>\n",
       "<table border=\"1\" class=\"dataframe\">\n",
       "  <thead>\n",
       "    <tr style=\"text-align: right;\">\n",
       "      <th></th>\n",
       "      <th>Exercise (hours/week)</th>\n",
       "      <th>BMI</th>\n",
       "    </tr>\n",
       "  </thead>\n",
       "  <tbody>\n",
       "    <tr>\n",
       "      <th>Exercise (hours/week)</th>\n",
       "      <td>1.000000</td>\n",
       "      <td>-0.427783</td>\n",
       "    </tr>\n",
       "    <tr>\n",
       "      <th>BMI</th>\n",
       "      <td>-0.427783</td>\n",
       "      <td>1.000000</td>\n",
       "    </tr>\n",
       "  </tbody>\n",
       "</table>\n",
       "</div>"
      ],
      "text/plain": [
       "                       Exercise (hours/week)       BMI\n",
       "Exercise (hours/week)               1.000000 -0.427783\n",
       "BMI                                -0.427783  1.000000"
      ]
     },
     "execution_count": 18,
     "metadata": {},
     "output_type": "execute_result"
    }
   ],
   "source": [
    "df.corr(method=\"pearson\") ## pearson correlation"
   ]
  },
  {
   "cell_type": "code",
   "execution_count": 19,
   "id": "c7b4350b-5462-4d6e-ad5c-b6880adfa5f1",
   "metadata": {},
   "outputs": [
    {
     "data": {
      "text/html": [
       "<div>\n",
       "<style scoped>\n",
       "    .dataframe tbody tr th:only-of-type {\n",
       "        vertical-align: middle;\n",
       "    }\n",
       "\n",
       "    .dataframe tbody tr th {\n",
       "        vertical-align: top;\n",
       "    }\n",
       "\n",
       "    .dataframe thead th {\n",
       "        text-align: right;\n",
       "    }\n",
       "</style>\n",
       "<table border=\"1\" class=\"dataframe\">\n",
       "  <thead>\n",
       "    <tr style=\"text-align: right;\">\n",
       "      <th></th>\n",
       "      <th>Exercise (hours/week)</th>\n",
       "      <th>BMI</th>\n",
       "    </tr>\n",
       "  </thead>\n",
       "  <tbody>\n",
       "    <tr>\n",
       "      <th>Exercise (hours/week)</th>\n",
       "      <td>1.0</td>\n",
       "      <td>-0.4</td>\n",
       "    </tr>\n",
       "    <tr>\n",
       "      <th>BMI</th>\n",
       "      <td>-0.4</td>\n",
       "      <td>1.0</td>\n",
       "    </tr>\n",
       "  </tbody>\n",
       "</table>\n",
       "</div>"
      ],
      "text/plain": [
       "                       Exercise (hours/week)  BMI\n",
       "Exercise (hours/week)                    1.0 -0.4\n",
       "BMI                                     -0.4  1.0"
      ]
     },
     "execution_count": 19,
     "metadata": {},
     "output_type": "execute_result"
    }
   ],
   "source": [
    "df.corr(method=\"spearman\")  ## spearman correlation"
   ]
  },
  {
   "cell_type": "markdown",
   "id": "76c29ca9-bf38-4a90-8707-68beddc9c769",
   "metadata": {},
   "source": [
    "Comparing the results, we see that the Pearson correlation coefficient and the Spearman's rank correlation coefficient are both neagtive and close in value (-0.427783 and -0.4, respectively). This suggests that there is a moderate negative relationship between exercise per week and BMI, regardless of whether the relationship is linear or monotonic."
   ]
  },
  {
   "cell_type": "markdown",
   "id": "1ac74ea5-5f3a-4ccc-82b5-2f5ecac4f578",
   "metadata": {},
   "source": [
    "------------------------------------------------------------------------------------------------------------------------------------------------------------------------------------------"
   ]
  },
  {
   "cell_type": "markdown",
   "id": "a061a7ae-b0e0-4cdc-9811-5877d047a27c",
   "metadata": {},
   "source": [
    "### Q4. A researcher is interested in examining the relationship between the number of hours individuals\n",
    "### spend watching television per day and their level of physical activity. The researcher collected data on\n",
    "### both variables from a sample of 50 participants. Calculate the Pearson correlation coefficient between\n",
    "### these two variables."
   ]
  },
  {
   "cell_type": "code",
   "execution_count": 24,
   "id": "a860efc3-8ea6-405d-9948-fdc928386862",
   "metadata": {},
   "outputs": [
    {
     "data": {
      "text/html": [
       "<div>\n",
       "<style scoped>\n",
       "    .dataframe tbody tr th:only-of-type {\n",
       "        vertical-align: middle;\n",
       "    }\n",
       "\n",
       "    .dataframe tbody tr th {\n",
       "        vertical-align: top;\n",
       "    }\n",
       "\n",
       "    .dataframe thead th {\n",
       "        text-align: right;\n",
       "    }\n",
       "</style>\n",
       "<table border=\"1\" class=\"dataframe\">\n",
       "  <thead>\n",
       "    <tr style=\"text-align: right;\">\n",
       "      <th></th>\n",
       "      <th>Watching Television((hours/day)</th>\n",
       "      <th>Physical activity(minutes/day)</th>\n",
       "    </tr>\n",
       "  </thead>\n",
       "  <tbody>\n",
       "    <tr>\n",
       "      <th>0</th>\n",
       "      <td>3.0</td>\n",
       "      <td>30</td>\n",
       "    </tr>\n",
       "    <tr>\n",
       "      <th>1</th>\n",
       "      <td>1.5</td>\n",
       "      <td>20</td>\n",
       "    </tr>\n",
       "    <tr>\n",
       "      <th>2</th>\n",
       "      <td>0.5</td>\n",
       "      <td>90</td>\n",
       "    </tr>\n",
       "    <tr>\n",
       "      <th>3</th>\n",
       "      <td>2.0</td>\n",
       "      <td>40</td>\n",
       "    </tr>\n",
       "    <tr>\n",
       "      <th>4</th>\n",
       "      <td>1.2</td>\n",
       "      <td>60</td>\n",
       "    </tr>\n",
       "  </tbody>\n",
       "</table>\n",
       "</div>"
      ],
      "text/plain": [
       "   Watching Television((hours/day)  Physical activity(minutes/day)\n",
       "0                              3.0                              30\n",
       "1                              1.5                              20\n",
       "2                              0.5                              90\n",
       "3                              2.0                              40\n",
       "4                              1.2                              60"
      ]
     },
     "execution_count": 24,
     "metadata": {},
     "output_type": "execute_result"
    }
   ],
   "source": [
    "## Creating  Dataset:-\n",
    "\n",
    "df = pd.DataFrame({\"Watching Television((hours/day)\": [3, 1.5, 0.5, 2, 1.2]*10,\n",
    "                   \"Physical activity(minutes/day)\": [30, 20, 90, 40, 60]*10})\n",
    "df.head()"
   ]
  },
  {
   "cell_type": "code",
   "execution_count": 25,
   "id": "8abca81d-27cc-48ee-ad67-a5063cd70b51",
   "metadata": {},
   "outputs": [
    {
     "data": {
      "text/html": [
       "<div>\n",
       "<style scoped>\n",
       "    .dataframe tbody tr th:only-of-type {\n",
       "        vertical-align: middle;\n",
       "    }\n",
       "\n",
       "    .dataframe tbody tr th {\n",
       "        vertical-align: top;\n",
       "    }\n",
       "\n",
       "    .dataframe thead th {\n",
       "        text-align: right;\n",
       "    }\n",
       "</style>\n",
       "<table border=\"1\" class=\"dataframe\">\n",
       "  <thead>\n",
       "    <tr style=\"text-align: right;\">\n",
       "      <th></th>\n",
       "      <th>Watching Television((hours/day)</th>\n",
       "      <th>Physical activity(minutes/day)</th>\n",
       "    </tr>\n",
       "  </thead>\n",
       "  <tbody>\n",
       "    <tr>\n",
       "      <th>Watching Television((hours/day)</th>\n",
       "      <td>1.000000</td>\n",
       "      <td>-0.738612</td>\n",
       "    </tr>\n",
       "    <tr>\n",
       "      <th>Physical activity(minutes/day)</th>\n",
       "      <td>-0.738612</td>\n",
       "      <td>1.000000</td>\n",
       "    </tr>\n",
       "  </tbody>\n",
       "</table>\n",
       "</div>"
      ],
      "text/plain": [
       "                                 Watching Television((hours/day)  \\\n",
       "Watching Television((hours/day)                         1.000000   \n",
       "Physical activity(minutes/day)                         -0.738612   \n",
       "\n",
       "                                 Physical activity(minutes/day)  \n",
       "Watching Television((hours/day)                       -0.738612  \n",
       "Physical activity(minutes/day)                         1.000000  "
      ]
     },
     "execution_count": 25,
     "metadata": {},
     "output_type": "execute_result"
    }
   ],
   "source": [
    "df.corr(method=\"pearson\")"
   ]
  },
  {
   "cell_type": "markdown",
   "id": "79ae0c32-7f03-4cc6-b837-16a6c9a3d353",
   "metadata": {},
   "source": [
    "We can see strong negative linear relationship between watching televison and pysical activity in a day. Which means that a person spending more time on watching televisonin spends less time on physical activity in a day."
   ]
  },
  {
   "cell_type": "markdown",
   "id": "61cb076b-8b54-4aff-a855-9f17551d63a8",
   "metadata": {},
   "source": [
    "------------------------------------------------------------------------------------------------------------------------------------------------------------------------------------------"
   ]
  },
  {
   "cell_type": "markdown",
   "id": "fe9f537a-5893-4c8f-98a3-bda1ddbfb581",
   "metadata": {},
   "source": [
    "### Q5. A survey was conducted to examine the relationship between age and preference for a particular\n",
    "### brand of soft drink. The survey results are shown below:\n",
    "\n",
    "\n",
    "Age = [25,42,37,19,31,28]\n",
    "\n",
    "Soft_Drink = [\"Coke\",\"Pepsi\",\"Mountain Dew\",\"Coke\",\"Pepsi\",\"Coke\"]"
   ]
  },
  {
   "cell_type": "code",
   "execution_count": 26,
   "id": "97f3edd1-a99f-4ed5-84d6-2ba5561a3fa2",
   "metadata": {},
   "outputs": [
    {
     "data": {
      "text/html": [
       "<div>\n",
       "<style scoped>\n",
       "    .dataframe tbody tr th:only-of-type {\n",
       "        vertical-align: middle;\n",
       "    }\n",
       "\n",
       "    .dataframe tbody tr th {\n",
       "        vertical-align: top;\n",
       "    }\n",
       "\n",
       "    .dataframe thead th {\n",
       "        text-align: right;\n",
       "    }\n",
       "</style>\n",
       "<table border=\"1\" class=\"dataframe\">\n",
       "  <thead>\n",
       "    <tr style=\"text-align: right;\">\n",
       "      <th></th>\n",
       "      <th>Age(Years)</th>\n",
       "      <th>Soft drink Preference</th>\n",
       "    </tr>\n",
       "  </thead>\n",
       "  <tbody>\n",
       "    <tr>\n",
       "      <th>0</th>\n",
       "      <td>25</td>\n",
       "      <td>Coke</td>\n",
       "    </tr>\n",
       "    <tr>\n",
       "      <th>1</th>\n",
       "      <td>42</td>\n",
       "      <td>Pepsi</td>\n",
       "    </tr>\n",
       "    <tr>\n",
       "      <th>2</th>\n",
       "      <td>37</td>\n",
       "      <td>Mountain Dew</td>\n",
       "    </tr>\n",
       "    <tr>\n",
       "      <th>3</th>\n",
       "      <td>19</td>\n",
       "      <td>Coke</td>\n",
       "    </tr>\n",
       "    <tr>\n",
       "      <th>4</th>\n",
       "      <td>31</td>\n",
       "      <td>Pepsi</td>\n",
       "    </tr>\n",
       "    <tr>\n",
       "      <th>5</th>\n",
       "      <td>28</td>\n",
       "      <td>Coke</td>\n",
       "    </tr>\n",
       "  </tbody>\n",
       "</table>\n",
       "</div>"
      ],
      "text/plain": [
       "   Age(Years) Soft drink Preference\n",
       "0          25                  Coke\n",
       "1          42                 Pepsi\n",
       "2          37          Mountain Dew\n",
       "3          19                  Coke\n",
       "4          31                 Pepsi\n",
       "5          28                  Coke"
      ]
     },
     "execution_count": 26,
     "metadata": {},
     "output_type": "execute_result"
    }
   ],
   "source": [
    "df = pd.DataFrame({\"Age(Years)\": [25,42,37,19,31,28],\n",
    "                   \"Soft drink Preference\": [\"Coke\",\"Pepsi\",\"Mountain Dew\",\"Coke\",\"Pepsi\",\"Coke\"]})\n",
    "df"
   ]
  },
  {
   "cell_type": "code",
   "execution_count": 50,
   "id": "42d8a69c-004a-4b4a-9574-e8da515f70fa",
   "metadata": {},
   "outputs": [
    {
     "data": {
      "image/png": "[encoded data removed]",
      "text/plain": [
       "<Figure size 700x600 with 1 Axes>"
      ]
     },
     "metadata": {},
     "output_type": "display_data"
    }
   ],
   "source": [
    "import seaborn as sns\n",
    "import matplotlib.pyplot as plt\n",
    "\n",
    "plt.figure(figsize=(7,6))\n",
    "sns.scatterplot(data = df, x=range(1,len(df)+1), y=\"Age(Years)\",hue=\"Soft drink Preference\")\n",
    "\n",
    "for i in range(len(df)):\n",
    "    plt.annotate(str(df[\"Age(Years)\"][i]), xy=(range(1,len(df)+1)[i],df[\"Age(Years)\"][i]), xytext=(5, 5), textcoords='offset points')"
   ]
  },
  {
   "cell_type": "markdown",
   "id": "a6483e99-2fd2-4aca-8580-527b17031f7a",
   "metadata": {},
   "source": [
    "------------------------------------------------------------------------------------------------------------------------------------------------------------------------------------------"
   ]
  },
  {
   "cell_type": "markdown",
   "id": "883f3890-810c-429b-8823-9167b59adba5",
   "metadata": {},
   "source": [
    "### Q6. A company is interested in examining the relationship between the number of sales calls made per day\n",
    "### and the number of sales made per week. The company collected data on both variables from a sample of\n",
    "### 30 sales representatives. Calculate the Pearson correlation coefficient between these two variables."
   ]
  },
  {
   "cell_type": "code",
   "execution_count": 57,
   "id": "6f477808-46b8-4153-96d3-6dd4f41caade",
   "metadata": {},
   "outputs": [
    {
     "data": {
      "text/html": [
       "<div>\n",
       "<style scoped>\n",
       "    .dataframe tbody tr th:only-of-type {\n",
       "        vertical-align: middle;\n",
       "    }\n",
       "\n",
       "    .dataframe tbody tr th {\n",
       "        vertical-align: top;\n",
       "    }\n",
       "\n",
       "    .dataframe thead th {\n",
       "        text-align: right;\n",
       "    }\n",
       "</style>\n",
       "<table border=\"1\" class=\"dataframe\">\n",
       "  <thead>\n",
       "    <tr style=\"text-align: right;\">\n",
       "      <th></th>\n",
       "      <th>Sales calls(per day)</th>\n",
       "      <th>Sales(per week)</th>\n",
       "    </tr>\n",
       "  </thead>\n",
       "  <tbody>\n",
       "    <tr>\n",
       "      <th>0</th>\n",
       "      <td>100</td>\n",
       "      <td>20</td>\n",
       "    </tr>\n",
       "    <tr>\n",
       "      <th>1</th>\n",
       "      <td>80</td>\n",
       "      <td>10</td>\n",
       "    </tr>\n",
       "    <tr>\n",
       "      <th>2</th>\n",
       "      <td>120</td>\n",
       "      <td>30</td>\n",
       "    </tr>\n",
       "    <tr>\n",
       "      <th>3</th>\n",
       "      <td>50</td>\n",
       "      <td>10</td>\n",
       "    </tr>\n",
       "    <tr>\n",
       "      <th>4</th>\n",
       "      <td>140</td>\n",
       "      <td>40</td>\n",
       "    </tr>\n",
       "  </tbody>\n",
       "</table>\n",
       "</div>"
      ],
      "text/plain": [
       "   Sales calls(per day)  Sales(per week)\n",
       "0                   100               20\n",
       "1                    80               10\n",
       "2                   120               30\n",
       "3                    50               10\n",
       "4                   140               40"
      ]
     },
     "execution_count": 57,
     "metadata": {},
     "output_type": "execute_result"
    }
   ],
   "source": [
    "# creating dataset:-\n",
    "\n",
    "df = pd.DataFrame({\"Sales calls(per day)\": [100, 80, 120, 50, 140, 60, 90, 130, 110, 70, 150, 40, 80, 60, 110,90, 120, 100, 70, 130, 50, 140, 60, 80, 100, 110, 90, 120, 70, 130],\n",
    "                   \"Sales(per week)\": [20, 10, 30, 10, 40, 10, 20, 30, 20, 10, 40, 10, 10, 10, 30,20, 30, 20, 10, 30, 10, 40, 10, 10, 20, 20, 20, 30, 10, 40]})\n",
    "df.head()"
   ]
  },
  {
   "cell_type": "code",
   "execution_count": 58,
   "id": "9c6fc977-4f76-4ad5-9058-06e9bc259de8",
   "metadata": {},
   "outputs": [
    {
     "data": {
      "text/html": [
       "<div>\n",
       "<style scoped>\n",
       "    .dataframe tbody tr th:only-of-type {\n",
       "        vertical-align: middle;\n",
       "    }\n",
       "\n",
       "    .dataframe tbody tr th {\n",
       "        vertical-align: top;\n",
       "    }\n",
       "\n",
       "    .dataframe thead th {\n",
       "        text-align: right;\n",
       "    }\n",
       "</style>\n",
       "<table border=\"1\" class=\"dataframe\">\n",
       "  <thead>\n",
       "    <tr style=\"text-align: right;\">\n",
       "      <th></th>\n",
       "      <th>Sales calls(per day)</th>\n",
       "      <th>Sales(per week)</th>\n",
       "    </tr>\n",
       "  </thead>\n",
       "  <tbody>\n",
       "    <tr>\n",
       "      <th>Sales calls(per day)</th>\n",
       "      <td>1.000000</td>\n",
       "      <td>0.935065</td>\n",
       "    </tr>\n",
       "    <tr>\n",
       "      <th>Sales(per week)</th>\n",
       "      <td>0.935065</td>\n",
       "      <td>1.000000</td>\n",
       "    </tr>\n",
       "  </tbody>\n",
       "</table>\n",
       "</div>"
      ],
      "text/plain": [
       "                      Sales calls(per day)  Sales(per week)\n",
       "Sales calls(per day)              1.000000         0.935065\n",
       "Sales(per week)                   0.935065         1.000000"
      ]
     },
     "execution_count": 58,
     "metadata": {},
     "output_type": "execute_result"
    }
   ],
   "source": [
    "df.corr(method=\"pearson\")"
   ]
  },
  {
   "cell_type": "markdown",
   "id": "f7db1540-370f-4e19-b221-6807e63fb889",
   "metadata": {},
   "source": [
    "We can see strong positive linear relationship bet Sales calls per day and Sales made per week. Thus we can say that more sales call per day results in more Sales made per week"
   ]
  },
  {
   "cell_type": "markdown",
   "id": "c2befe55-36d8-4052-8e8e-a04a9fe087e5",
   "metadata": {},
   "source": [
    "-----------------------------------------------------------------------------------------------------------------------------------------------------------------------------------------"
   ]
  },
  {
   "cell_type": "code",
   "execution_count": null,
   "id": "632080b4-3eb0-4113-99d6-808a34ed70d2",
   "metadata": {},
   "outputs": [],
   "source": []
  }
 ],
 "metadata": {
  "kernelspec": {
   "display_name": "Python 3 (ipykernel)",
   "language": "python",
   "name": "python3"
  },
  "language_info": {
   "codemirror_mode": {
    "name": "ipython",
    "version": 3
   },
   "file_extension": ".py",
   "mimetype": "text/x-python",
   "name": "python",
   "nbconvert_exporter": "python",
   "pygments_lexer": "ipython3",
   "version": "3.10.8"
  }
 },
 "nbformat": 4,
 "nbformat_minor": 5
}
