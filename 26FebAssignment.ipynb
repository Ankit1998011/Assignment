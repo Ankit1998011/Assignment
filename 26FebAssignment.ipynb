{
 "cells": [
  {
   "cell_type": "code",
   "execution_count": 1,
   "id": "997ecc23-6073-4cfc-b66d-d05ff4eaddef",
   "metadata": {},
   "outputs": [],
   "source": [
    "import numpy as np\n",
    "import logging\n",
    "\n",
    "logging.basicConfig(filename=\"numpy.log\",level = logging.INFO,format= \"%(asctime)s %(levelname)s %(message)s\")"
   ]
  },
  {
   "cell_type": "code",
   "execution_count": 2,
   "id": "df3df11f-2cb2-48d0-8f6f-1cedc2269636",
   "metadata": {},
   "outputs": [],
   "source": [
    "list_ = ['1' , '2' , '3' , '4' , '5']\n",
    "array_list = np.array(object = list_)"
   ]
  },
  {
   "cell_type": "code",
   "execution_count": 3,
   "id": "5e89fa7e-4da1-4822-8129-3797b2eda48a",
   "metadata": {},
   "outputs": [
    {
     "data": {
      "text/plain": [
       "array(['1', '2', '3', '4', '5'], dtype='<U1')"
      ]
     },
     "execution_count": 3,
     "metadata": {},
     "output_type": "execute_result"
    }
   ],
   "source": [
    "array_list"
   ]
  },
  {
   "cell_type": "code",
   "execution_count": 4,
   "id": "ed4c80e8-c0b4-41b6-b4d3-54617d840d1e",
   "metadata": {},
   "outputs": [
    {
     "name": "stdout",
     "output_type": "stream",
     "text": [
      "Data type of list_ is <class 'list'>\n",
      "Data type of array_list is <class 'numpy.ndarray'>\n"
     ]
    }
   ],
   "source": [
    "\"\"\"Q1. Is there any difference in the data type of variables list_ and array_list? If there is then write a code\n",
    "to print the data types of both the variables.\"\"\"\n",
    "\n",
    "logging.info(\"Solution to Q1.\")\n",
    "# Ans. Yes, there is difference between data type of list_ and array_list. list_ is of list data type and array_list is of array data type.\n",
    "\n",
    "print(f\"Data type of list_ is {type(list_)}\")\n",
    "print(f\"Data type of array_list is {type(array_list)}\")"
   ]
  },
  {
   "cell_type": "markdown",
   "id": "83c08c08-f979-4f90-b68d-970e49087608",
   "metadata": {},
   "source": [
    "----------------------------------------------------------------------------------------------------------------------------------------------------------------------------------------"
   ]
  },
  {
   "cell_type": "code",
   "execution_count": 5,
   "id": "3ce995bb-009f-4bc1-9600-ed923d661f51",
   "metadata": {},
   "outputs": [
    {
     "name": "stdout",
     "output_type": "stream",
     "text": [
      "data type of each and every element of list_ is [<class 'str'>, <class 'str'>, <class 'str'>, <class 'str'>, <class 'str'>]\n",
      "data type of each and every element of array_list is <U1\n"
     ]
    }
   ],
   "source": [
    "\"\"\"Q2. Write a code to print the data type of each and every element of both the variables list_ and\n",
    "array_list.\"\"\"\n",
    "\n",
    "logging.info(\"Solution to Q2.\")\n",
    "# Ans.\n",
    "\n",
    "dtype_list = [type(i) for i in list_]\n",
    "print(f\"data type of each and every element of list_ is {dtype_list}\")\n",
    "print(f\"data type of each and every element of array_list is {array_list.dtype}\")"
   ]
  },
  {
   "cell_type": "markdown",
   "id": "21c846e0-9a7c-42a8-9936-bb56401e8126",
   "metadata": {},
   "source": [
    "----------------------------------------------------------------------------------------------------------------------------------------------------------------------------------------"
   ]
  },
  {
   "cell_type": "code",
   "execution_count": 6,
   "id": "522faa52-0c49-44e3-bf20-cfc8f67a2b3b",
   "metadata": {},
   "outputs": [],
   "source": [
    "\"\"\"Q3. Considering the following changes in the variable, array_list:\n",
    "array_list = np.array(object = list_, dtype = int)\n",
    "Will there be any difference in the data type of the elements present in both the variables, list_ and\n",
    "array_list? If so then print the data types of each and every element present in both the variables, list_\n",
    "and arra_list.\"\"\"\n",
    "\n",
    "logging.info(\"Solution to Q3.\")\n",
    "# Ans. the datatype of list_ elements will remain same but datatype of each element of variable array_list will change to int.\n",
    "\n",
    "\n",
    "array_list = np.array(object = list_, dtype = int)"
   ]
  },
  {
   "cell_type": "code",
   "execution_count": 7,
   "id": "4f873917-c6a4-42f6-8fcf-2e003f517a8a",
   "metadata": {},
   "outputs": [
    {
     "name": "stdout",
     "output_type": "stream",
     "text": [
      "data type of each and every element of list_ is [<class 'str'>, <class 'str'>, <class 'str'>, <class 'str'>, <class 'str'>]\n",
      "data type of each and every element of array_list is int64\n"
     ]
    }
   ],
   "source": [
    "print(f\"data type of each and every element of list_ is {dtype_list}\")\n",
    "print(f\"data type of each and every element of array_list is {array_list.dtype}\")"
   ]
  },
  {
   "cell_type": "markdown",
   "id": "49d1eeeb-9f5f-4412-9aa4-daa1b5f7414b",
   "metadata": {},
   "source": [
    "---------------------------------------------------------------------------------------------------------------------------------------------------------------------------------------"
   ]
  },
  {
   "cell_type": "code",
   "execution_count": 8,
   "id": "2584c4a7-612c-453a-ad87-4a5ba530ddd5",
   "metadata": {},
   "outputs": [],
   "source": [
    "num_list = [ [ 1 , 2 , 3 ] , [ 4 , 5 , 6 ] ]\n",
    "num_array = np.array(object = num_list)"
   ]
  },
  {
   "cell_type": "code",
   "execution_count": 9,
   "id": "35635154-185a-4cf7-847b-e9774f96cb2b",
   "metadata": {},
   "outputs": [
    {
     "data": {
      "text/plain": [
       "(2, 3)"
      ]
     },
     "execution_count": 9,
     "metadata": {},
     "output_type": "execute_result"
    }
   ],
   "source": [
    "\"\"\"Q4. Write a code to find the following characteristics of variable, num_array:\n",
    "(i) shape\n",
    "(ii) size\"\"\"\n",
    "\n",
    "logging.info(\"Solution to Q4.\")\n",
    "# Ans.\n",
    "\n",
    "logging.info(\"finding shape\")\n",
    "# shape:-\n",
    "\n",
    "num_array.shape"
   ]
  },
  {
   "cell_type": "code",
   "execution_count": 10,
   "id": "45fbb82c-bb5f-4644-b68d-145bd8814a4b",
   "metadata": {},
   "outputs": [
    {
     "data": {
      "text/plain": [
       "6"
      ]
     },
     "execution_count": 10,
     "metadata": {},
     "output_type": "execute_result"
    }
   ],
   "source": [
    "logging.info(\"finding size\")\n",
    "# size:-\n",
    "\n",
    "num_array.size"
   ]
  },
  {
   "cell_type": "markdown",
   "id": "310a55b8-3414-4042-9ad1-28ccf2952124",
   "metadata": {},
   "source": [
    "---------------------------------------------------------------------------------------------------------------------------------------------------------------------------------------"
   ]
  },
  {
   "cell_type": "code",
   "execution_count": 11,
   "id": "02064e45-b7ba-46bf-be83-5745e30c65a4",
   "metadata": {},
   "outputs": [
    {
     "data": {
      "text/plain": [
       "array([[0., 0., 0.],\n",
       "       [0., 0., 0.],\n",
       "       [0., 0., 0.]])"
      ]
     },
     "execution_count": 11,
     "metadata": {},
     "output_type": "execute_result"
    }
   ],
   "source": [
    "\"\"\"Q5.Write a code to create numpy array of 3*3 matrix containing zeros only, using a numpy array\n",
    "creation function.\"\"\"\n",
    "\n",
    "logging.info(\"Solution to Q5.\")\n",
    "# Ans.\n",
    "\n",
    "np.zeros((3,3))"
   ]
  },
  {
   "cell_type": "markdown",
   "id": "acced5e3-03ef-4dc9-ba51-9975750fdcd2",
   "metadata": {},
   "source": [
    "----------------------------------------------------------------------------------------------------------------------------------------------------------------------------------------"
   ]
  },
  {
   "cell_type": "code",
   "execution_count": 12,
   "id": "5a91df6e-1727-4138-96a7-c36d996ffa1c",
   "metadata": {},
   "outputs": [
    {
     "data": {
      "text/plain": [
       "array([[1., 0., 0., 0., 0.],\n",
       "       [0., 1., 0., 0., 0.],\n",
       "       [0., 0., 1., 0., 0.],\n",
       "       [0., 0., 0., 1., 0.],\n",
       "       [0., 0., 0., 0., 1.]])"
      ]
     },
     "execution_count": 12,
     "metadata": {},
     "output_type": "execute_result"
    }
   ],
   "source": [
    "\"\"\"Q6. Create an identity matrix of shape (5,5) using numpy functions?\"\"\"\n",
    "\n",
    "logging.info(\"Solution to Q6.\")\n",
    "# Ans. \n",
    "\n",
    "np.eye(5)"
   ]
  },
  {
   "cell_type": "code",
   "execution_count": 13,
   "id": "a33d9fc8-bd28-41de-a051-beb49faaa2b1",
   "metadata": {},
   "outputs": [],
   "source": [
    "logging.shutdown()"
   ]
  },
  {
   "cell_type": "markdown",
   "id": "e374f43c-cb63-4780-acd8-9d17e6b8f0c8",
   "metadata": {},
   "source": [
    "----------------------------------------------------------------------------------------------------------------------------------------------------------------------------------------"
   ]
  },
  {
   "cell_type": "code",
   "execution_count": null,
   "id": "d067dd0d-6255-41e5-b14e-206c40469fa9",
   "metadata": {},
   "outputs": [],
   "source": []
  }
 ],
 "metadata": {
  "kernelspec": {
   "display_name": "Python 3 (ipykernel)",
   "language": "python",
   "name": "python3"
  },
  "language_info": {
   "codemirror_mode": {
    "name": "ipython",
    "version": 3
   },
   "file_extension": ".py",
   "mimetype": "text/x-python",
   "name": "python",
   "nbconvert_exporter": "python",
   "pygments_lexer": "ipython3",
   "version": "3.10.8"
  }
 },
 "nbformat": 4,
 "nbformat_minor": 5
}
