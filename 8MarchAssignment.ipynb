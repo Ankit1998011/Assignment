{
 "cells": [
  {
   "cell_type": "markdown",
   "id": "3de119d1-2847-4205-99e3-4ad9034e75c3",
   "metadata": {},
   "source": [
    "Q1. What is the Probability density function?\n",
    "\n",
    "Ans. The Probability Density Function(PDF) defines the probability function representing the density of a continuous random variable lying between a specific range of values. In other words, the probability density function produces the likelihood of values of the continuous random variable."
   ]
  },
  {
   "cell_type": "markdown",
   "id": "52c055cb-b767-48df-b4d6-8578a74b5416",
   "metadata": {},
   "source": [
    "-----------------------------------------------------------------------------------------------------------------------------------------------------------------------------------------------------------------------------------------------"
   ]
  },
  {
   "cell_type": "markdown",
   "id": "8a415038-2978-4ac3-9567-ad794614657c",
   "metadata": {},
   "source": [
    "Q2. What are the types of Probability distribution?\n",
    "\n",
    "Ans. The main types of Probability distributions are:-\n",
    "\n",
    "1.Bernoulli Distribution:- A Bernoulli distribution has only two bernoulli trials or possible outcomes, namely 1 (success) and 0 (failure), and a single trial. So the random variable X with a Bernoulli distribution can take the value 1 with the probability of success, say p, and the value 0 with the probability of failure, say q or 1-p.\n",
    "\n",
    "2.Uniform Distribution:- When we roll a fair die, the outcomes are 1 to 6. The probabilities of getting these outcomes are equally likely, which is the basis of a uniform distribution. Unlike Bernoulli Distribution, all the n number of possible outcomes of a uniform distribution are equally likely.\n",
    "\n",
    "3.Binomial Distribution:- A distribution where only two outcomes are possible, such as success or failure, gain or loss, win or lose and where the probability of success and failure is the same for all the trials is called a Binomial Distribution.\n",
    "\n",
    "4.Poisson Distribution:- The Poisson distribution is a discrete distribution that measures the probability of a given number of events happening in a specified time period.\n",
    "\n",
    "5.Normal Distribution or Gaussian Distribution:- Any distribution is known as Normal distribution if it has the following characteristics:\n",
    "\n",
    "1.The mean, median, and mode of the distribution coincide.\n",
    "\n",
    "2.The curve of the distribution is bell-shaped and symmetrical about the line x=μ.\n",
    "\n",
    "3.The total area under the curve is 1.\n",
    "\n",
    "4.Exactly half of the values are to the left of the center, and the other half to the right."
   ]
  },
  {
   "cell_type": "markdown",
   "id": "295ba118-e87f-499c-9003-8b3f00368105",
   "metadata": {},
   "source": [
    "----------------------------------------------------------------------------------------------------------------------------------------------------------------------------------------------------------------------------------------------"
   ]
  },
  {
   "cell_type": "code",
   "execution_count": 4,
   "id": "738066f3-b6ce-444d-b3b9-c6dc8f7feeab",
   "metadata": {},
   "outputs": [],
   "source": [
    "\"\"\"Q3. Write a Python function to calculate the probability density function of a normal distribution with given mean and standard deviation at a given point.\n",
    "\"\"\"\n",
    "\n",
    "def pdf(x,mean,std):\n",
    "    \n",
    "    import math\n",
    "    \n",
    "    e = math.e \n",
    "    pi = math.pi\n",
    "    pd = pow(e,-pow((x-mean)/std,2))/(std*pow(2*pi,1/2))\n",
    "    \n",
    "    return pd"
   ]
  },
  {
   "cell_type": "code",
   "execution_count": 6,
   "id": "a2e63204-45b5-4f2b-9f6a-eccb1a8fc569",
   "metadata": {},
   "outputs": [
    {
     "data": {
      "text/plain": [
       "0.1553482801884639"
      ]
     },
     "execution_count": 6,
     "metadata": {},
     "output_type": "execute_result"
    }
   ],
   "source": [
    "# probaility densituy function of  a normal distribution with given mean 4 and standard deviation 2 and at a given point x = 3.\n",
    "\n",
    "pdf(3,4,2)"
   ]
  },
  {
   "cell_type": "markdown",
   "id": "fc1b1d90-6a5a-440f-bab2-634a5590d0ea",
   "metadata": {},
   "source": [
    "-----------------------------------------------------------------------------------------------------------------------------------------------------------------------------------------------------------------------------------------------"
   ]
  },
  {
   "cell_type": "markdown",
   "id": "60daf662-744b-4d11-853f-32cf60a79a49",
   "metadata": {},
   "source": [
    "Q4. What are the properties of Binomial distribution? Give two examples of events where binomial distribution can be applied.\n",
    "\n",
    "Ans. The properties of the binomial distribution are:\n",
    "\n",
    "1.There are two possible outcomes: true or false, success or failure, yes or no.\n",
    "\n",
    "2.There is ‘n’ number of independent trials or a fixed number of n times repeated trials.\n",
    "\n",
    "3.The probability of success or failure remains the same for each trial.\n",
    "\n",
    "4.Only the number of success is calculated out of n independent trials.\n",
    "\n",
    "5.Every trial is an independent trial, which means the outcome of one trial does not affect the outcome of another trial.\n",
    "\n",
    "Examples: \n",
    "\n",
    "1.Testing a Drug:- The binomial distribution is prominently used in the field of drugs and medicine. Whenever a new drug is invented to cure a particular disease, the effectiveness of the drug can be represented by two outcomes, i.e., whether the drug cures the disease or it does not. Also, the side effects of the drug can be measured in a similar manner. Either the drug causes side effects or it does not. Since the experiment has two possible results, i.e., success and failure, it can be represented with the help of binomial distribution.\n",
    "\n",
    "2.Participating in a Lucky Draw:- If you participate in a lucky draw contest, there exist two possible outcomes, i.e., you either win the contest or lose the contest. Hence, one can easily express the probability of such an event as success or failure with the help of binomial distribution."
   ]
  },
  {
   "cell_type": "markdown",
   "id": "e6a26652-4f07-4e30-9f16-8581843d8649",
   "metadata": {},
   "source": [
    "-----------------------------------------------------------------------------------------------------------------------------------------------------------------------------------------------------------------------------------------------"
   ]
  },
  {
   "cell_type": "code",
   "execution_count": 29,
   "id": "f5a4875b-028d-484f-87b5-89d342b25235",
   "metadata": {},
   "outputs": [
    {
     "data": {
      "image/png": "[encoded data removed]",
      "text/plain": [
       "<Figure size 640x480 with 1 Axes>"
      ]
     },
     "metadata": {},
     "output_type": "display_data"
    }
   ],
   "source": [
    "\"\"\"Q5. Generate a random sample of size 1000 from a binomial distribution with probability of success 0.4 and plot a histogram of the results using matplotlib.\n",
    "\"\"\"\n",
    "\n",
    "import numpy as np\n",
    "import matplotlib.pyplot as plt\n",
    "\n",
    "\n",
    "random_sample = np.random.binomial(n=1, p=0.4, size=1000)\n",
    "\n",
    "plt.hist(random_sample, bins=20)\n",
    "plt.xlabel('Number of Successes')\n",
    "plt.ylabel('Frequency')\n",
    "plt.show()\n"
   ]
  },
  {
   "cell_type": "markdown",
   "id": "90a49f9c-7633-4f60-a41e-74ab0167eb0d",
   "metadata": {},
   "source": [
    "------------------------------------------------------------------------"
   ]
  },
  {
   "cell_type": "code",
   "execution_count": 20,
   "id": "109b5cdf-6e4f-4e7b-9b06-aef2c2de45b6",
   "metadata": {},
   "outputs": [],
   "source": [
    "\"\"\"Q6. Write a Python function to calculate the cumulative distribution function of a Poisson distribution with given mean at a given point.\n",
    "\"\"\"\n",
    "\n",
    "def cdf(x,mean):\n",
    "    \n",
    "    from scipy.stats import poisson\n",
    "    \n",
    "    return poisson.cdf(x,mean) \n"
   ]
  },
  {
   "cell_type": "markdown",
   "id": "1c00df0d-3545-467e-bdf3-6489567dbc61",
   "metadata": {},
   "source": [
    "----------------------------------------------------------------------------------------------------------------------------------------------------------------------------------------------------------------------------------------------"
   ]
  },
  {
   "cell_type": "markdown",
   "id": "0f334458-1ecf-490d-9aa3-d650c1863519",
   "metadata": {},
   "source": [
    "Q7. How Binomial distribution different from Poisson distribution?\n",
    "\n",
    "Ans. Binomial distribution describes the distribution of binary data from a finite sample. Thus it gives the probability of getting r events out of n trials. Poisson distribution describes the distribution of binary data from an infinite sample. Thus it gives the probability of getting r events in a population."
   ]
  },
  {
   "cell_type": "markdown",
   "id": "6af6519d-ba54-4b36-9d14-f6ba238ecb65",
   "metadata": {},
   "source": [
    "-----------------------------------------------------------------------------------------------------------------------------------------------------------------------------------------------------------------------------------------------"
   ]
  },
  {
   "cell_type": "code",
   "execution_count": 35,
   "id": "be9f9c2a-fbba-49e1-9b9e-837d79e381f1",
   "metadata": {},
   "outputs": [
    {
     "name": "stdout",
     "output_type": "stream",
     "text": [
      "sample mean: 5.0 and variance: 5.0\n"
     ]
    }
   ],
   "source": [
    "\"\"\"Q8. Generate a random sample of size 1000 from a Poisson distribution with mean 5 and calculate the sample mean and variance.\n",
    "\"\"\"\n",
    "\n",
    "import numpy as np\n",
    "from scipy.stats import poisson\n",
    "\n",
    "random_sample = np.random.poisson(lam = 5, size =1000)      # since lambda = mean\n",
    "sample_mean = poisson.mean(mu=5)\n",
    "variance = poisson.var(mu=5)\n",
    "print(f\"sample mean: {sample_mean} and variance: {variance}\")"
   ]
  },
  {
   "cell_type": "markdown",
   "id": "6110efb0-f550-48d1-b0af-91a0b17356ec",
   "metadata": {},
   "source": [
    "-----------------------------------------------------------------------------------------------------------------------------------------------------------------------------------------------------------------------------------------------"
   ]
  },
  {
   "cell_type": "markdown",
   "id": "6cb67faa-ad89-4ed6-b363-4fb5affa7610",
   "metadata": {},
   "source": [
    "Q9. How mean and variance are related in Binomial distribution and Poisson distribution?\n",
    "\n",
    "Ans. In Binomial distribution the mean of the binomial distribution is np, and the variance of the binomial distribution is np (1 − p)\n",
    "\n",
    "i.e.  mean = np and variance = npq.\n",
    "\n",
    "The mean and the variance of the Poisson distribution are the same, which is equal to the average number of successes that occur in the given interval of time."
   ]
  },
  {
   "cell_type": "markdown",
   "id": "a81dfe73-f19d-4ef3-ba01-84e9ea201e07",
   "metadata": {},
   "source": [
    "-----------------------------------------------------------------------------------------------------------------------------------------------------------------------------------------------------------------------------------------------"
   ]
  },
  {
   "cell_type": "markdown",
   "id": "fc999b9c-28ff-4494-a922-541716f04a84",
   "metadata": {},
   "source": [
    "Q10. In normal distribution with respect to mean position, where does the least frequent data appear?\n",
    "\n",
    "Ans. In a normal distribution, the least frequent data appears in the tails of the distribution, which are the regions farthest from the mean. This is because the normal distribution is a bell-shaped curve that is symmetrical around the mean, and the majority of the data falls near the center of the distribution. As you move away from the mean towards the tails of the distribution, the frequency of occurrence of the data points decreases. "
   ]
  },
  {
   "cell_type": "markdown",
   "id": "3aac6e3c-fa34-429b-a88f-3fe000eb146b",
   "metadata": {},
   "source": [
    "-----------------------------------------------------------------------------------------------------------------------------------------------------------------------------------------------------------------------------------------------"
   ]
  },
  {
   "cell_type": "code",
   "execution_count": null,
   "id": "6ac71d1f-92b0-4a8e-918c-98c0f71706eb",
   "metadata": {},
   "outputs": [],
   "source": []
  }
 ],
 "metadata": {
  "kernelspec": {
   "display_name": "Python 3 (ipykernel)",
   "language": "python",
   "name": "python3"
  },
  "language_info": {
   "codemirror_mode": {
    "name": "ipython",
    "version": 3
   },
   "file_extension": ".py",
   "mimetype": "text/x-python",
   "name": "python",
   "nbconvert_exporter": "python",
   "pygments_lexer": "ipython3",
   "version": "3.10.8"
  }
 },
 "nbformat": 4,
 "nbformat_minor": 5
}
