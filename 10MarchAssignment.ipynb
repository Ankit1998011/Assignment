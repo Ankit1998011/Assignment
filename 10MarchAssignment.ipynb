{
 "cells": [
  {
   "cell_type": "markdown",
   "id": "c364ceb2-4ff3-4bc3-aa14-56dd65ad34a2",
   "metadata": {},
   "source": [
    "Q1: What is Estimation Statistics? Explain point estimate and interval estimate.\n",
    "\n",
    "Ans. Estimation Statistics is a branch of statistics that deals with the process of estimating or approximating a population parameter based on a sample from that population. It involves using statistical techniques to infer information about a population from a sample.\n",
    "\n",
    "There are two types of estimates that can be made using estimation statistics:\n",
    "\n",
    "1.point estimates \n",
    "\n",
    "2.interval estimates \n",
    "\n",
    "-> A point estimate is a single value that is used to approximate a population parameter. For example, the sample mean can be used as a point estimate of the population mean. Point estimates are relatively easy to compute, but they do not provide any information about the accuracy of the estimate.\n",
    "\n",
    "-> Interval estimates, on the other hand, provide a range of values that are likely to contain the true population parameter. A confidence interval is a type of interval estimate that has a specified level of confidence associated with it. For example, we might say that we are 95% confident that the true population mean lies within a certain range of values. Interval estimates are generally more informative than point estimates because they provide information about the accuracy of the estimate."
   ]
  },
  {
   "cell_type": "markdown",
   "id": "54f7776c-0a19-49e5-a5de-110a80c8cbfc",
   "metadata": {},
   "source": [
    "-----------------------------------------------------------------------------------------------------------------------------------------------------------------------------------------"
   ]
  },
  {
   "cell_type": "code",
   "execution_count": 1,
   "id": "e5e7801f-17d4-4e1b-8ecc-bc5065b3d4aa",
   "metadata": {},
   "outputs": [],
   "source": [
    "\"\"\"Q2. Write a Python function to estimate the population mean using a sample mean and standard\n",
    "deviation.\n",
    "\"\"\"\n",
    "\n",
    "# Solution:-\n",
    "\n",
    "def estimate_pop_mean(sample_mean, sample_std, sample_size):\n",
    "    import math\n",
    "    standard_error = sample_std / math.sqrt(sample_size)\n",
    "    lower_bound = sample_mean - 1.96 * standard_error  # 95% confidence interval\n",
    "    upper_bound = sample_mean + 1.96 * standard_error  # 95% confidence interval\n",
    "    return lower_bound, upper_bound\n"
   ]
  },
  {
   "cell_type": "markdown",
   "id": "3e5a4ba5-f991-484b-b595-32b5a57c00d8",
   "metadata": {},
   "source": [
    "-----------------------------------------------------------------------------------------------------------------------------------------------------------------------------------------"
   ]
  },
  {
   "cell_type": "markdown",
   "id": "071639ca-fff7-43f2-afca-ad15f2fe46c5",
   "metadata": {},
   "source": [
    "Q3: What is Hypothesis testing? Why is it used? State the importance of Hypothesis testing.\n",
    "\n",
    "Ans. Hypothesis testing is a statistical technique that allows us to make inferences about a population based on sample data. The goal of hypothesis testing is to determine whether a certain hypothesis about the population is supported by the available evidence or not.\n",
    "\n",
    "The basic idea behind hypothesis testing is to start with a null hypothesis, which is the hypothesis that there is no difference or no effect in the population. Then, we collect data from a sample and calculate a test statistic, which measures the difference or effect observed in the sample. We compare the test statistic to a critical value or a p-value to determine whether the evidence supports the null hypothesis or not.\n",
    "\n",
    "Hypothesis testing is used in many fields, including science, engineering, medicine, economics, and business, to test theories, make predictions, and make decisions based on data. \n",
    "\n",
    "Hypothesis testing can help us to:\n",
    "\n",
    "1.Evaluate whether an observed effect or difference is statistically significant or due to chance.\n",
    "\n",
    "2.Compare two or more groups or treatments to determine if there is a significant difference between them.\n",
    "\n",
    "3.Test whether a certain relationship or association exists between two or more variables.\n",
    "\n",
    "4.Make decisions based on data, such as accepting or rejecting a product, adopting a new policy, or investing in a new technology.\n",
    "\n",
    "The importance of hypothesis testing lies in its ability to provide a systematic and objective way to test hypotheses and make decisions based on data. By using hypothesis testing, we can avoid making decisions based on intuition, opinion, or personal bias, and instead rely on empirical evidence and statistical analysis. Hypothesis testing can also help us to identify areas where further research or data collection is needed to improve our understanding of the population and the factors that influence it.\n",
    "\n"
   ]
  },
  {
   "cell_type": "markdown",
   "id": "7e16df3e-2c83-4c7a-80cb-e0d067b91d47",
   "metadata": {},
   "source": [
    "-----------------------------------------------------------------------------------------------------------------------------------------------------------------------------------------"
   ]
  },
  {
   "cell_type": "markdown",
   "id": "fd921a66-540c-4650-bdb4-14b27a068d3e",
   "metadata": {},
   "source": [
    "Q4. Create a hypothesis that states whether the average weight of male college students is greater than the average weight of female college students.\n",
    "\n",
    "Ans. Hypothesis: The average weight of male college students is greater than the average weight of female college students.\n",
    "\n",
    "Null hypothesis (H0): The average weight of male college students is equal to or less than the average weight of female college students.\n",
    "\n",
    "Alternate hypothesis (Ha): The average weight of male college students is greater than the average weight of female college students.\n",
    "\n",
    "To test this hypothesis, we would need to collect data on the weights of male and female college students and calculate the sample means and standard deviations for each group. We could then use a t-test or a z-test to compare the two sample means and determine whether the difference between them is statistically significant.\n",
    "\n",
    "It is important to note that this hypothesis is based on a generalization and may not hold true for every individual male and female college student. There may be significant overlap in the weight distribution of male and female college students, and there may be other factors that influence weight, such as height, body composition, diet, and exercise habits. Additionally, this hypothesis assumes that the sample of male and female college students is representative of the entire population of male and female college students, which may not be the case.\n",
    "\n"
   ]
  },
  {
   "cell_type": "markdown",
   "id": "15fa9173-b6a3-431a-9a84-d106339fd91c",
   "metadata": {},
   "source": [
    "-----------------------------------------------------------------------------------------------------------------------------------------------------------------------------------------"
   ]
  },
  {
   "cell_type": "code",
   "execution_count": 1,
   "id": "1f26fd88-e411-4457-8dd6-0f5e610ffb18",
   "metadata": {},
   "outputs": [
    {
     "name": "stdout",
     "output_type": "stream",
     "text": [
      "t-statistic: 6.442236405424191\n",
      "p-value: 9.263568257719487e-10\n",
      "We reject the null hypothesis that the means are equal.\n"
     ]
    }
   ],
   "source": [
    "\"\"\"Q5. Write a Python script to conduct a hypothesis test on the difference between two population means,\n",
    "given a sample from each population.\n",
    "\"\"\"\n",
    "\n",
    "# Solution:-\n",
    "\n",
    "import numpy as np\n",
    "from scipy.stats import ttest_ind\n",
    "\n",
    "# create sample data for two populations\n",
    "pop1 = np.random.normal(loc=10, scale=2, size=100)\n",
    "pop2 = np.random.normal(loc=8, scale=2, size=100)\n",
    "\n",
    "# conduct a two-sample independent t-test\n",
    "t_stat, p_val = ttest_ind(pop1, pop2, equal_var=False)\n",
    "\n",
    "# print the results\n",
    "print(\"t-statistic:\", t_stat)\n",
    "print(\"p-value:\", p_val)\n",
    "if p_val < 0.05:\n",
    "    print(\"We reject the null hypothesis that the means are equal.\")\n",
    "else:\n",
    "    print(\"We fail to reject the null hypothesis that the means are equal.\")\n"
   ]
  },
  {
   "cell_type": "markdown",
   "id": "3ed73047-e47e-4444-a8ce-76c3c1095ece",
   "metadata": {},
   "source": [
    "-----------------------------------------------------------------------------------------------------------------------------------------------------------------------------------------"
   ]
  },
  {
   "cell_type": "markdown",
   "id": "1fdf448c-de59-453a-bd5c-4ce9e1bd2b0a",
   "metadata": {},
   "source": [
    "Q6: What is a null and alternative hypothesis? Give some examples.\n",
    "\n",
    "Ans. ->A null hypothesis is a statement that assumes there is no significant difference between two groups or variables being compared. The null hypothesis is typically denoted by \"H0\".\n",
    "\n",
    "->An alternative hypothesis is a statement that assumes there is a significant difference between two groups or variables being compared. The alternative hypothesis is typically denoted by \"Ha\" or \"H1\".\n",
    "\n",
    "Here are some examples of null and alternative hypotheses:\n",
    "\n",
    "1.Example for the difference between two population means:\n",
    "\n",
    "->Null hypothesis: The average income of men and women is equal.\n",
    "->Alternative hypothesis: The average income of men is greater than the average income of women.\n",
    "\n",
    "2.Example for the relationship between two variables:\n",
    "->Null hypothesis: There is no relationship between hours of study and exam scores.\n",
    "->Alternative hypothesis: There is a positive relationship between hours of study and exam scores.\n",
    "\n",
    "3.Example for the difference between two proportions:\n",
    "->Null hypothesis: The proportion of male voters who support Candidate A is equal to the proportion of female voters who support Candidate A.\n",
    "->Alternative hypothesis: The proportion of male voters who support Candidate A is different from the proportion of female voters who support Candidate A.\n",
    "\n",
    "It is important to note that the null hypothesis is often used as a default assumption and is only rejected if there is sufficient evidence to support the alternative hypothesis. Additionally, the choice of null and alternative hypotheses depends on the research question being asked and the available data."
   ]
  },
  {
   "cell_type": "markdown",
   "id": "81b622d9-551e-4036-a549-934325a408c6",
   "metadata": {},
   "source": [
    "-----------------------------------------------------------------------------------------------------------------------------------------------------------------------------------------"
   ]
  },
  {
   "cell_type": "markdown",
   "id": "0900c358-60d5-4bb0-b468-5be22cd639fb",
   "metadata": {},
   "source": [
    "Q7: Write down the steps involved in hypothesis testing.\n",
    "\n",
    "Ans. Hypothesis testing is a statistical method for making decisions about the characteristics of a population based on a sample of data. The following are the basic steps involved in hypothesis testing:\n",
    "\n",
    "1.State the null hypothesis (H0) and alternative hypothesis (H1): The null hypothesis is a statement about the population that we assume to be true until we have sufficient evidence to reject it. The alternative hypothesis is the statement that we are testing against the null hypothesis.\n",
    "\n",
    "2.Determine the level of significance: The level of significance (alpha) is the probability of making a Type I error, which is rejecting the null hypothesis when it is true. The typical alpha level used is 0.05, meaning there is a 5% chance of making a Type I error.\n",
    "\n",
    "3.Collect the data: Collect a sample of data from the population of interest.\n",
    "\n",
    "4.Compute the test statistic: The test statistic is a measure of how far the sample estimate is from the hypothesized value assuming the null hypothesis is true.\n",
    "\n",
    "5.Determine the p-value: The p-value is the probability of observing a test statistic as extreme or more extreme than the one computed, assuming the null hypothesis is true.\n",
    "\n",
    "6.Make a decision: If the p-value is less than the level of significance, reject the null hypothesis in favor of the alternative hypothesis. If the p-value is greater than the level of significance, fail to reject the null hypothesis.\n",
    "\n",
    "7.Interpret the results: If the null hypothesis is rejected, interpret the results in the context of the problem being investigated. If the null hypothesis is not rejected, state that there is not enough evidence to reject the null hypothesis.\n"
   ]
  },
  {
   "cell_type": "markdown",
   "id": "c593ddc6-0123-4072-90cc-7d917b01e186",
   "metadata": {},
   "source": [
    "------------------------------------------------------------------------------------------------------------------------------------------------------------------------------------------"
   ]
  },
  {
   "cell_type": "markdown",
   "id": "0f0723b1-81ac-47f2-8cec-5c31a906e5ea",
   "metadata": {},
   "source": [
    "Q8. Define p-value and explain its significance in hypothesis testing.\n",
    "\n",
    "Ans. ->In statistics, the p-value is the probability of observing a test statistic as extreme or more extreme than the one computed, assuming the null hypothesis is true. In other words, the p-value measures the strength of evidence against the null hypothesis.\n",
    "\n",
    "->The significance of the p-value in hypothesis testing is that it helps us make a decision about whether to reject or fail to reject the null hypothesis. If the p-value is less than the level of significance (usually 0.05), we reject the null hypothesis in favor of the alternative hypothesis. This means that we have found strong evidence against the null hypothesis, and that there is a low probability that the observed result is due to chance. If the p-value is greater than the level of significance, we fail to reject the null hypothesis. This means that we have not found sufficient evidence to reject the null hypothesis, and that the observed result could be due to chance."
   ]
  },
  {
   "cell_type": "markdown",
   "id": "d0437513-97e3-43ba-aee1-894987063c07",
   "metadata": {},
   "source": [
    "-----------------------------------------------------------------------------------------------------------------------------------------------------------------------------------------"
   ]
  },
  {
   "cell_type": "code",
   "execution_count": 1,
   "id": "8557da28-46ee-4100-b742-77d0ca721bf1",
   "metadata": {},
   "outputs": [
    {
     "data": {
      "image/png": "[encoded data removed]",
      "text/plain": [
       "<Figure size 640x480 with 1 Axes>"
      ]
     },
     "metadata": {},
     "output_type": "display_data"
    }
   ],
   "source": [
    "\"\"\"Q9. Generate a Student's t-distribution plot using Python's matplotlib library, with the degrees of freedom parameter set to 10.\n",
    "\"\"\"\n",
    "\n",
    "# Solution:-\n",
    "\n",
    "import matplotlib.pyplot as plt\n",
    "import numpy as np\n",
    "from scipy.stats import t\n",
    "\n",
    "dof = 10  # degree of freedom\n",
    "x = np.linspace(-5,5,1000)  # generate 1000 points between -5 to 5\n",
    "y = t.pdf(x,dof)\n",
    "plt.plot(x,y)\n",
    "plt.title(\"Student t-plot with dof 10\")\n",
    "plt.xlabel(\"x\")\n",
    "plt.ylabel(\"PDF(x)\")\n",
    "plt.show()"
   ]
  },
  {
   "cell_type": "markdown",
   "id": "2a8aa43b-5547-4d42-be5d-c51d0c59f87e",
   "metadata": {},
   "source": [
    "-----------------------------------------------------------------------------------------------------------------------------------------------------------------------------------------"
   ]
  },
  {
   "cell_type": "code",
   "execution_count": 14,
   "id": "d309b1af-72f7-4b21-8a92-490e76848138",
   "metadata": {},
   "outputs": [
    {
     "name": "stdout",
     "output_type": "stream",
     "text": [
      "t-value: -2.2694694082063633\n",
      "P-value: 0.024317476457803102\n",
      "We can reject null hypothesis\n"
     ]
    }
   ],
   "source": [
    "\"\"\"Q10. Write a Python program to calculate the two-sample t-test for independent samples, given two random samples of equal size and a null hypothesis that the \n",
    "population means are equal.\n",
    "\"\"\"\n",
    "\n",
    "from scipy.stats import ttest_ind\n",
    "import numpy as np\n",
    "\n",
    "s1 = np.random.normal(loc = 1, scale = 3, size = 100)\n",
    "s2 = np.random.normal(loc = 2, scale = 3, size = 100)\n",
    "\n",
    "t_val, p_val = ttest_ind(s1, s2)\n",
    "\n",
    "print(f\"t-value: {t_val}\")\n",
    "print(f\"P-value: {p_val}\")\n",
    "\n",
    "alpha = 0.05  # taking siginificance level 5%\n",
    "\n",
    "if p_val<alpha:\n",
    "    print(\"We can reject null hypothesis\")\n",
    "else:\n",
    "    print(\"We cannot reject null hypothesis\")"
   ]
  },
  {
   "cell_type": "markdown",
   "id": "131f5629-e4a9-4a65-a4f0-83b7ed4729f5",
   "metadata": {},
   "source": [
    "-----------------------------------------------------------------------------------------------------------------------------------------------------------------------------------------"
   ]
  },
  {
   "cell_type": "markdown",
   "id": "163e0f0f-c252-4e35-a858-4b43c1a5eeaa",
   "metadata": {},
   "source": [
    "Q11: What is Student’s t distribution? When to use the t-Distribution.\n",
    "\n",
    "Ans. Student's t-distribution is a probability distribution that arises when trying to estimate the mean of a normally distributed population in situations where the sample size is small and/or the population standard deviation is unknown . The t-distribution is similar in shape to the normal distribution, but has fatter tails, which reflects the increased uncertainty in small samples.\n",
    "\n",
    "In general, the t-distribution is used in statistical inference for hypothesis testing, confidence interval estimation, and sample size determination. Specifically, the t-distribution is used when the sample size is small and/or the population standard deviation is unknown . When the sample size is large, the t-distribution becomes very similar to the standard normal distribution."
   ]
  },
  {
   "cell_type": "markdown",
   "id": "e143271b-f634-4dd7-822c-83cf229dd157",
   "metadata": {},
   "source": [
    "-----------------------------------------------------------------------------------------------------------------------------------------------------------------------------------------"
   ]
  },
  {
   "cell_type": "markdown",
   "id": "b0f6efba-fe4a-4328-b6b9-071e333a71ea",
   "metadata": {},
   "source": [
    "Q12: What is t-statistic? State the formula for t-statistic.\n",
    "\n",
    "Ans. The t-statistic is a measure of the difference between the sample mean and the population mean, relative to the uncertainty or variability in the sample. It is typically used in hypothesis testing to determine whether the sample mean is significantly different from the population mean.\n",
    "\n",
    "The formula for t-statistic depends on the specific context or hypothesis being tested, but in general, it takes the form:\n",
    "\n",
    "t = (xbar - mu) / (s / sqrt(n))\n",
    "\n",
    "where:\n",
    "\n",
    "xbar is the sample mean\n",
    "\n",
    "mu is the hypothesized population mean\n",
    "\n",
    "s is the sample standard deviation\n",
    "\n",
    "n is the sample size"
   ]
  },
  {
   "cell_type": "markdown",
   "id": "0cd3ef25-56ef-47ec-90f9-2c4c3b28d7a4",
   "metadata": {},
   "source": [
    "-----------------------------------------------------------------------------------------------------------------------------------------------------------------------------------------"
   ]
  },
  {
   "cell_type": "markdown",
   "id": "4585c1fc-d518-4037-be77-78cd0a767d36",
   "metadata": {},
   "source": [
    "Q13. A coffee shop owner wants to estimate the average daily revenue for their shop. They take a random sample of 50 days and find the sample mean revenue to be 500  with  a  standard deviation of $50.\n",
    "\n",
    "Estimate the population mean revenue with a 95% confidence interval.\n",
    "\n",
    "\n",
    "Ans. To estimate the population mean revenue with a 95% confidence interval, we can use the formula:\n",
    "\n",
    "CI = xbar +/- z*(s/sqrt(n))\n",
    "\n",
    "Where xbar is the sample mean, s is the sample standard deviation, n is the sample size, z is the z-score corresponding to the desired confidence level, and CI is the confidence interval.\n",
    "\n",
    "For a 95% confidence interval, the z-score is 1.96.\n",
    "\n",
    "Plugging in the given values:\n",
    "\n",
    "CI = 500 +/- 1.96*(50/sqrt(50))\n",
    "\n",
    "Simplifying:\n",
    "\n",
    "CI = 500 +/- 13.825\n",
    "\n",
    "So the 95% confidence interval for the population mean revenue is 486.18 to $513.82.\n"
   ]
  },
  {
   "cell_type": "markdown",
   "id": "1240fde1-cd21-47aa-a30c-779a39a2dec9",
   "metadata": {},
   "source": [
    "-----------------------------------------------------------------------------------------------------------------------------------------------------------------------------------------"
   ]
  },
  {
   "cell_type": "markdown",
   "id": "95839d11-4093-4e3a-8ec7-1e5b66d0480a",
   "metadata": {},
   "source": [
    "Q14. A researcher hypothesizes that a new drug will decrease blood pressure by 10 mmHg. They conduct a clinical trial with 100 patients and find that the sample mean decrease in blood pressure is 8 mmHg with a standard deviation of 3 mmHg. Test the hypothesis with a significance level of 0.05.\n",
    "\n",
    "Ans. \n",
    "\n",
    "Null hypothesis (H0): The true mean decrease in blood pressure is equal to 10 mmHg.\n",
    "\n",
    "Alternative hypothesis (H1): The true mean decrease in blood pressure is less than 10 mmHg.\n",
    "\n",
    "The test statistic for a one-sample t-test is given by:\n",
    "\n",
    "t = (sample mean - hypothesized mean) / (standard error)\n",
    "\n",
    "where the standard error is calculated as:\n",
    "\n",
    "standard error = standard deviation / sqrt(sample size)\n",
    "\n",
    "Substituting the values we have:\n",
    "\n",
    "hypothesized mean (u) = 10 mmHg\n",
    "\n",
    "sample mean (xbar) = 8 mmHg\n",
    "\n",
    "standard deviation (s) = 3 mmHg\n",
    "\n",
    "sample size (n) = 100\n",
    "\n",
    "The standard error is:\n",
    "\n",
    "standard error = 3 / sqrt(100) = 0.3\n",
    "\n",
    "The t-statistic is:\n",
    "\n",
    "t = (8 - 10) / 0.3 = -6.67\n",
    "\n",
    "Using a t-table with (n-1) degrees of freedom, which is 99 in this case, and a significance level of 0.05, the critical t-value for a one-tailed test is -1.66.\n",
    "\n",
    "Since the calculated t-value (-6.67) is less than the critical t-value (-1.66), we reject the null hypothesis and conclude that the true mean decrease in blood pressure is less than 10 mmHg at a significance level of 0.05. Therefore, the new drug does appear to decrease blood pressure, but by less than 10 mmHg."
   ]
  },
  {
   "cell_type": "markdown",
   "id": "066221a9-dee3-4e1b-a386-31424dd83cd0",
   "metadata": {},
   "source": [
    "-----------------------------------------------------------------------------------------------------------------------------------------------------------------------------------------"
   ]
  },
  {
   "cell_type": "markdown",
   "id": "02ce8b5b-a158-45ca-ae8c-da854ba14af3",
   "metadata": {},
   "source": [
    "Q15. An electronics company produces a certain type of product with a mean weight of 5 pounds and a standard deviation of 0.5 pounds. A random sample of 25 products is taken, and the sample mean weight is found to be 4.8 pounds. Test the hypothesis that the true mean weight of the products is less than 5 pounds with a significance level of 0.01.\n",
    "\n",
    "Ans.\n",
    "\n",
    "Null hypothesis (H0): The true mean weight of the products is equal to 5 pounds.\n",
    "\n",
    "Alternative hypothesis (H1): The true mean weight of the products is less than 5 pounds.\n",
    "\n",
    "The test statistic for a one-sample t-test is given by:\n",
    "\n",
    "t = (sample mean - hypothesized mean) / (standard error)\n",
    "\n",
    "where the standard error is calculated as:\n",
    "\n",
    "standard error = standard deviation / sqrt(sample size)\n",
    "\n",
    "Substituting the values we have:\n",
    "\n",
    "hypothesized mean (u) = 5 pounds\n",
    "\n",
    "sample mean (xbar) = 4.8 pounds\n",
    "\n",
    "standard deviation (std) = 0.5 pounds\n",
    "\n",
    "sample size (n) = 25\n",
    "\n",
    "The standard error is:\n",
    "\n",
    "standard error = 0.5 / sqrt(25) = 0.1\n",
    "\n",
    "The t-statistic is:\n",
    "\n",
    "t = (4.8 - 5) / 0.1 = -2\n",
    "\n",
    "Using a t-table with (n-1) degrees of freedom, which is 24 in this case, and a significance level of 0.01, the critical t-value for a one-tailed test is -2.492.\n",
    "\n",
    "Since the calculated t-value (-2) is greater than the critical t-value (-2.492), we fail to reject the null hypothesis and conclude that there is not enough evidence to suggest that the true mean weight of the products is less than 5 pounds at a significance level of 0.01. Therefore, we cannot conclude that the company is producing products that are significantly lighter than their target weight of 5 pounds."
   ]
  },
  {
   "cell_type": "markdown",
   "id": "ec9c5a7e-686d-4f98-bb67-59d41a235a67",
   "metadata": {},
   "source": [
    "-----------------------------------------------------------------------------------------------------------------------------------------------------------------------------------------"
   ]
  },
  {
   "cell_type": "markdown",
   "id": "71ac1a41-6ab2-4807-b6d4-cda8ea6a1a30",
   "metadata": {},
   "source": [
    "Q16. Two groups of students are given different study materials to prepare for a test. The first group (n1 =30) has a mean score of 80 with a standard deviation of 10, and the second group (n2 = 40) has a mean score of 75 with a standard deviation of 8. Test the hypothesis that the population means for the two\n",
    "groups are equal with a significance level of 0.01.\n",
    "\n",
    "Ans. \n",
    "\n",
    "Null hypothesis (H0): The population means for the two groups are equal.\n",
    "\n",
    "Alternative hypothesis (H1): The population means for the two groups are not equal.\n",
    "\n",
    "The test statistic for a two-sample t-test is given by:\n",
    "\n",
    "t = (sample mean 1 - sample mean 2) / (pooled standard error)\n",
    "\n",
    "where the pooled standard error is calculated as:\n",
    "\n",
    "pooled standard error = sqrt((s1^2/10)+(s2^2/8))\n",
    "\n",
    "and s1 and s2 are the sample standard deviations of the two groups, and n1 and n2 are the sample sizes.\n",
    "\n",
    "Substituting the values we have:\n",
    "\n",
    "sample mean 1 = 80\n",
    "sample mean 2 = 75\n",
    "sample standard deviation 1 = 10\n",
    "sample standard deviation 2 = 8\n",
    "sample size 1 (n1) = 30\n",
    "sample size 2 (n2) = 40\n",
    "\n",
    "The pooled standard error is:\n",
    "\n",
    "pooled standard error = sqrt((s1^2/10)+(s2^2/8)) = 2.58\n",
    "\n",
    "The t-statistic is:\n",
    "\n",
    "t = (80 - 75) / 2.58 = 1.94\n",
    "\n",
    "Using a t-table with (n1 + n2 - 2) degrees of freedom, which is 68 in this case, and a significance level of 0.01, the critical t-value for a two-tailed test is +/-2.601.\n",
    "\n",
    "Since the calculated t-value (1.94) is greater than the critical t-value (-2.601) or less than the critical t-value (2.601), we fail to reject the null hypothesis and conclude that there is not enough evidence to suggest that the population means for the two groups are different at a significance level of 0.01. Therefore, we cannot conclude that the study materials had a significant effect on the test scores of the two groups.\n"
   ]
  },
  {
   "cell_type": "markdown",
   "id": "04fa9627-9133-4d78-ac3f-0c6a5cf932b9",
   "metadata": {},
   "source": [
    "-----------------------------------------------------------------------------------------------------------------------------------------------------------------------------------------"
   ]
  },
  {
   "cell_type": "markdown",
   "id": "dccbe09d-0149-4840-8fd0-387c7b718a61",
   "metadata": {},
   "source": [
    "Q17. A marketing company wants to estimate the average number of ads watched by viewers during a TV program. They take a random sample of 50 viewers and find that the sample mean is 4 with a standard deviation of 1.5. Estimate the population mean with a 99% confidence interval.\n",
    "\n",
    "Ans. To estimate the population mean with a 99% confidence interval, we can use the following formula:\n",
    "\n",
    "CI = xbar +/- z*(std / sqrt(n))\n",
    "\n",
    "where xbar is the sample mean, std is the population standard deviation, n is the sample size, and z is the z-score associated with the desired confidence level. Since the population standard deviation is not known, we will use the sample standard deviation as an estimate.\n",
    "\n",
    "Substituting the given values, we have:\n",
    "\n",
    "xbar = 4 (sample mean)\n",
    "std = 1.5 (sample standard deviation)\n",
    "n = 50 (sample size)\n",
    "z = 2.576 (z-score for a 99% confidence level)\n",
    "\n",
    "Plugging these values into the formula, we get:\n",
    "\n",
    "CI = 4 +/- 2.576*(1.5 / sqrt(50))\n",
    "\n",
    "Simplifying, we get:\n",
    "\n",
    "CI = 4 +/- 0.65\n",
    "\n",
    "Therefore, the 99% confidence interval for the population mean of the number of ads watched by viewers during a TV program is (3.35, 4.65). We can be 99% confident that the true population mean falls within this interval."
   ]
  },
  {
   "cell_type": "markdown",
   "id": "f55bbe2c-5ec5-4da3-903e-1e8fa0a32e0b",
   "metadata": {},
   "source": [
    "-----------------------------------------------------------------------------------------------------------------------------------------------------------------------------------------"
   ]
  },
  {
   "cell_type": "code",
   "execution_count": null,
   "id": "b9e28c85-8716-40d7-9253-1226919a4d24",
   "metadata": {},
   "outputs": [],
   "source": []
  }
 ],
 "metadata": {
  "kernelspec": {
   "display_name": "Python 3 (ipykernel)",
   "language": "python",
   "name": "python3"
  },
  "language_info": {
   "codemirror_mode": {
    "name": "ipython",
    "version": 3
   },
   "file_extension": ".py",
   "mimetype": "text/x-python",
   "name": "python",
   "nbconvert_exporter": "python",
   "pygments_lexer": "ipython3",
   "version": "3.10.8"
  }
 },
 "nbformat": 4,
 "nbformat_minor": 5
}
