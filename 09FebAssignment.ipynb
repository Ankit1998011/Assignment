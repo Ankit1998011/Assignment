{
 "cells": [
  {
   "cell_type": "code",
   "execution_count": 1,
   "id": "162f16c9-20bc-497d-8270-408b34ae6b05",
   "metadata": {},
   "outputs": [],
   "source": [
    "# Q1. Solution:-\n",
    "\n",
    "class Vehicle:\n",
    "    \n",
    "    def __init__(self,name_vehicle,max_speed,avg_vehicle):\n",
    "        self.name_of_vehicle = name_vehicle\n",
    "        self.max_speed = max_speed\n",
    "        self.average_of_vehicle = avg_vehicle\n",
    "\n"
   ]
  },
  {
   "cell_type": "code",
   "execution_count": 2,
   "id": "9a1327a1-9539-447b-9829-24f6f241be2c",
   "metadata": {},
   "outputs": [],
   "source": [
    "c1 = Vehicle(\"Maruti Swift\",200,32)"
   ]
  },
  {
   "cell_type": "code",
   "execution_count": 4,
   "id": "654ad8b8-31f6-464d-b817-dd20a70ad044",
   "metadata": {},
   "outputs": [
    {
     "data": {
      "text/plain": [
       "'Maruti Swift'"
      ]
     },
     "execution_count": 4,
     "metadata": {},
     "output_type": "execute_result"
    }
   ],
   "source": [
    "c1.name_of_vehicle"
   ]
  },
  {
   "cell_type": "code",
   "execution_count": 6,
   "id": "34cece84-2b54-46c2-bf82-e405045fa528",
   "metadata": {},
   "outputs": [
    {
     "data": {
      "text/plain": [
       "200"
      ]
     },
     "execution_count": 6,
     "metadata": {},
     "output_type": "execute_result"
    }
   ],
   "source": [
    "c1.max_speed"
   ]
  },
  {
   "cell_type": "code",
   "execution_count": 7,
   "id": "77a0f694-6745-4137-8e3b-6d77d3ed602a",
   "metadata": {},
   "outputs": [
    {
     "data": {
      "text/plain": [
       "32"
      ]
     },
     "execution_count": 7,
     "metadata": {},
     "output_type": "execute_result"
    }
   ],
   "source": [
    "c1.average_of_vehicle"
   ]
  },
  {
   "cell_type": "markdown",
   "id": "e1ad9ccb-a7ea-46e0-b263-31b414ea35ea",
   "metadata": {},
   "source": [
    "-----------------------------------------------------------------------------------------------------------------------------------------------------------------------------------------"
   ]
  },
  {
   "cell_type": "code",
   "execution_count": 9,
   "id": "e276b518-473a-4ec0-9c17-51b86508c560",
   "metadata": {},
   "outputs": [],
   "source": [
    "# Q2. Solution:-\n",
    "\n",
    "class Car(Vehicle):\n",
    "    \n",
    "    def seating_capacity(self,capacity):\n",
    "        return self.name_of_vehicle,capacity"
   ]
  },
  {
   "cell_type": "code",
   "execution_count": 11,
   "id": "4d2709a5-e0b1-46d8-b650-b026adc82b18",
   "metadata": {},
   "outputs": [],
   "source": [
    "c1 = Car(\"Maruti Swift\",200,32)"
   ]
  },
  {
   "cell_type": "code",
   "execution_count": 12,
   "id": "4b6321e4-c51a-4bc8-9781-8ba74f0e4baf",
   "metadata": {},
   "outputs": [
    {
     "data": {
      "text/plain": [
       "('Maruti Swift', 5)"
      ]
     },
     "execution_count": 12,
     "metadata": {},
     "output_type": "execute_result"
    }
   ],
   "source": [
    "c1.seating_capacity(5)"
   ]
  },
  {
   "cell_type": "markdown",
   "id": "b859bfe6-08b4-4278-9b67-fdb89a4ee2b8",
   "metadata": {},
   "source": [
    "------------------------------------------------------------------------------------------------------------------------------------------------------------------------"
   ]
  },
  {
   "cell_type": "markdown",
   "id": "2026636b-dd5b-47d1-90e6-8a048cac7121",
   "metadata": {},
   "source": [
    "Q3. What is multiple inheritance? Write a python code to demonstrate multiple inheritance.\n",
    "\n",
    "Ans. When a class is derived from more than one base class it is called multiple Inheritance. The derived class inherits all the features of the base classes.\n"
   ]
  },
  {
   "cell_type": "code",
   "execution_count": 20,
   "id": "c43bf8a0-85e8-463d-ba51-cdcbd4660506",
   "metadata": {},
   "outputs": [],
   "source": [
    "# Multiple Inheritance Example:-\n",
    "\n",
    "class A:   # Base class\n",
    "    \n",
    "    def hello_A(self):\n",
    "        print(\"Hello this is from class A\")"
   ]
  },
  {
   "cell_type": "code",
   "execution_count": 21,
   "id": "190fe17b-c043-4037-841c-e120700203c6",
   "metadata": {},
   "outputs": [],
   "source": [
    "class B:   # Base class\n",
    "    \n",
    "    def hello_B(self):\n",
    "        print(\"Hello this is from class B\")"
   ]
  },
  {
   "cell_type": "code",
   "execution_count": 22,
   "id": "36f11103-4a3b-4400-b8c0-7c5130ee6ae3",
   "metadata": {},
   "outputs": [],
   "source": [
    "class C(A,B):   # child class of class A and class B\n",
    "    \n",
    "    pass\n",
    "        \n",
    "    "
   ]
  },
  {
   "cell_type": "code",
   "execution_count": 23,
   "id": "379ef8da-29a5-4cd2-a811-4ef44c6769fd",
   "metadata": {},
   "outputs": [
    {
     "name": "stdout",
     "output_type": "stream",
     "text": [
      "Hello this is from class A\n",
      "Hello this is from class B\n"
     ]
    }
   ],
   "source": [
    "c1 = C()\n",
    "\n",
    "c1.hello_A()\n",
    "c1.hello_B()"
   ]
  },
  {
   "cell_type": "markdown",
   "id": "0d8ca090-2efb-4336-9411-5f46ca9e9eea",
   "metadata": {},
   "source": [
    "--------------------------------------------------------------------------------------------------------------------------------------------------------------------------------------"
   ]
  },
  {
   "cell_type": "markdown",
   "id": "e22c424c-9847-4b6f-b348-b70fb5349955",
   "metadata": {},
   "source": [
    "Q4. What are getter and setter in python? Create a class and create a getter and a setter method in this class.\n",
    "\n",
    "Ans. The use of getters and setters in object-oriented programs in python is to ensure data encapsulation.\n",
    "Private variables in python are not actually hidden fields like in other object oriented languages.\n",
    "\n",
    "Getters and Setters in python are often used to avoid direct access of a class field i.e. private variables cannot be accessed directly or modified by external user."
   ]
  },
  {
   "cell_type": "code",
   "execution_count": 30,
   "id": "e31886a7-8d4b-4b10-a0ec-59664d110de9",
   "metadata": {},
   "outputs": [],
   "source": [
    "# getter and setter example:-\n",
    "\n",
    "class Student:\n",
    "    \n",
    "    def __init__(self,name,age):\n",
    "        self.name = name\n",
    "        self.__age = age          # age here is private variavle\n",
    "        \n",
    "    \n",
    "    \n",
    "    @property\n",
    "    def get_age(self):                    # this is getter method\n",
    "        print(\"This is getter method\")\n",
    "        return self.__age\n",
    "    \n",
    "    @get_age.setter\n",
    "    def set_age(self,age):             # this is setter method\n",
    "        print(\"This is setter method\")\n",
    "        if age>0:\n",
    "            self.__age = age\n",
    "        else:\n",
    "            pass\n",
    "\n",
    "            "
   ]
  },
  {
   "cell_type": "code",
   "execution_count": 31,
   "id": "065e2810-2513-4264-8ef9-b0bf7f091040",
   "metadata": {},
   "outputs": [],
   "source": [
    "s1 = Student(\"Ravi\",19)"
   ]
  },
  {
   "cell_type": "code",
   "execution_count": 34,
   "id": "b8d23e2b-9c91-48f4-a997-7ee860d1b67b",
   "metadata": {},
   "outputs": [
    {
     "name": "stdout",
     "output_type": "stream",
     "text": [
      "This is getter method\n"
     ]
    },
    {
     "data": {
      "text/plain": [
       "19"
      ]
     },
     "execution_count": 34,
     "metadata": {},
     "output_type": "execute_result"
    }
   ],
   "source": [
    "s1.get_age"
   ]
  },
  {
   "cell_type": "code",
   "execution_count": 35,
   "id": "2837ebd4-9ae7-4e70-b973-bfa5a1364059",
   "metadata": {},
   "outputs": [
    {
     "name": "stdout",
     "output_type": "stream",
     "text": [
      "This is setter method\n"
     ]
    }
   ],
   "source": [
    "s1.set_age = 17"
   ]
  },
  {
   "cell_type": "code",
   "execution_count": 36,
   "id": "44b99503-9644-483d-802a-e7f3ea65c86b",
   "metadata": {},
   "outputs": [
    {
     "name": "stdout",
     "output_type": "stream",
     "text": [
      "This is getter method\n"
     ]
    },
    {
     "data": {
      "text/plain": [
       "17"
      ]
     },
     "execution_count": 36,
     "metadata": {},
     "output_type": "execute_result"
    }
   ],
   "source": [
    "s1.get_age"
   ]
  },
  {
   "cell_type": "markdown",
   "id": "5f0ad92c-6afb-44fd-9444-222a233475fc",
   "metadata": {},
   "source": [
    "-----------------------------------------------------------------------------------------------------------------------------------------------------------------------------------------"
   ]
  },
  {
   "cell_type": "markdown",
   "id": "9a9c0557-0153-4bc7-acb6-850f9fd2f991",
   "metadata": {},
   "source": [
    "Q5.What is method overriding in python? Write a python code to demonstrate method overriding.\n",
    "\n",
    "Ans. Method overriding is an ability of any object-oriented programming language that allows a subclass or child class to provide a specific implementation of a method that is already provided by one of its super-classes or parent classes. When a method in a subclass has the same name, same parameters or signature and same return type(or sub-type) as a method in its super-class, then the method in the subclass is said to override the method in the super-class."
   ]
  },
  {
   "cell_type": "code",
   "execution_count": 38,
   "id": "20d7b475-f295-47de-8bd4-83d8177a3112",
   "metadata": {},
   "outputs": [],
   "source": [
    "# Example method Overriding:-\n",
    "\n",
    "class Animal:\n",
    "    \n",
    "    def show(self):\n",
    "        print(\"This is Animal\")\n",
    "        "
   ]
  },
  {
   "cell_type": "code",
   "execution_count": 39,
   "id": "4f7d1f47-5154-4c18-a765-be4d3339b994",
   "metadata": {},
   "outputs": [],
   "source": [
    "class Dog1(Animal):                 \n",
    "    \n",
    "    pass                  # here we are not method overiding\n",
    "        \n",
    "        \n",
    "class Dog2(Animal):\n",
    "    \n",
    "    def show(self):             # here we method overiding\n",
    "         print(\"This is Dog2\")"
   ]
  },
  {
   "cell_type": "code",
   "execution_count": 40,
   "id": "92cc74e2-7b06-474e-ba54-9da66fe2208c",
   "metadata": {},
   "outputs": [],
   "source": [
    "d1 = Dog1()"
   ]
  },
  {
   "cell_type": "code",
   "execution_count": 42,
   "id": "60946938-93c6-4aac-ab37-4e60bd3fc567",
   "metadata": {},
   "outputs": [
    {
     "name": "stdout",
     "output_type": "stream",
     "text": [
      "This is Animal\n"
     ]
    }
   ],
   "source": [
    "d1.show()    # show method inherited from Animal class but not  overidden"
   ]
  },
  {
   "cell_type": "code",
   "execution_count": 43,
   "id": "0cf57abb-c674-4eb6-9cf8-291cdc5b0a5c",
   "metadata": {},
   "outputs": [],
   "source": [
    "d2 = Dog2()"
   ]
  },
  {
   "cell_type": "code",
   "execution_count": 45,
   "id": "9c2377c0-d8d5-4196-84fd-348adf91cc54",
   "metadata": {},
   "outputs": [
    {
     "name": "stdout",
     "output_type": "stream",
     "text": [
      "This is Dog2\n"
     ]
    }
   ],
   "source": [
    "d2.show()    # show method inherited from Animal class but  overidden"
   ]
  },
  {
   "cell_type": "code",
   "execution_count": null,
   "id": "b5fa264a-63d8-45ff-af56-fd5578b9ebe7",
   "metadata": {},
   "outputs": [],
   "source": []
  }
 ],
 "metadata": {
  "kernelspec": {
   "display_name": "Python 3 (ipykernel)",
   "language": "python",
   "name": "python3"
  },
  "language_info": {
   "codemirror_mode": {
    "name": "ipython",
    "version": 3
   },
   "file_extension": ".py",
   "mimetype": "text/x-python",
   "name": "python",
   "nbconvert_exporter": "python",
   "pygments_lexer": "ipython3",
   "version": "3.10.8"
  }
 },
 "nbformat": 4,
 "nbformat_minor": 5
}
