{
 "cells": [
  {
   "cell_type": "markdown",
   "id": "cc76fe3e-c43b-4389-9b2f-6e9887aad20b",
   "metadata": {},
   "source": [
    "# Q1. Explain With an example each when to use a for loop and a while loop.\n",
    "\n",
    "Ans. \n",
    "\n",
    "'for Loop':- We use for loop were we know how many times we need to iterate code block\n",
    "and in for loop we don't need to give condition since condition is not checked.\n",
    "\n",
    "\n",
    "    \n",
    "'while loop':- We use while loop were we iterate code inside loop until the condition is true. After each iteration the condition is checked\n",
    "and if condition become false then we stop the iteration.\n",
    "\n",
    "It can also be said that we use while loop were we don't know how many iterations is required.\n",
    "\n"
   ]
  },
  {
   "cell_type": "code",
   "execution_count": 20,
   "id": "c8208f42-0023-49cd-b917-5892098dcaab",
   "metadata": {},
   "outputs": [
    {
     "name": "stdout",
     "output_type": "stream",
     "text": [
      "Using for Loop:\n",
      "1\n",
      "2\n",
      "3\n",
      "4\n",
      "\n",
      "\n",
      "Using while Loop:\n",
      "1\n",
      "2\n",
      "3\n",
      "4\n",
      "5\n",
      "6\n"
     ]
    }
   ],
   "source": [
    "#example for loop:- \n",
    "\n",
    "l = [1,2,3,4]\n",
    "\n",
    "#Here we don't need condition since we know how many times we have to iterate\n",
    "\n",
    "print(\"Using for Loop:\")\n",
    "\n",
    "for i in l:        #Here we don't need condition since we know how many times we have to iterate\n",
    "    print(i)\n",
    "    \n",
    "\n",
    "print(\"\\n\")\n",
    "#example while loop:-\n",
    "\n",
    "print(\"Using while Loop:\")\n",
    "\n",
    "i = 1\n",
    "while i<=6:     #Here after each iteration condition is checked and if not True then loop will stop\n",
    "    print(i)\n",
    "    i+=1\n",
    "    \n"
   ]
  },
  {
   "cell_type": "code",
   "execution_count": 21,
   "id": "9485528f-2eed-40bc-a5df-f86114c6964c",
   "metadata": {},
   "outputs": [
    {
     "name": "stdout",
     "output_type": "stream",
     "text": [
      "sum and multiplication of first 10 natural number using 'while' loop: sum = 55, mul= 3628800\n",
      "sum and multiplication of first 10 natural number using 'for' loop: sum = 55, mul= 3628800\n"
     ]
    }
   ],
   "source": [
    "# Q2 Solution:-\n",
    "\n",
    "res_while_sum = 0\n",
    "res_for_sum = 0\n",
    "\n",
    "res_while_mul = 1\n",
    "res_for_mul = 1\n",
    "\n",
    "counter = 1\n",
    "while counter<=10:\n",
    "    res_while_sum = res_while_sum + counter\n",
    "    res_while_mul = res_while_mul*counter\n",
    "    counter+=1\n",
    "print(f\"sum and multiplication of first 10 natural number using 'while' loop: sum = {res_while_sum}, mul= {res_while_mul}\")\n",
    "for i in range(1,11):\n",
    "    res_for_sum = res_for_sum + i\n",
    "    res_for_mul = res_for_mul*i\n",
    "\n",
    "print(f\"sum and multiplication of first 10 natural number using 'for' loop: sum = {res_while_sum}, mul= {res_while_mul}\")"
   ]
  },
  {
   "cell_type": "code",
   "execution_count": 22,
   "id": "91e7e25a-fbd1-4a8d-82bc-861ee5e93c0a",
   "metadata": {},
   "outputs": [
    {
     "name": "stdin",
     "output_type": "stream",
     "text": [
      "Enter Unit consumed:  310\n"
     ]
    },
    {
     "name": "stdout",
     "output_type": "stream",
     "text": [
      "Total Electricity bill for month is Rs.2250.0\n"
     ]
    }
   ],
   "source": [
    "# Q3.Solution:-\n",
    "\n",
    "unit_used = float(input(\"Enter Unit consumed: \"))\n",
    "bill = 0\n",
    "if unit_used<0:\n",
    "    print(\"Invalid Input\")\n",
    "else:\n",
    "    if unit_used<=100:\n",
    "        bill = unit_used*4.5\n",
    "    elif unit_used<=200:\n",
    "        bill = 100*4.5+((unit_used-100)*6)\n",
    "    elif unit_used<=300:\n",
    "        bill = 100*4.5+100*6+((unit_used-200)*10)\n",
    "    else:\n",
    "        bill = 100*4.5+100*6+100*10+((unit_used-300)*20)\n",
    "\n",
    "    print(f\"Total Electricity bill for month is Rs.{bill}\")"
   ]
  },
  {
   "cell_type": "code",
   "execution_count": 23,
   "id": "c7b0c9b8-7403-449b-a3fb-8059683f05b8",
   "metadata": {},
   "outputs": [
    {
     "name": "stdout",
     "output_type": "stream",
     "text": [
      "Result List using 'for' Loop:\n",
      "[2, 4, 5, 6, 8, 10, 12, 14, 15, 16, 18, 20, 22, 24, 25, 26, 28, 30, 32, 34, 35, 36, 38, 40, 42, 44, 45, 46, 48, 50, 52, 54, 55, 56, 58, 60, 62, 64, 65, 66, 68, 70, 72, 74, 75, 76, 78, 80, 82, 84, 85, 86, 88, 90, 92, 94, 95, 96, 98, 100]\n",
      "\n",
      "\n",
      "Result List using 'while' Loop:\n",
      "[2, 4, 5, 6, 8, 10, 12, 14, 15, 16, 18, 20, 22, 24, 25, 26, 28, 30, 32, 34, 35, 36, 38, 40, 42, 44, 45, 46, 48, 50, 52, 54, 55, 56, 58, 60, 62, 64, 65, 66, 68, 70, 72, 74, 75, 76, 78, 80, 82, 84, 85, 86, 88, 90, 92, 94, 95, 96, 98, 100]\n"
     ]
    }
   ],
   "source": [
    "# Q4. Solution:-\n",
    "\n",
    "l = list(range(1,101))\n",
    "\n",
    "res_for = []\n",
    "\n",
    "res_while = []\n",
    "\n",
    "\n",
    "for i in l:                                # using  for loop\n",
    "    if (i**3)%4== 0 or (i**3)%5 == 0:\n",
    "        res_for.append(i)\n",
    "\n",
    "i = 0\n",
    "while i<len(l):                            # using while loop\n",
    "    if (l[i]**3)%4== 0 or (l[i]**3)%5 == 0:\n",
    "        res_while.append(l[i])\n",
    "    i+=1\n",
    "    \n",
    "print(f\"Result List using 'for' Loop:\\n{res_for}\")\n",
    "print(\"\\n\")\n",
    "print(f\"Result List using 'while' Loop:\\n{res_while}\")"
   ]
  },
  {
   "cell_type": "code",
   "execution_count": 29,
   "id": "64fdd255-c7ac-4273-8e33-95e46097fb6e",
   "metadata": {},
   "outputs": [
    {
     "name": "stdout",
     "output_type": "stream",
     "text": [
      "List of Filtered Vowels: ['I', 'a', 'o', 'e', 'o', 'e', 'a', 'a', 'a', 'i', 'e', 'i'] \n",
      "\n",
      "Count of vowels in given string: 12\n"
     ]
    }
   ],
   "source": [
    "# Q5. Solution:-\n",
    "\n",
    "string = \"I want to become a data scientist\"\n",
    "filter_res = []\n",
    "\n",
    "for i in string:\n",
    "    if i in 'aAeEiIoOuU':\n",
    "        filter_res.append(i)\n",
    "print(f\"List of Filtered Vowels: {filter_res} \\n\")\n",
    "print(f\"Count of vowels in given string: {len(filter_res)}\")"
   ]
  },
  {
   "cell_type": "code",
   "execution_count": null,
   "id": "fa64a36f-fcf9-465b-93e1-58296d4f1c6b",
   "metadata": {},
   "outputs": [],
   "source": []
  }
 ],
 "metadata": {
  "kernelspec": {
   "display_name": "Python 3 (ipykernel)",
   "language": "python",
   "name": "python3"
  },
  "language_info": {
   "codemirror_mode": {
    "name": "ipython",
    "version": 3
   },
   "file_extension": ".py",
   "mimetype": "text/x-python",
   "name": "python",
   "nbconvert_exporter": "python",
   "pygments_lexer": "ipython3",
   "version": "3.10.8"
  }
 },
 "nbformat": 4,
 "nbformat_minor": 5
}
