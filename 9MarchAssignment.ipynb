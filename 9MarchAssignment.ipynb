{
 "cells": [
  {
   "cell_type": "markdown",
   "id": "ca017734-bab6-4526-91b2-fddbe2effeec",
   "metadata": {},
   "source": [
    "Q1: What are the Probability Mass Function (PMF) and Probability Density Function (PDF)? Explain with an example.\n",
    "\n",
    "Ans. The Probability Mass Function (PMF) and Probability Density Function (PDF) are two important concepts in probability theory that are used to describe the probability distribution of a random variable.\n",
    "\n",
    "-->Probability Mass Function (PMF):- is a function that describes the probability distribution of a discrete random variable. It gives the probability of each possible outcome in the sample space of the random variable. The PMF is defined as:\n",
    "\n",
    "PMF(x) = P(X=x)\n",
    "\n",
    "where X is the discrete random variable and x is a specific value of X. The PMF returns the probability of the random variable X taking the value x.\n",
    "\n",
    "For example, let's consider a fair six-sided dice roll. The possible outcomes of the dice roll are 1, 2, 3, 4, 5, and 6, each with an equal probability of 1/6. The PMF of the dice roll can be written as:\n",
    "\n",
    "PMF(1) = 1/6\n",
    "PMF(2) = 1/6\n",
    "PMF(3) = 1/6\n",
    "PMF(4) = 1/6\n",
    "PMF(5) = 1/6\n",
    "PMF(6) = 1/6\n",
    "\n",
    "This means that the probability of rolling a 1, 2, 3, 4, 5, or 6 on the dice is 1/6.\n",
    "\n",
    "\n",
    "-->Probability Density Function:- The Probability Density Function (PDF) is a function that describes the probability distribution of a continuous random variable. It is used to find the probability of a random variable falling within a particular range of values. The PDF is defined as:\n",
    "\n",
    "PDF(x) = dF(x)/dx\n",
    "\n",
    "where F(x) is the cumulative distribution function (CDF) of the continuous random variable.\n",
    "\n",
    "For example, let's consider the height of people in a certain population. The height can take any value between a minimum and maximum value, and it is a continuous variable. The PDF of the height can be used to find the probability of a person's height falling within a particular range of values. The PDF of the height may look like a bell-shaped curve, known as the normal distribution.\n",
    "\n",
    "The PDF of the normal distribution can be written as:\n",
    "\n",
    "PDF(x) = (1/σ√(2π)) * e^(-(x-μ)^2/(2σ^2))\n",
    "\n",
    "where μ is the mean of the distribution, σ is the standard deviation of the distribution, and e is the mathematical constant approximately equal to 2."
   ]
  },
  {
   "cell_type": "markdown",
   "id": "f31154da-a8a7-4734-ba38-7b7f0bb7324f",
   "metadata": {},
   "source": [
    "------------------------------------------------------------------------------------------------------------------------------------------------------------------------------------------"
   ]
  },
  {
   "cell_type": "markdown",
   "id": "d609c079-5546-4f42-a515-e4306b8e337e",
   "metadata": {},
   "source": [
    "Q2: What is Cumulative Density Function (CDF)? Explain with an example. Why CDF is used?\n",
    "\n",
    "Ans. A cumulative distribution function (CDF) is a function that describes the probability that a random variable takes a value less than or equal to a certain value. In other words, it's the probability distribution of a random variable, but expressed as the probability that it takes on a value less than or equal to a particular value.\n",
    "\n",
    "For example, suppose we have a random variable X that takes on values from 0 to 10 with equal probability. The CDF for X would be a function that looks like a step function, where the probability of X being less than or equal to a certain value increases by 0.1 at each step.\n",
    "\n",
    "The CDF is used for a variety of purposes, including:\n",
    "\n",
    "1.Calculating probabilities: The CDF can be used to calculate the probability that a random variable takes on a value less than or equal to a certain value.\n",
    "\n",
    "2.Understanding the distribution of data: The shape of the CDF can tell us about the distribution of the data. For example, a CDF that starts out steep and then levels off indicates that the data is concentrated in a narrow range.\n",
    "\n",
    "3.Comparing distributions: The CDF can be used to compare the distributions of two or more random variables."
   ]
  },
  {
   "cell_type": "markdown",
   "id": "7e87ff16-ae8e-4ee3-b3c7-d91e33c238ff",
   "metadata": {},
   "source": [
    "-----------------------------------------------------------------------------------------------------------------------------------------------------------------------------------------"
   ]
  },
  {
   "cell_type": "markdown",
   "id": "9affb2db-1070-498b-8f71-7bac12db225b",
   "metadata": {},
   "source": [
    "Q3: What are some examples of situations where the normal distribution might be used as a model?Explain how the parameters of the normal distribution relate to the shape of the distribution.\n",
    "\n",
    "Ans. The normal distribution, also known as the Gaussian distribution or bell curve, is a common probability distribution used to model a wide range of phenomena in various fields. Some examples of situations where the normal distribution might be used as a model include:\n",
    "\n",
    "1.Height or weight measurements of a population\n",
    "2.Test scores or grades of students\n",
    "3.Errors or residuals of a statistical model\n",
    "4.Reaction times in psychology experiments\n",
    "5.Lifetime of electronic devices\n",
    "6.Stock prices and market returns\n",
    "\n",
    "The normal distribution is defined by its mean and standard deviation, which are its two parameters, and they determine the shape of the distribution. The mean is the center of the distribution, and the standard deviation determines how spread out the distribution is around the mean.\n",
    "\n",
    "Specifically, the mean determines where the peak of the distribution is located, while the standard deviation influences the width of the curve. A smaller standard deviation corresponds to a narrower peak and a taller, skinnier distribution, while a larger standard deviation results in a wider peak and a flatter, wider distribution."
   ]
  },
  {
   "cell_type": "markdown",
   "id": "8469d9ed-fbd0-4985-8b2c-d06a603ccc25",
   "metadata": {},
   "source": [
    "-----------------------------------------------------------------------------------------------------------------------------------------------------------------------------------------"
   ]
  },
  {
   "cell_type": "markdown",
   "id": "2badd2a0-d2a3-42ec-941b-04b2f128bcfa",
   "metadata": {},
   "source": [
    "Q4: Explain the importance of Normal Distribution. Give a few real-life examples of Normal Distribution.\n",
    "\n",
    "Ans. Normal distribution is a statistical concept that describes a probability distribution where most of the observations tend to cluster around the mean, with fewer observations further away from the mean in both directions. The normal distribution is important in statistics because it provides a useful framework for modeling real-world phenomena that tend to have a bell-shaped distribution.\n",
    "\n",
    "Here are some real-life examples of normal distribution:\n",
    "\n",
    "1.Heights of people: In a large population, the height of people often follows a normal distribution curve with the majority of people falling around the average height and fewer people falling at the extremes of the height range.\n",
    "\n",
    "2.Exam scores: In a large population of students taking an exam, the distribution of scores usually follows a normal distribution curve with most students scoring near the average and fewer students scoring at the high and low extremes.\n",
    "\n",
    "3.Weights of produce: In agriculture, the weight of produce, such as apples or oranges, harvested from a large population of trees usually follows a normal distribution curve with most of the harvest close to the average weight and fewer apples or oranges weighing significantly more or less.\n",
    "\n",
    "4.Measurement errors: The measurement errors in various instruments such as scales, gauges, and thermometers also tend to follow a normal distribution curve with most errors clustering around zero, and fewer errors at the extremes.\n",
    "\n",
    "5.IQ scores: In a large population, IQ scores tend to follow a normal distribution curve, with most people having average scores and fewer people having scores at the high or low extremes.\n"
   ]
  },
  {
   "cell_type": "markdown",
   "id": "d0d4c8b1-d89e-430e-807b-5131a8dc6c3c",
   "metadata": {},
   "source": [
    "-----------------------------------------------------------------------------------------------------------------------------------------------------------------------------------------"
   ]
  },
  {
   "cell_type": "markdown",
   "id": "c1366d0f-0471-4f60-ba76-6e3c61d80f08",
   "metadata": {},
   "source": [
    "Q5: What is Bernaulli Distribution? Give an Example. What is the difference between Bernoulli Distribution and Binomial Distribution?\n",
    "\n",
    "Ans. The Bernoulli distribution is a discrete probability distribution that describes a single yes/no experiment where two outcomes are possible (usually labeled success and failure). The distribution models the probability of obtaining a success or failure outcome in a single trial.\n",
    "\n",
    "In other words, the Bernoulli distribution provides the probability of success (p) or failure (1-p) in a single independent experiment with only two possible outcomes.\n",
    "\n",
    "For example, a coin flip is a Bernoulli experiment, where heads is success and tails is failure.\n",
    "\n",
    "The difference between the Bernoulli distribution and the binomial distribution is that the binomial distribution models the number of successes (or failures) that occur in a fixed number of independent trials, each with the same probability of success. In other words, the binomial distribution is the sum of independent Bernoulli trials. For example, the number of heads obtained in 10 coin flips would be modeled by a binomial distribution."
   ]
  },
  {
   "cell_type": "markdown",
   "id": "807be046-1346-474d-bc2e-14be4caa6f5a",
   "metadata": {},
   "source": [
    "-----------------------------------------------------------------------------------------------------------------------------------------------------------------------------------------"
   ]
  },
  {
   "cell_type": "markdown",
   "id": "a83274a2-9753-45e0-9e1b-b44c3fab780e",
   "metadata": {},
   "source": [
    "Q6. Consider a dataset with a mean of 50 and a standard deviation of 10. If we assume that the dataset is normally distributed, what is the probability that a randomly selected observation will be greater than 60? Use the appropriate formula and show your calculations.\n",
    "\n",
    "Ans. We can use the Z-Score and Z-table:-\n",
    "\n",
    "Z-Score = (Xi - mu) / sigma\n",
    "\n",
    "where Xi is the value , mu is the mean, and sigma is the standard deviation.\n",
    "\n",
    "In this case, Xi = 60, mu = 50, and sigma = 10, so:\n",
    "\n",
    "Z-Score = (60 - 50) / 10\n",
    "Z-Score = 1\n",
    "\n",
    "Now we can use Z-table to find the corresponding value to Z-Score = 1 \n",
    "\n",
    "From Z-table, we can find that the probability of a standard normal variable being less than or equal to 1 is approximately 0.8413.\n",
    "\n",
    "So:\n",
    "\n",
    "P(X <= 60) = 0.8413\n",
    "P(X > 60) = 1 - 0.8413\n",
    "          = 0.1587\n",
    "\n",
    "Therefore, the probability that a randomly selected observation from a normal distribution with a mean of 50 and standard deviation of 10 is greater than 60 is approximately 0.1587 or 15.87%.\n",
    "\n"
   ]
  },
  {
   "cell_type": "markdown",
   "id": "1ae06481-63f7-44e5-bba0-bedd2bc08de6",
   "metadata": {},
   "source": [
    "------------------------------------------------------------------------------------------------------------------------------------------------------------------------------------------"
   ]
  },
  {
   "cell_type": "markdown",
   "id": "cf71ff10-74fc-4ada-bdd9-59caeb622500",
   "metadata": {},
   "source": [
    "Q7: Explain uniform Distribution with an example.\n",
    "\n",
    "Ans. Uniform distribution is a type of probability distribution in which all the outcomes within a given range are equally likely. In other words, each value within a range has an equal probability of occurring.\n",
    "\n",
    "As an example, consider rolling a fair six-sided dice. Each side has exactly the same probability of being rolled, which is 1/6 or approximately 0.167. Hence, the outcomes from rolling a fair six-sided dice follow a discrete uniform distribution with a range of 1 to 6.\n",
    "\n",
    "Similarly, suppose we consider the probability of selecting a random number between 0 and 1. Any number within this range is equally likely to be selected, and the probability density function is a flat line with a height of 1 over the interval 0 to 1. This is an example of a continuous uniform distribution.\n",
    "\n",
    "In summary, uniform distribution is a probability distribution in which all values within a given range have the same probability of occurring . Examples can include rolling a fair dice, selecting a random number from a range, or other situations where each outcome is equally likely."
   ]
  },
  {
   "cell_type": "markdown",
   "id": "181967f9-5af1-460b-9dd3-1314a53c662e",
   "metadata": {},
   "source": [
    "-----------------------------------------------------------------------------------------------------------------------------------------------------------------------------------------"
   ]
  },
  {
   "cell_type": "markdown",
   "id": "873637f0-4f57-4f69-89df-fa75401d3587",
   "metadata": {},
   "source": [
    "Q8: What is the z score? State the importance of the z score.\n",
    "\n",
    "Ans. A z-score, also known as a standard score, is a statistical measurement that indicates how many standard deviations an observation or value is above or below the mean of a normal distribution. It is calculated by subtracting the mean from the observed value and dividing by the standard deviation of the distribution.\n",
    "\n",
    "The formula for calculating the z-score is:\n",
    "\n",
    "z = (X - mu) / sigma\n",
    "\n",
    "where X is the observed value, mu is the mean of the distribution, and sigma is the standard deviation of the distribution.\n",
    "\n",
    "The z-score is important in statistics because it allows us to standardize and compare observations from different normal distributions. By converting values from different distributions into a common standard unit, we can compare and analyze them more easily.\n",
    "\n",
    "Some important uses of the z-score include:\n",
    "\n",
    "Outlier detection: Z-score is used to identify data points that are significantly above or below the mean of a distribution, which may indicate outliers.\n",
    "\n",
    "Hypothesis testing: In hypothesis testing, the z-score is used to calculate the p-value, which is the probability of obtaining a sample mean as extreme or more extreme than the observed mean, assuming the null hypothesis is true.\n",
    "\n",
    "Quality control: Z-score is used to monitor the quality of products or processes by comparing the observed values to a standard value.\n",
    "\n",
    "Standardization: The z-score is used to standardize data and compare observations from different normal distributions. This is especially important in fields like psychology, where standardized test scores are often used for comparison.\n",
    "\n",
    "Overall, the z-score is an important statistical tool that helps us understand and compare observations across different normal distributions.\n",
    "\n"
   ]
  },
  {
   "cell_type": "markdown",
   "id": "e7010dca-4e4a-4358-9686-6382907cef79",
   "metadata": {},
   "source": [
    "-----------------------------------------------------------------------------------------------------------------------------------------------------------------------------------------"
   ]
  },
  {
   "cell_type": "markdown",
   "id": "ec1b6481-a573-4671-b725-2a13a2dd99ab",
   "metadata": {},
   "source": [
    "Q9: What is Central Limit Theorem? State the significance of the Central Limit Theorem.\n",
    "\n",
    "Ans. The Central Limit Theorem (CLT) is a statistical theory that states that the distribution of sample means approximates a normal distribution as the sample size gets larger , regardless of the distribution of the original population. Put simply, the CLT tells us that if we take many random samples from a population, the means of those samples will be normally distributed, even if the original population is not normally distributed.\n",
    "\n",
    "The significance of CLT is it allows us to make inferences about the larger population based on a relatively small sample, which is a key concept in inferential statistics. The CLT forms the basis of many statistical tests and models that are used in a wide range of fields, from finance and economics to biology and engineering."
   ]
  },
  {
   "cell_type": "markdown",
   "id": "5672db6f-b631-4c36-bb3c-de883d1768a2",
   "metadata": {},
   "source": [
    "-----------------------------------------------------------------------------------------------------------------------------------------------------------------------------------------"
   ]
  },
  {
   "cell_type": "markdown",
   "id": "3fba2612-3989-40b3-8aa7-6870890e3b5b",
   "metadata": {},
   "source": [
    "Q10: State the assumptions of the Central Limit Theorem.\n",
    "\n",
    "Ans. The Central Limit Theorem (CLT) makes several assumptions in order to hold true:\n",
    "\n",
    "1.Random Sampling: The data must adhere to the randomization rule . It needs to be sampled at random. \n",
    "\n",
    "2.Sample Size: The sample size should be sufficiently large. The general rule of thumb is that the sample size should be greater than or equal to 30.\n",
    "\n",
    "3.Independence: The samples should be independent of each other.\n",
    "\n",
    "4.Finite Variance: The variance of each sample should be finite.\n",
    "\n",
    "These assumptions ensure that the sampling distribution of the sample from the population approximates a normal distribution, regardless of the distribution of the original population. \n",
    "Violating any of these assumptions can result in inaccurate inferences based on sample means."
   ]
  },
  {
   "cell_type": "markdown",
   "id": "435475de-e791-4516-ae29-1dee77334857",
   "metadata": {},
   "source": [
    "------------------------------------------------------------------------------------------------------------------------------------------------------------------------------------------"
   ]
  },
  {
   "cell_type": "code",
   "execution_count": null,
   "id": "c0abd959-d16a-46ab-8c42-e21f49bd1855",
   "metadata": {},
   "outputs": [],
   "source": []
  }
 ],
 "metadata": {
  "kernelspec": {
   "display_name": "Python 3 (ipykernel)",
   "language": "python",
   "name": "python3"
  },
  "language_info": {
   "codemirror_mode": {
    "name": "ipython",
    "version": 3
   },
   "file_extension": ".py",
   "mimetype": "text/x-python",
   "name": "python",
   "nbconvert_exporter": "python",
   "pygments_lexer": "ipython3",
   "version": "3.10.8"
  }
 },
 "nbformat": 4,
 "nbformat_minor": 5
}
