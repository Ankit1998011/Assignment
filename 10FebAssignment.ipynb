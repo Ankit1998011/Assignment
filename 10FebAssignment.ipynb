{
 "cells": [
  {
   "cell_type": "markdown",
   "id": "2ea6ae98-d661-4a77-a2fc-f1ade24edd6f",
   "metadata": {},
   "source": [
    "Q1. Which function is used to open a file? What are the different modes of opening a file? Explain each mode of file opening.\n",
    "\n",
    "Ans. It is done using the open() function. No module is required to be imported for this function.\n",
    "\n",
    "File_object = open(\"File_Name\",\"Access_Mode\")\n",
    "\n",
    "The file should exist in the same directory as the python program file else, the full address of the file should be written in place of the filename.\n",
    "\n",
    "Different modes of opening a file:-\n",
    "\n",
    "1. r:- Opens a file for reading only. The file pointer is placed at the beginning of the file. This is the default mode.\n",
    "2. rb:- Opens a file for reading only in binary format. The file pointer is placed at the beginning of the file.\n",
    "3. r+:- Opens a file for both reading and writing. The file pointer placed at the beginning of the file.\n",
    "4. rb+:- Opens a file for both reading and writing in binary format. The file pointer placed at the beginning of the file.\n",
    "5. w:- Opens a file for writing only. Overwrites the file if the file exists. If the file does not exist, creates a new file for writing.\n",
    "6. w+:- Opens a file for both writing and reading. Overwrites the existing file if the file exists. If the file does not exist, creates a new file for reading and writing.\n",
    "7. wb:- Opens a file for writing only in binary format. Overwrites the file if the file exists. If the file does not exist, creates a new file for writing.\n",
    "8. wb+:- Opens a file for both writing and reading in binary format. Overwrites the existing file if the file exists. If the file does not exist, creates a new file for reading and writing.\n",
    "9. a:- Opens a file for appending. The file pointer is at the end of the file if the file exists. That is, the file is in the append mode. If the file does not exist, it creates a new file for writing.\n",
    "10. ab:- Opens a file for appending in binary format. The file pointer is at the end of the file if the file exists. That is, the file is in the append mode. If the file does not exist, it creates a new file for writing.\n",
    "11. a+:- Opens a file for both appending and reading. The file pointer is at the end of the file if the file exists. The file opens in the append mode. If the file does not exist, it creates a new file for reading and writing.\n",
    "\n",
    "12. ab+:- Opens a file for both appending and reading in binary format. The file pointer is at the end of the file if the file exists. The file opens in the append mode. If the file does not exist, it creates a new file for reading and writing. "
   ]
  },
  {
   "cell_type": "markdown",
   "id": "c989a306-aa99-4a34-80b6-1ce4378bf439",
   "metadata": {},
   "source": [
    "-----------------------------------------------------------------------------------------------------------------------------------------------------------------------------------------"
   ]
  },
  {
   "cell_type": "markdown",
   "id": "ac6d0dc2-5acd-49c5-b1c4-b707e205c87a",
   "metadata": {},
   "source": [
    "Q2. Why close() function is used? Why is it important to close a file?\n",
    "\n",
    "Ans.  The close() method closes an open file after which no more writing can be done.\n",
    "\n",
    "We should always close our files, in some cases, due to buffering, changes made to a file may not show until we close the file."
   ]
  },
  {
   "cell_type": "markdown",
   "id": "66bce302-1fa6-47d8-983b-e1fe0bc3d5c9",
   "metadata": {},
   "source": [
    "-----------------------------------------------------------------------------------------------------------------------------------------------------------------------------------------"
   ]
  },
  {
   "cell_type": "code",
   "execution_count": 1,
   "id": "f61a0914-401b-40b5-ac62-13d311eeb684",
   "metadata": {},
   "outputs": [],
   "source": [
    "#Q3. Write a python program to create a text file. Write ‘I want to become a Data Scientist’ in that file.\n",
    "#Thenclose the file. \n",
    "#Open this file and read the content of the file.\n",
    "\n",
    "f = open(\"question3.txt\",\"w\")\n",
    "f.write('I want to become a Data Scientist')\n",
    "f.close()"
   ]
  },
  {
   "cell_type": "code",
   "execution_count": 2,
   "id": "d83dfb3d-7197-4e2e-a0f7-e708e093ba46",
   "metadata": {},
   "outputs": [
    {
     "name": "stdout",
     "output_type": "stream",
     "text": [
      "I want to become a Data Scientist\n"
     ]
    }
   ],
   "source": [
    "f = open(\"question3.txt\",\"r\")\n",
    "data = f.read()\n",
    "f.close()\n",
    "print(data)"
   ]
  },
  {
   "cell_type": "markdown",
   "id": "c412878b-3a8d-45bb-bf4a-ee42ad39b33e",
   "metadata": {},
   "source": [
    "-----------------------------------------------------------------------------------------------------------------------------------------------------------------------------------------"
   ]
  },
  {
   "cell_type": "code",
   "execution_count": 9,
   "id": "94b0d22e-8c18-498f-b6f9-e3692469ed14",
   "metadata": {},
   "outputs": [],
   "source": [
    "#Q4. Explain the following with python code: read(), readline() and readlines().\n",
    "\n",
    "#Ans.\n",
    "\n",
    "f = open(\"question4.txt\",\"w\")\n",
    "f.write(\"Data Science Masters course is highly curated and uniquely designed according to the latest industry standards.\\nThis program instills students the skills essential to knowledge discovery efforts to identify standard, novel, and truly differentiated solutions and decision-making, including skills in managing, querying, analyzing, visualizing, and extracting meaning from extremely large data sets.\\nThis trending program provides students with the statistical, mathematical and computational skills needed to meet the large-scale data science challenges of today's professional world.\\nYou will learn all the stack required to work in data science industry including cloud infrastructure and real-time industry projects.\\nThis course will be taught in Hindi language.\")\n",
    "f.close()\n"
   ]
  },
  {
   "cell_type": "code",
   "execution_count": 10,
   "id": "162b56a1-a484-4f8c-80a7-5059591caea7",
   "metadata": {},
   "outputs": [
    {
     "name": "stdout",
     "output_type": "stream",
     "text": [
      "Data Science Masters course is highly curated and uniquely designed according to the latest industry standards.\n",
      "This program instills students the skills essential to knowledge discovery efforts to identify standard, novel, and truly differentiated solutions and decision-making, including skills in managing, querying, analyzing, visualizing, and extracting meaning from extremely large data sets.\n",
      "This trending program provides students with the statistical, mathematical and computational skills needed to meet the large-scale data science challenges of today's professional world.\n",
      "You will learn all the stack required to work in data science industry including cloud infrastructure and real-time industry projects.\n",
      "This course will be taught in Hindi language.\n"
     ]
    }
   ],
   "source": [
    "# read():-  Returns the read bytes in the form of a string. Reads n bytes; if n is not specified, then reads the entire file.\n",
    "\n",
    "f = open(\"question4.txt\",\"r\")\n",
    "data = f.read()\n",
    "f.close()\n",
    "print(data)"
   ]
  },
  {
   "cell_type": "code",
   "execution_count": 13,
   "id": "2ab97883-878a-40f7-a470-e6ac820562f8",
   "metadata": {},
   "outputs": [
    {
     "name": "stdout",
     "output_type": "stream",
     "text": [
      "Data Science Masters course is highly curated and uniquely designed according to the latest industry standards.\n",
      "\n"
     ]
    }
   ],
   "source": [
    "# readline():-Reads a line of the file and returns in the form of a string.\n",
    "#For specified n, reads at most n bytes.\n",
    "#readline ( ) function does not read more than one line at a time; even if n exceeds, it reads only one line.\n",
    "\n",
    "f = open(\"question4.txt\",\"r\")\n",
    "print(f.readline())\n",
    "f.close()"
   ]
  },
  {
   "cell_type": "code",
   "execution_count": 14,
   "id": "e2e4c926-9246-4e78-b8e7-9c43001a1037",
   "metadata": {},
   "outputs": [
    {
     "name": "stdout",
     "output_type": "stream",
     "text": [
      "['Data Science Masters course is highly curated and uniquely designed according to the latest industry standards.\\n', 'This program instills students the skills essential to knowledge discovery efforts to identify standard, novel, and truly differentiated solutions and decision-making, including skills in managing, querying, analyzing, visualizing, and extracting meaning from extremely large data sets.\\n', \"This trending program provides students with the statistical, mathematical and computational skills needed to meet the large-scale data science challenges of today's professional world.\\n\", 'You will learn all the stack required to work in data science industry including cloud infrastructure and real-time industry projects.\\n', 'This course will be taught in Hindi language.']\n"
     ]
    }
   ],
   "source": [
    "# readlines():- Reads all the lines and returns them as a string element in a list.\n",
    "#Readlines ( ) is used to read all the lines at a single go and then return them as a string element in a list. \n",
    "#This function can be used for small files, as it reads the whole file content to the memory, then splits it into separate lines.\n",
    "\n",
    "f = open(\"question4.txt\",\"r\")\n",
    "data = f.readlines()\n",
    "f.close()\n",
    "print(data)"
   ]
  },
  {
   "cell_type": "markdown",
   "id": "cffbba15-01ac-415d-a538-dc675c7f197e",
   "metadata": {},
   "source": [
    "------------------------------------------------------------------------------------------------------------------------------------------------------------------------------------------"
   ]
  },
  {
   "cell_type": "markdown",
   "id": "cf93a516-1d3a-4f14-80d9-63e38fccf466",
   "metadata": {},
   "source": [
    "Q5. Explain why with statement is used with open(). What is the advantage of using with statement and open() together?\n",
    "\n",
    "Ans. There is no need to call file.close() when using with statement. The with statement itself ensures proper acquisition and release of resources.\n",
    "\n",
    "Advantages of using with and open() together is that:-\n",
    "1.Using the with statement makes the code compact and much more readable. \n",
    "2.with statement helps avoiding bugs and leaks by ensuring that a resource is properly released when the code using the resource is completely executed."
   ]
  },
  {
   "cell_type": "markdown",
   "id": "c74a4622-0974-421f-b3a9-52eb27acb9ca",
   "metadata": {},
   "source": [
    "-----------------------------------------------------------------------------------------------------------------------------------------------------------------------------------------"
   ]
  },
  {
   "cell_type": "code",
   "execution_count": 15,
   "id": "60e7045c-03a3-4072-b2bc-f602b992af9d",
   "metadata": {},
   "outputs": [],
   "source": [
    "#Q6. Explain the write() and writelines() functions. Give a suitable example.\n",
    "\n",
    "# Ans.\n",
    "\n",
    "# write():- The write() function will write the content in the file without adding any extra characters.\n",
    "# While writing data to a file, we must know that the write function does not add a newline character(\\n) to the end of the string.\n",
    "# The write() function returns None.\n",
    "\n",
    "with open(\"question6.txt\",\"w\") as f:\n",
    "    f.write(\"This is answer to question number 6\")\n",
    "    f.write(\"\\n\")                                   # to add newline\n",
    "    f.write(\"This is text on new line\")"
   ]
  },
  {
   "cell_type": "code",
   "execution_count": 18,
   "id": "1c108169-0b57-4c42-ac82-42f039c88221",
   "metadata": {},
   "outputs": [],
   "source": [
    "# writelines():- the writelines() function is used to write list of strings into the opened file.\n",
    "# Similar to the write() function, the writelines() function does not add a newline character(\\n) to the end of the string.\n",
    "\n",
    "with open(\"question6.txt\",\"w\") as f:\n",
    "    l = [\"This is written using writelines().\\n\",\"This text is on new line.\"]\n",
    "    f.writelines(l)"
   ]
  },
  {
   "cell_type": "code",
   "execution_count": null,
   "id": "54c743f7-82b3-40b7-a984-12c713721a10",
   "metadata": {},
   "outputs": [],
   "source": []
  }
 ],
 "metadata": {
  "kernelspec": {
   "display_name": "Python 3 (ipykernel)",
   "language": "python",
   "name": "python3"
  },
  "language_info": {
   "codemirror_mode": {
    "name": "ipython",
    "version": 3
   },
   "file_extension": ".py",
   "mimetype": "text/x-python",
   "name": "python",
   "nbconvert_exporter": "python",
   "pygments_lexer": "ipython3",
   "version": "3.10.8"
  }
 },
 "nbformat": 4,
 "nbformat_minor": 5
}
