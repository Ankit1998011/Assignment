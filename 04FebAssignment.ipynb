{
 "cells": [
  {
   "cell_type": "code",
   "execution_count": 23,
   "id": "3f0bf61f-9e44-42d3-875c-083b4a6d9204",
   "metadata": {},
   "outputs": [
    {
     "name": "stdout",
     "output_type": "stream",
     "text": [
      "[('Virat Kohli', 24936), ('Jack Kallis', 25534), ('Ricky Ponting', 27483), ('Sachin Tendulkar', 34357)]\n"
     ]
    }
   ],
   "source": [
    "# Q1. Solution:-\n",
    "\n",
    "from functools import reduce\n",
    "\n",
    "list_val = [('Sachin Tendulkar', 34357),('Ricky Ponting', 27483),('Jack Kallis', 25534),('Virat Kohli', 24936)]\n",
    "\n",
    "temp_list = list_val\n",
    "\n",
    "sorted_list = []\n",
    "while len(temp_list)!=0:\n",
    "    val = reduce(lambda x,y: x if x[1]<y[1] else y, list_val)\n",
    "    sorted_list.append(val)\n",
    "    temp_list.remove(val)\n",
    "    \n",
    "print(sorted_list)"
   ]
  },
  {
   "cell_type": "code",
   "execution_count": 2,
   "id": "f0478ebd-e6b0-416f-addc-bdc5fc720d07",
   "metadata": {},
   "outputs": [
    {
     "name": "stdout",
     "output_type": "stream",
     "text": [
      "[1, 4, 9, 16, 25, 36, 49, 64, 81, 100]\n"
     ]
    }
   ],
   "source": [
    "\"\"\" Q2. Write a Python Program to find the squares of all the numbers in the given list of integers using\n",
    "lambda and map functions.\n",
    "[1, 2, 3, 4, 5, 6, 7, 8, 9, 10]\"\"\"\n",
    "\n",
    "# Solution:-\n",
    "print(list(map(lambda i: i**2,[1, 2, 3, 4, 5, 6, 7, 8, 9, 10])))"
   ]
  },
  {
   "cell_type": "code",
   "execution_count": 3,
   "id": "1adddb91-5a41-4e25-92f6-06bef20055a1",
   "metadata": {},
   "outputs": [
    {
     "name": "stdout",
     "output_type": "stream",
     "text": [
      "('1', '2', '3', '4', '5', '6', '7', '8', '9', '10')\n"
     ]
    }
   ],
   "source": [
    "# Q3. Solution:-\n",
    "\n",
    "print(tuple(map(lambda i: str(i),[1, 2, 3, 4, 5, 6, 7, 8, 9, 10])))"
   ]
  },
  {
   "cell_type": "code",
   "execution_count": 5,
   "id": "195f1c86-e559-4c1e-ab6e-693b458c95ce",
   "metadata": {},
   "outputs": [
    {
     "name": "stdout",
     "output_type": "stream",
     "text": [
      "15511210043330985984000000\n"
     ]
    }
   ],
   "source": [
    "# Q4. Solution:\n",
    "\n",
    "from functools import reduce\n",
    "\n",
    "print(reduce(lambda x,y: x*y,range(1,26)))"
   ]
  },
  {
   "cell_type": "code",
   "execution_count": 9,
   "id": "84caf9a0-d1f2-445f-8457-118c05466b89",
   "metadata": {},
   "outputs": [
    {
     "name": "stdout",
     "output_type": "stream",
     "text": [
      "[6, 60, 90, 120]\n"
     ]
    }
   ],
   "source": [
    "# Q5. Solution:-\n",
    "\n",
    "print(list(filter(lambda x: x%2==0 and x%3==0,[2, 3, 6, 9, 27, 60, 90, 120, 55, 46])))\n"
   ]
  },
  {
   "cell_type": "code",
   "execution_count": 11,
   "id": "27d6b662-5536-4cf2-af86-56d70266d6c4",
   "metadata": {},
   "outputs": [
    {
     "name": "stdout",
     "output_type": "stream",
     "text": [
      "List of Palindrome: ['php', 'aba', 'radar', 'level']\n"
     ]
    }
   ],
   "source": [
    "# Q6. Solution:-\n",
    "\n",
    "print(f\"List of Palindrome: {list(filter(lambda _str: _str==_str[::-1],['python', 'php', 'aba', 'radar', 'level']))}\")"
   ]
  },
  {
   "cell_type": "code",
   "execution_count": null,
   "id": "3cc4a5cd-989e-425f-9ad4-2923c80aac82",
   "metadata": {},
   "outputs": [],
   "source": []
  }
 ],
 "metadata": {
  "kernelspec": {
   "display_name": "Python 3 (ipykernel)",
   "language": "python",
   "name": "python3"
  },
  "language_info": {
   "codemirror_mode": {
    "name": "ipython",
    "version": 3
   },
   "file_extension": ".py",
   "mimetype": "text/x-python",
   "name": "python",
   "nbconvert_exporter": "python",
   "pygments_lexer": "ipython3",
   "version": "3.10.8"
  }
 },
 "nbformat": 4,
 "nbformat_minor": 5
}
