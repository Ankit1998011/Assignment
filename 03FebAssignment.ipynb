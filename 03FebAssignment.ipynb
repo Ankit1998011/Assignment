{
 "cells": [
  {
   "cell_type": "code",
   "execution_count": 2,
   "id": "9ee155a1-559f-48a8-b1d9-316f1c933ec8",
   "metadata": {},
   "outputs": [
    {
     "name": "stdout",
     "output_type": "stream",
     "text": [
      "[1, 3, 5, 7, 9, 11, 13, 15, 17, 19, 21, 23, 25]\n"
     ]
    }
   ],
   "source": [
    "\"\"\" Q1. Which keyword is used to create a function? Create a function to return a list of odd numbers in the\n",
    "range of 1 to 25.\"\"\"\n",
    "\n",
    "# Ans. def keyword is used to create or define a function.\n",
    "\n",
    "# Program Solution:-\n",
    "\n",
    "def list_of_odd_numbers():\n",
    "    return [i for i in range(1,26) if i%2!=0]\n",
    "\n",
    "print(list_of_odd_numbers())"
   ]
  },
  {
   "cell_type": "code",
   "execution_count": 5,
   "id": "69ebddb5-23e8-4449-bc7e-e43b8dc6474b",
   "metadata": {},
   "outputs": [
    {
     "name": "stdout",
     "output_type": "stream",
     "text": [
      "'*args' return passed non-keyword arguments in tuple:-> (1, 2, 3, 4, 5)\n",
      "\n",
      "\n",
      "'**kwargs' return passed keyword arguments in dictionary:-> {'Name': 'Ankit', 'Course': 'Data Science Masters'}\n"
     ]
    }
   ],
   "source": [
    "\"\"\"Q2. Why *args and **kwargs is used in some functions? Create a function each for *args and **kwargs\n",
    "to demonstrate their use.\"\"\"\n",
    "\n",
    "# Ans. *args:- is used in case when their are variable number of non-keyword arguments passed to function.\n",
    "# using '*' before variable name is important we can use other names also instead of args.\n",
    "# *args basically stores  all the non-keyword arguments in tuple named args.\n",
    "\n",
    "\n",
    "# **kwargs:-is used in case when their are variable number of keyword arguments passed to function.\n",
    "# using '**' before variable name is important we can use other names also instead of kwargs.\n",
    "# **kwargs basically stores  all the keyword arguments in dictionary named args.\n",
    "\n",
    "# function to demonstrate *args:-\n",
    "\n",
    "def demo_args(*args):     # can pass variable number of non-keyword arguments.\n",
    "    return args\n",
    "\n",
    "# function to demonstrate **kwargs:-\n",
    "\n",
    "def demo_kwargs(**kwargs):  # can pass variable number of keyword arguments.\n",
    "    return kwargs\n",
    "\n",
    "\n",
    "\n",
    "print(f\"'*args' return passed non-keyword arguments in tuple:-> {demo_args(1,2,3,4,5)}\")  \n",
    "print(\"\\n\")\n",
    "print(f\"'**kwargs' return passed keyword arguments in dictionary:-> {demo_kwargs(Name='Ankit',Course='Data Science Masters')}\")"
   ]
  },
  {
   "cell_type": "markdown",
   "id": "8492467b-1cfa-4f1f-b8fa-221bfd4bd3c4",
   "metadata": {},
   "source": [
    "Q3.\n",
    "\n",
    "Ans. An Iterator is an object that helps a user in iterating over another object (that is iterable).\n",
    "We can generate an iterator when we pass the iterable object to the iter() method.\n",
    "In iterators the elemnts of iterators are not stored or intialised in begining.To iterate we use next() which generates and store data."
   ]
  },
  {
   "cell_type": "code",
   "execution_count": 2,
   "id": "042c84ae-cfa5-4475-bba4-57817c0f35c3",
   "metadata": {},
   "outputs": [
    {
     "name": "stdout",
     "output_type": "stream",
     "text": [
      "2\n",
      "4\n",
      "6\n",
      "8\n",
      "10\n"
     ]
    }
   ],
   "source": [
    "# Solution:-\n",
    "\n",
    "iter_list = iter([2, 4, 6, 8, 10, 12, 14,16, 18, 20])\n",
    "i = 1\n",
    "while i<=5:\n",
    "    print(next(iter_list))\n",
    "    i+=1"
   ]
  },
  {
   "cell_type": "markdown",
   "id": "152bc68f-585c-4c8c-ba5b-d7530ba9c81e",
   "metadata": {},
   "source": [
    "Q4. What is a generator function in python? Why yield keyword is used? Give an example of a generator function.\n",
    "\n",
    "Ans. Generator functions allow you to declare a function that behaves likes an iterator, allowing programmers to make an iterator .\n",
    "We can say that generators are basically used to create an iterator object.\n",
    "Generator uses yield keyword to basically pause the execution and return the value followed by it and saves the status of the local variable.\n",
    "It will continue its execution once we call next(geneator name) again.\n"
   ]
  },
  {
   "cell_type": "code",
   "execution_count": 6,
   "id": "36d00f2e-c167-430d-a1df-64159a7843cb",
   "metadata": {},
   "outputs": [
    {
     "name": "stdout",
     "output_type": "stream",
     "text": [
      "1\n",
      "2\n",
      "3\n",
      "4\n",
      "5\n"
     ]
    }
   ],
   "source": [
    "# Example generator function:-\n",
    "\n",
    "# Print first 5 natural numbers:-\n",
    "\n",
    "def generator_method(n):\n",
    "    for i in range(1,n+1):\n",
    "        yield i\n",
    "\n",
    "iter_object = generator_method(5)\n",
    "\n",
    "for i in range(1,6):\n",
    "    print(next(iter_object))\n",
    "    "
   ]
  },
  {
   "cell_type": "code",
   "execution_count": 7,
   "id": "c7e86244-489b-4093-8a1d-b557d0b87032",
   "metadata": {},
   "outputs": [
    {
     "ename": "StopIteration",
     "evalue": "",
     "output_type": "error",
     "traceback": [
      "\u001b[0;31m---------------------------------------------------------------------------\u001b[0m",
      "\u001b[0;31mStopIteration\u001b[0m                             Traceback (most recent call last)",
      "Cell \u001b[0;32mIn[7], line 3\u001b[0m\n\u001b[1;32m      1\u001b[0m \u001b[38;5;66;03m# it will throw error if we execute it further, since we have reached end of collection:-\u001b[39;00m\n\u001b[0;32m----> 3\u001b[0m \u001b[38;5;28;43mnext\u001b[39;49m\u001b[43m(\u001b[49m\u001b[43m(\u001b[49m\u001b[43miter_object\u001b[49m\u001b[43m)\u001b[49m\u001b[43m)\u001b[49m\n",
      "\u001b[0;31mStopIteration\u001b[0m: "
     ]
    }
   ],
   "source": [
    "# it will throw error if we execute it further, since we have reached end of collection:-\n",
    "\n",
    "next((iter_object))"
   ]
  },
  {
   "cell_type": "code",
   "execution_count": 8,
   "id": "ff532d17-b063-4e41-bda6-4a6d2f3dce67",
   "metadata": {},
   "outputs": [
    {
     "name": "stdout",
     "output_type": "stream",
     "text": [
      "2\n",
      "3\n",
      "5\n",
      "7\n",
      "11\n",
      "13\n",
      "17\n",
      "19\n",
      "23\n",
      "29\n",
      "31\n",
      "37\n",
      "41\n",
      "43\n",
      "47\n",
      "53\n",
      "59\n",
      "61\n",
      "67\n",
      "71\n"
     ]
    }
   ],
   "source": [
    "# Q5. Solution:-\n",
    "\n",
    "def generator_prime(n):\n",
    "    for i in range(2,n):\n",
    "        if i==2 or i==3 or i==5:\n",
    "            yield i\n",
    "        elif i%2==0 or i%3==0 % i%5==0:\n",
    "            continue\n",
    "        else:\n",
    "            for j in range(2,i):\n",
    "                if i%j==0:\n",
    "                    break\n",
    "            else:\n",
    "                yield i\n",
    "\n",
    "res_iter = generator_prime(1000)\n",
    "\n",
    "for i in range(20): \n",
    "    print(next(res_iter))"
   ]
  },
  {
   "cell_type": "code",
   "execution_count": 8,
   "id": "a677d520-7fdf-4bca-873a-01263b0f3a77",
   "metadata": {},
   "outputs": [
    {
     "name": "stdin",
     "output_type": "stream",
     "text": [
      "Enter Value:  10\n"
     ]
    },
    {
     "name": "stdout",
     "output_type": "stream",
     "text": [
      "First {till} Fibonacci Numbers are:\n",
      "\n",
      "0\n",
      "1\n",
      "1\n",
      "2\n",
      "3\n",
      "5\n",
      "8\n",
      "13\n",
      "21\n",
      "34\n"
     ]
    }
   ],
   "source": [
    "# Q6. Write a python program to print the first 10 Fibonacci numbers using a while loop.\n",
    "\n",
    "till = int(input(\"Enter Value: \"))\n",
    "\n",
    "if till<0:\n",
    "    print(\"Invalid input\")\n",
    "else:\n",
    "    a = 0\n",
    "    b = 1\n",
    "    i = 1\n",
    "    print(\"First {till} Fibonacci Numbers are:\\n\")\n",
    "    while i<=till:\n",
    "        print(a)\n",
    "        c = a+b\n",
    "        a = b\n",
    "        b = c\n",
    "        i+=1\n"
   ]
  },
  {
   "cell_type": "code",
   "execution_count": 9,
   "id": "25332f44-4e42-499e-b298-0bf76f087396",
   "metadata": {},
   "outputs": [
    {
     "name": "stdout",
     "output_type": "stream",
     "text": [
      "Output: ['p', 'w', 's', 'k', 'i', 'l', 'l', 's']\n"
     ]
    }
   ],
   "source": [
    "\"\"\" Q7. Write a List Comprehension to iterate through the given string: ‘pwskills’.\n",
    "Expected output: ['p', 'w', 's', 'k', 'i', 'l', 'l', 's']. \"\"\"\n",
    "\n",
    "\n",
    "print(f\"Output: {[i for i in 'pwskills']}\")"
   ]
  },
  {
   "cell_type": "code",
   "execution_count": 2,
   "id": "13f88105-8a39-41be-8045-06c6448b57fb",
   "metadata": {},
   "outputs": [
    {
     "name": "stdin",
     "output_type": "stream",
     "text": [
      "Enter Number:-  14241\n"
     ]
    },
    {
     "name": "stdout",
     "output_type": "stream",
     "text": [
      "Yes 14241 is a Palindrome\n"
     ]
    }
   ],
   "source": [
    "\"\"\" Q8. Write a python program to check whether a given number is Palindrome or not using a while loop.\"\"\"\n",
    "\n",
    "# Solution:-\n",
    "\n",
    "num = int(input(\"Enter Number:- \"))\n",
    "\n",
    "if num<0:\n",
    "    print(f\"{num} is not a Palindrome\")\n",
    "else:\n",
    "    num_str = str(num)\n",
    "    f_index = 0\n",
    "    b_index = -1 \n",
    "\n",
    "    while f_index<len(num_str):\n",
    "        if num_str[f_index] == num_str[b_index]:\n",
    "            f_index+=1\n",
    "            b_index-=1\n",
    "        else:\n",
    "            print(f\"{num} is not a Palindrome\")\n",
    "            break\n",
    "    else:\n",
    "        print(f\"Yes {num} is a Palindrome\")\n",
    "    \n",
    "    \n",
    "    "
   ]
  },
  {
   "cell_type": "code",
   "execution_count": 5,
   "id": "2267eabf-f890-4983-a4cb-494f2d3262ea",
   "metadata": {},
   "outputs": [
    {
     "name": "stdout",
     "output_type": "stream",
     "text": [
      "Result is:- \n",
      " [1, 3, 5, 7, 9, 11, 13, 15, 17, 19, 21, 23, 25, 27, 29, 31, 33, 35, 37, 39, 41, 43, 45, 47, 49, 51, 53, 55, 57, 59, 61, 63, 65, 67, 69, 71, 73, 75, 77, 79, 81, 83, 85, 87, 89, 91, 93, 95, 97, 99]\n"
     ]
    }
   ],
   "source": [
    "# Q9. Write a code to print odd numbers from 1 to 100 using list comprehension.\n",
    "\n",
    "print(f\"Result is:- \\n {[odd_num for odd_num in [all_num for all_num in range(1,101)] if odd_num%2!=0]}\")"
   ]
  },
  {
   "cell_type": "code",
   "execution_count": null,
   "id": "953768b8-1fe5-483e-a544-cadf9a38d1e1",
   "metadata": {},
   "outputs": [],
   "source": []
  }
 ],
 "metadata": {
  "kernelspec": {
   "display_name": "Python 3 (ipykernel)",
   "language": "python",
   "name": "python3"
  },
  "language_info": {
   "codemirror_mode": {
    "name": "ipython",
    "version": 3
   },
   "file_extension": ".py",
   "mimetype": "text/x-python",
   "name": "python",
   "nbconvert_exporter": "python",
   "pygments_lexer": "ipython3",
   "version": "3.10.8"
  }
 },
 "nbformat": 4,
 "nbformat_minor": 5
}
