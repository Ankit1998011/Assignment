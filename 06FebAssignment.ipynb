{
 "cells": [
  {
   "cell_type": "code",
   "execution_count": 21,
   "id": "13170d06-4512-4192-afb2-d6ecbcb9c4e0",
   "metadata": {},
   "outputs": [
    {
     "name": "stdout",
     "output_type": "stream",
     "text": [
      "4134711838987085478833841242112000\n"
     ]
    }
   ],
   "source": [
    "# Q1. Solution:-\n",
    "\n",
    "def if_list_or_tuple(arr):\n",
    "    res_list = []\n",
    "    for i in arr:\n",
    "        if type(i)==int:\n",
    "            res_list.append(i)\n",
    "        elif type(i)==list or type(i)==tuple:\n",
    "            res_list.extend(if_list_or_tuple(i))\n",
    "        elif type(i)==dict:\n",
    "            res_list.extend(if_dict(i))\n",
    "        elif type(i)==set:\n",
    "            res_list.extend(if_set(i))\n",
    "    return res_list\n",
    "\n",
    "def if_set(st):\n",
    "    res_set = []\n",
    "    for i in range(len(st)):\n",
    "        temp = st.pop()\n",
    "        if type(temp)==int:\n",
    "            res_set.append(temp)\n",
    "        elif type(temp)==list or type(temp)==tuple:\n",
    "            res_set.extend(if_list_or_tuple(temp))\n",
    "        elif type(temp)==dict:\n",
    "            res_set.extend(if_dict(temp))\n",
    "        elif type(i)==set:\n",
    "            res_set.extend(if_set(temp))\n",
    "    \n",
    "    return res_set\n",
    "\n",
    "def if_dict(d):\n",
    "    res_dict = []\n",
    "    for x,y in d.items():\n",
    "        if type(x)==int:\n",
    "            res_dict.append(x)\n",
    "        elif type(x)==list or type(x)==tuple:\n",
    "            res_dict.extend(if_list_or_tuple(x))\n",
    "        elif type(x)==dict:\n",
    "            res_dict.extend(if_dict(x))\n",
    "        elif type(x)==set:\n",
    "            res_dict.extend(if_set(x))\n",
    "        if type(y)==int:\n",
    "            res_dict.append(y)\n",
    "        elif type(y)==list or type(y)==tuple:\n",
    "            res_dict.extend(if_list_or_tuple(y))\n",
    "        elif type(y)==dict:\n",
    "            res_dict.extend(if_dict(y))\n",
    "        elif type(y)==set:\n",
    "            res_dict.extend(if_set(y))\n",
    "    return res_dict\n",
    "\n",
    "def out_func(arr):\n",
    "    from functools import reduce\n",
    "    res = []\n",
    "    for i in arr:\n",
    "        if type(i)==int:\n",
    "            res.append(i)\n",
    "        elif type(i)==list or type(i)==tuple:\n",
    "            res.extend(if_list_or_tuple(i))\n",
    "        elif type(i)==set:\n",
    "            res.extend(if_set(i))\n",
    "        elif type(i)==dict:\n",
    "            res.extend(if_dict(i))\n",
    "            \n",
    "    return reduce(lambda x,y:x*y,res)\n",
    "\n",
    "list1 = [1,2,3,4, [44,55,66, True], False, (34,56,78,89,34), {1,2,3,3,2,1}, {1:34, \"key2\": [55, 67, 78, 89], 4: (45,22, 61, 34)}, [56, 'data science'], 'Machine Learning']\n",
    "print(out_func(list1))\n"
   ]
  },
  {
   "cell_type": "code",
   "execution_count": 46,
   "id": "8a7b964b-cab8-4c8e-bd02-a75251525849",
   "metadata": {},
   "outputs": [
    {
     "name": "stdin",
     "output_type": "stream",
     "text": [
      "Enter message:  I want to become a Data Scientist.\n"
     ]
    },
    {
     "name": "stdout",
     "output_type": "stream",
     "text": [
      "Encrypt message is-> r$dzmg$gl$yvxlnv$z$wzgz$hxrvmgrhg.\n"
     ]
    }
   ],
   "source": [
    "#Q2. Solution:-\n",
    "\n",
    "messg = input(\"Enter message: \").lower()\n",
    "alpha = \" abcdefghijklmnopqrstuvwxyz\"\n",
    "list_message = [i for i in messg]\n",
    "res = []\n",
    "for i in messg:\n",
    "    if i==\" \":\n",
    "        res.append(\"$\")\n",
    "    elif i in alpha:\n",
    "        res.append(alpha[-alpha.index(i)])\n",
    "    else:\n",
    "        res.append(i)\n",
    "\n",
    "ans = \"\".join(res)\n",
    "print(f\"Encrypt message is-> {ans}\")"
   ]
  },
  {
   "cell_type": "code",
   "execution_count": null,
   "id": "4a5d4bda-b22a-48d5-8120-5977cd501eb9",
   "metadata": {},
   "outputs": [],
   "source": []
  }
 ],
 "metadata": {
  "kernelspec": {
   "display_name": "Python 3 (ipykernel)",
   "language": "python",
   "name": "python3"
  },
  "language_info": {
   "codemirror_mode": {
    "name": "ipython",
    "version": 3
   },
   "file_extension": ".py",
   "mimetype": "text/x-python",
   "name": "python",
   "nbconvert_exporter": "python",
   "pygments_lexer": "ipython3",
   "version": "3.10.8"
  }
 },
 "nbformat": 4,
 "nbformat_minor": 5
}
