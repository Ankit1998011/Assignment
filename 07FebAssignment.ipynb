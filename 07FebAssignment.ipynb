{
 "cells": [
  {
   "cell_type": "code",
   "execution_count": 16,
   "id": "77741901-21bd-463a-948d-01e5cebd3290",
   "metadata": {},
   "outputs": [
    {
     "name": "stdin",
     "output_type": "stream",
     "text": [
      "Enter password:  AnkiT!@#12\n"
     ]
    },
    {
     "name": "stdout",
     "output_type": "stream",
     "text": [
      "Valid Password\n"
     ]
    }
   ],
   "source": [
    "# Q1. Solution:-\n",
    "\n",
    "password = input(\"Enter password: \")\n",
    "\n",
    "if len(password)==10:\n",
    "    count_upp = 0\n",
    "    count_low = 0\n",
    "    count_num = 0\n",
    "    count_spcl = 0\n",
    "    for i in password:\n",
    "        if i.isupper():\n",
    "            count_upp+=1\n",
    "        elif i.islower():\n",
    "            count_low+=1\n",
    "        elif i.isnumeric():\n",
    "            count_num+=1\n",
    "        elif i!=\" \":\n",
    "            count_spcl+=1\n",
    "    if count_upp>=2 and count_low>=2 and count_num>=1 and  count_spcl>=3:\n",
    "        print(\"Valid Password\")\n",
    "    else:\n",
    "        print(\"Invalid password\")\n",
    "else:\n",
    "    print(\"Invalid Password\")"
   ]
  },
  {
   "cell_type": "code",
   "execution_count": 20,
   "id": "f7a5b2ae-e9e1-4636-91f9-71c6331472bd",
   "metadata": {},
   "outputs": [
    {
     "name": "stdin",
     "output_type": "stream",
     "text": [
      "Enter string:  Ankit\n",
      "Enter letter:  A\n"
     ]
    },
    {
     "name": "stdout",
     "output_type": "stream",
     "text": [
      "True\n"
     ]
    }
   ],
   "source": [
    "# Q2. Solution:-\n",
    "\n",
    "#Check if the string starts with a particular letter:-\n",
    "\n",
    "string = input(\"Enter string: \")\n",
    "check = input(\"Enter letter: \")\n",
    "res = lambda string,check: True if string[0]==check else False\n",
    "print(res(string,check))"
   ]
  },
  {
   "cell_type": "code",
   "execution_count": 27,
   "id": "06f83d55-8560-431b-8d4d-7f9fc4dd5d9f",
   "metadata": {},
   "outputs": [
    {
     "name": "stdin",
     "output_type": "stream",
     "text": [
      "Enter string:  123\n"
     ]
    },
    {
     "name": "stdout",
     "output_type": "stream",
     "text": [
      "Numeric\n"
     ]
    }
   ],
   "source": [
    "# Check if the string is numeric:-\n",
    "\n",
    "string = input(\"Enter string: \")\n",
    "\n",
    "for i in map(lambda x: x.isnumeric(),string):\n",
    "    if i==True:\n",
    "        continue\n",
    "    print(\"Not Numeric\")\n",
    "    break\n",
    "else:\n",
    "    print(\"Numeric\")\n",
    "    \n",
    "    "
   ]
  },
  {
   "cell_type": "code",
   "execution_count": 6,
   "id": "4867c393-ecbe-4246-9d8f-25396976f305",
   "metadata": {},
   "outputs": [
    {
     "name": "stdout",
     "output_type": "stream",
     "text": [
      "Sorted List: [('orange', 80), ('mango', 99), ('grapes', 1000)]\n"
     ]
    }
   ],
   "source": [
    "# Sort a list of tuples having fruit names and their quantity. [(\"mango\",99),(\"orange\",80), (\"grapes\", 1000)]:-\n",
    "\n",
    "from functools import reduce\n",
    "\n",
    "lst = [(\"mango\",99),(\"orange\",80), (\"grapes\", 1000)]\n",
    "res = []\n",
    "while len(lst)>0:\n",
    "    val=reduce(lambda i,j: i if i[1]<j[1] else j,lst)\n",
    "    res.append(val)\n",
    "    lst.remove(val)\n",
    "\n",
    "print(f\"Sorted List: {res}\")"
   ]
  },
  {
   "cell_type": "code",
   "execution_count": 29,
   "id": "f045e3e0-e34b-46a0-ab25-79a1f0b5ee98",
   "metadata": {},
   "outputs": [
    {
     "name": "stdout",
     "output_type": "stream",
     "text": [
      "1\n",
      "4\n",
      "9\n",
      "16\n",
      "25\n",
      "36\n",
      "49\n",
      "64\n",
      "81\n",
      "100\n"
     ]
    }
   ],
   "source": [
    "# Find the squares of numbers from 1 to 10:-\n",
    "\n",
    "sqr = lambda i: i**2\n",
    "\n",
    "for i in range(1,11):\n",
    "    print(sqr(i))"
   ]
  },
  {
   "cell_type": "code",
   "execution_count": 32,
   "id": "1e05be98-f853-4de6-9d6c-119cf084501f",
   "metadata": {},
   "outputs": [
    {
     "name": "stdout",
     "output_type": "stream",
     "text": [
      "Cube root of 1 is: 1.0\n",
      "Cube root of 2 is: 1.26\n",
      "Cube root of 3 is: 1.442\n",
      "Cube root of 4 is: 1.587\n",
      "Cube root of 5 is: 1.71\n",
      "Cube root of 6 is: 1.817\n",
      "Cube root of 7 is: 1.913\n",
      "Cube root of 8 is: 2.0\n",
      "Cube root of 9 is: 2.08\n",
      "Cube root of 10 is: 2.154\n"
     ]
    }
   ],
   "source": [
    "# Find the cube root of numbers from 1 to 10:-\n",
    "\n",
    "cube_root = lambda i: i**(1/3)\n",
    "\n",
    "for i in range(1,11):\n",
    "    print(f\"Cube root of {i} is: {round(cube_root(i),3)}\")"
   ]
  },
  {
   "cell_type": "code",
   "execution_count": 38,
   "id": "f0ac0c98-639d-459e-bc59-fe3225012dc6",
   "metadata": {},
   "outputs": [
    {
     "name": "stdin",
     "output_type": "stream",
     "text": [
      "Enter number:  7\n"
     ]
    },
    {
     "name": "stdout",
     "output_type": "stream",
     "text": [
      "Not Even Number\n"
     ]
    }
   ],
   "source": [
    "# Check if a given number is even:-\n",
    "\n",
    "num = int(input(\"Enter number: \"))\n",
    "even = lambda x: \"Yes,Even number\" if x%2==0 else \"Not Even Number\"\n",
    "print(even(num))"
   ]
  },
  {
   "cell_type": "code",
   "execution_count": 39,
   "id": "f3cf90c0-7d0e-40dc-80ee-fb2d5d929074",
   "metadata": {},
   "outputs": [
    {
     "name": "stdout",
     "output_type": "stream",
     "text": [
      "[1, 3, 5, 7, 9]\n"
     ]
    }
   ],
   "source": [
    "# Filter odd numbers from the given list.  [1,2,3,4,5,6,7,8,9,10]\n",
    "\n",
    "print(list(filter(lambda x: x%2!=0,[1,2,3,4,5,6,7,8,9,10])))"
   ]
  },
  {
   "cell_type": "code",
   "execution_count": 41,
   "id": "a9e926ac-b286-4c95-9648-9d7ef9197020",
   "metadata": {},
   "outputs": [
    {
     "name": "stdout",
     "output_type": "stream",
     "text": [
      "Positive Integer List: [1, 2, 3, 4, 5, 6]\n",
      "\n",
      "\n",
      "Negative Integer List: [-1, -2, -3, -4, -5]\n"
     ]
    }
   ],
   "source": [
    "# Sort a list of integers into positive and negative integers lists. [1,2,3,4,5,6,-1,-2,-3,-4,-5,0]\n",
    "\n",
    "positive = list(filter(lambda x: x>0,[1,2,3,4,5,6,-1,-2,-3,-4,-5,0]))\n",
    "\n",
    "negative = list(filter(lambda x: x<0,[1,2,3,4,5,6,-1,-2,-3,-4,-5,0]))\n",
    "\n",
    "print(f\"Positive Integer List: {positive}\")\n",
    "print(\"\\n\")\n",
    "print(f\"Negative Integer List: {negative}\")"
   ]
  },
  {
   "cell_type": "code",
   "execution_count": null,
   "id": "6652de42-53b4-4a60-a0c0-0696c902e221",
   "metadata": {},
   "outputs": [],
   "source": []
  }
 ],
 "metadata": {
  "kernelspec": {
   "display_name": "Python 3 (ipykernel)",
   "language": "python",
   "name": "python3"
  },
  "language_info": {
   "codemirror_mode": {
    "name": "ipython",
    "version": 3
   },
   "file_extension": ".py",
   "mimetype": "text/x-python",
   "name": "python",
   "nbconvert_exporter": "python",
   "pygments_lexer": "ipython3",
   "version": "3.10.8"
  }
 },
 "nbformat": 4,
 "nbformat_minor": 5
}
