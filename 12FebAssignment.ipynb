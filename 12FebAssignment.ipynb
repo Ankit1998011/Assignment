{
 "cells": [
  {
   "cell_type": "markdown",
   "id": "f6202cbb-6d2f-4b13-85ed-9e34942b7116",
   "metadata": {},
   "source": [
    "Q1.\n",
    "\n",
    "Ans. An exception in Python is an incident that happens while executing a program that causes the regular course of the program's commands to be disrupted.\n",
    "When a Python code comes across a condition it can't handle, it raises an exception. An object in Python that describes an error is called an exception.\n",
    "\n",
    "\n",
    "Diffrence between exception and syntax error is that syntax errors cannot be handled at run time, while Python exceptions can be handled at the run time."
   ]
  },
  {
   "cell_type": "markdown",
   "id": "bbdf8455-b265-4f55-a03e-d553ca99be20",
   "metadata": {},
   "source": [
    "------------------------------------------------------------------------------------------------------------------------------------------------------------------------------------------"
   ]
  },
  {
   "cell_type": "markdown",
   "id": "da7c9c63-c0f7-4982-b0d1-63027b740b0d",
   "metadata": {},
   "source": [
    "Q2.\n",
    "\n",
    "Ans. When an exception is not handled then the regular flow of code is disrupted i.e. the code below is not executed and python stops execution\n",
    "where exception is raised.\n"
   ]
  },
  {
   "cell_type": "code",
   "execution_count": 7,
   "id": "e09c35c7-70eb-4754-a173-c447b5550fd6",
   "metadata": {},
   "outputs": [
    {
     "ename": "ZeroDivisionError",
     "evalue": "division by zero",
     "output_type": "error",
     "traceback": [
      "\u001b[0;31m---------------------------------------------------------------------------\u001b[0m",
      "\u001b[0;31mZeroDivisionError\u001b[0m                         Traceback (most recent call last)",
      "Cell \u001b[0;32mIn[7], line 3\u001b[0m\n\u001b[1;32m      1\u001b[0m \u001b[38;5;66;03m# example when exception not handled:-\u001b[39;00m\n\u001b[1;32m      2\u001b[0m num \u001b[38;5;241m=\u001b[39m \u001b[38;5;241m10\u001b[39m\n\u001b[0;32m----> 3\u001b[0m num \u001b[38;5;241m=\u001b[39m \u001b[43mnum\u001b[49m\u001b[38;5;241;43m/\u001b[39;49m\u001b[38;5;241;43m0\u001b[39;49m  \u001b[38;5;66;03m# execution stops here since exception is not handled\u001b[39;00m\n\u001b[1;32m      4\u001b[0m \u001b[38;5;28mprint\u001b[39m(number)\n",
      "\u001b[0;31mZeroDivisionError\u001b[0m: division by zero"
     ]
    }
   ],
   "source": [
    "# example when exception not handled:-\n",
    "num = 10\n",
    "num = num/0  # execution stops here since exception is not handled\n",
    "print(number)"
   ]
  },
  {
   "cell_type": "code",
   "execution_count": 8,
   "id": "6e9b3164-0cad-4743-8af9-6e3f838c8b63",
   "metadata": {},
   "outputs": [
    {
     "name": "stdout",
     "output_type": "stream",
     "text": [
      "division by zero\n",
      "10\n"
     ]
    }
   ],
   "source": [
    "# when handled:-\n",
    "\n",
    "try:\n",
    "    num = 10\n",
    "    number = num/0\n",
    "    \n",
    "except ZeroDivisionError as e:    # exception handled\n",
    "    print(e)\n",
    "    \n",
    "print(num)"
   ]
  },
  {
   "cell_type": "markdown",
   "id": "c5c89241-697a-4e5c-9f98-20873bcc24bf",
   "metadata": {},
   "source": [
    "-----------------------------------------------------------------------------------------------------------------------------------------------------------------------------------------"
   ]
  },
  {
   "cell_type": "markdown",
   "id": "4d1c4fcc-3d76-489f-9ad2-e3099d7a55ff",
   "metadata": {},
   "source": [
    "Q3. \n",
    "\n",
    "Ans:- \n",
    "\n",
    "try:- The code which may raise exception is kept inside try block.\n",
    "\n",
    "except:- If the code inside try block raises exception then it is caught by except block whick has an Exception object which may be inbuilt or custom built to handle\n",
    "the exception.\n",
    "\n",
    "else:- The code inside else block is executed only if try block is executed successfully i.e. it doesn't raise any exception otherwise it will not execute.\n",
    "\n",
    "finally:- The code inside finally block is always executed and it doesn't matter if there is exception or not."
   ]
  },
  {
   "cell_type": "code",
   "execution_count": 11,
   "id": "9837b0db-c406-409c-8ce8-0b9655d3cfd8",
   "metadata": {},
   "outputs": [
    {
     "name": "stdout",
     "output_type": "stream",
     "text": [
      "division by zero\n",
      "Will always execute!\n"
     ]
    }
   ],
   "source": [
    "#example:\n",
    "\n",
    "try:\n",
    "    num = 6\n",
    "    div1 = 0\n",
    "    div2 = 2\n",
    "    \n",
    "    num = num/div1      # exception occurs\n",
    "    \n",
    "    print(num)\n",
    "    \n",
    "except ZeroDivisionError as e:\n",
    "    print(e)\n",
    "\n",
    "else:\n",
    "    print(\"Inside else! 'try successfully executed'\")\n",
    "    \n",
    "finally:\n",
    "    print(\"Will always execute!\")"
   ]
  },
  {
   "cell_type": "code",
   "execution_count": 12,
   "id": "54f577be-3f64-4e66-962a-d5b869854215",
   "metadata": {},
   "outputs": [
    {
     "name": "stdout",
     "output_type": "stream",
     "text": [
      "3.0\n",
      "Inside else! 'try successfully executed'\n",
      "Will always execute!\n"
     ]
    }
   ],
   "source": [
    "try:\n",
    "    num = 6\n",
    "    div1 = 0\n",
    "    div2 = 2\n",
    "    \n",
    "    num = num/div2     # exception doesn't occurs\n",
    "    \n",
    "    print(num)\n",
    "    \n",
    "except ZeroDivisionError as e:\n",
    "    print(e)\n",
    "\n",
    "else:\n",
    "    print(\"Inside else! 'try successfully executed'\")\n",
    "    \n",
    "finally:\n",
    "    print(\"Will always execute!\")"
   ]
  },
  {
   "cell_type": "markdown",
   "id": "4c1c8902-f511-444b-b5a7-3634b95106bb",
   "metadata": {},
   "source": [
    "------------------------------------------------------------------------------------------------------------------------------------------------------------------------------------------"
   ]
  },
  {
   "cell_type": "markdown",
   "id": "683eb76f-c4bf-4efe-b549-0d0c48280e05",
   "metadata": {},
   "source": [
    "Q4.\n",
    "\n",
    "Ans.\n",
    "\n",
    "a.) try and else:\n",
    "\n",
    "try-> The code which may raise exception is kept inside try block.\n",
    "\n",
    "else-> The code inside else block is executed only if try block is executed successfully i.e. it doesn't raise any exception otherwise it will not execute.\n"
   ]
  },
  {
   "cell_type": "code",
   "execution_count": 14,
   "id": "82f5f658-fee7-4af7-930c-ae3aaa94181e",
   "metadata": {},
   "outputs": [
    {
     "name": "stdout",
     "output_type": "stream",
     "text": [
      "3.0\n",
      "Inside else! 'try successfully executed'\n"
     ]
    }
   ],
   "source": [
    "# example:-\n",
    "\n",
    "try:\n",
    "    num = 6\n",
    "    div1 = 0\n",
    "    div2 = 2\n",
    "    \n",
    "    num = num/div2      # exception doesn't occurs\n",
    "    \n",
    "    print(num)\n",
    "    \n",
    "except ZeroDivisionError as e:\n",
    "    print(e)\n",
    "\n",
    "else:\n",
    "    print(\"Inside else! 'try successfully executed'\")\n",
    "    "
   ]
  },
  {
   "cell_type": "markdown",
   "id": "5aaf1f76-8544-4ad2-9d16-148a66ffd32c",
   "metadata": {},
   "source": [
    "b.) finally->  The code inside finally block is always executed and it doesn't matter if there is exception or not.\n",
    "\n"
   ]
  },
  {
   "cell_type": "code",
   "execution_count": 18,
   "id": "049e90c9-502b-4c9a-946b-3c310a137135",
   "metadata": {},
   "outputs": [
    {
     "name": "stdout",
     "output_type": "stream",
     "text": [
      "unsupported operand type(s) for +: 'int' and 'str'\n",
      "finally always executes\n"
     ]
    }
   ],
   "source": [
    "# example:-\n",
    "\n",
    "try:\n",
    "    sum = 5+'a'\n",
    "\n",
    "except TypeError as e:\n",
    "    print(e)\n",
    "    \n",
    "finally:\n",
    "    print(\"finally always executes\")"
   ]
  },
  {
   "cell_type": "markdown",
   "id": "8ea064c6-a6cb-4805-b12d-5fcf33c36e37",
   "metadata": {},
   "source": [
    "c.) raise-> In  Python  we can choose to throw an exception if a condition occurs.\n",
    "To throw an exception, we use the 'raise' keyword."
   ]
  },
  {
   "cell_type": "code",
   "execution_count": 22,
   "id": "474e8de0-3f46-4222-a7cd-b49e8de4259e",
   "metadata": {},
   "outputs": [
    {
     "name": "stdin",
     "output_type": "stream",
     "text": [
      "Enter Speed:  -111\n"
     ]
    },
    {
     "ename": "Exception",
     "evalue": "-111 Speed cannot be negative",
     "output_type": "error",
     "traceback": [
      "\u001b[0;31m---------------------------------------------------------------------------\u001b[0m",
      "\u001b[0;31mException\u001b[0m                                 Traceback (most recent call last)",
      "Cell \u001b[0;32mIn[22], line 6\u001b[0m\n\u001b[1;32m      3\u001b[0m speed \u001b[38;5;241m=\u001b[39m \u001b[38;5;28mint\u001b[39m(\u001b[38;5;28minput\u001b[39m(\u001b[38;5;124m\"\u001b[39m\u001b[38;5;124mEnter Speed: \u001b[39m\u001b[38;5;124m\"\u001b[39m))\n\u001b[1;32m      5\u001b[0m \u001b[38;5;28;01mif\u001b[39;00m speed\u001b[38;5;241m<\u001b[39m\u001b[38;5;241m0\u001b[39m:\n\u001b[0;32m----> 6\u001b[0m     \u001b[38;5;28;01mraise\u001b[39;00m \u001b[38;5;167;01mException\u001b[39;00m(\u001b[38;5;124mf\u001b[39m\u001b[38;5;124m\"\u001b[39m\u001b[38;5;132;01m{\u001b[39;00mspeed\u001b[38;5;132;01m}\u001b[39;00m\u001b[38;5;124m Speed cannot be negative\u001b[39m\u001b[38;5;124m\"\u001b[39m)\n\u001b[1;32m      7\u001b[0m \u001b[38;5;28;01melif\u001b[39;00m speed\u001b[38;5;241m>\u001b[39m\u001b[38;5;241m300\u001b[39m:\n\u001b[1;32m      8\u001b[0m     \u001b[38;5;28;01mraise\u001b[39;00m \u001b[38;5;167;01mException\u001b[39;00m(\u001b[38;5;124mf\u001b[39m\u001b[38;5;124m\"\u001b[39m\u001b[38;5;132;01m{\u001b[39;00mspeed\u001b[38;5;132;01m}\u001b[39;00m\u001b[38;5;124m! Speed is too high\u001b[39m\u001b[38;5;124m\"\u001b[39m)\n",
      "\u001b[0;31mException\u001b[0m: -111 Speed cannot be negative"
     ]
    }
   ],
   "source": [
    "# example raise:-\n",
    "\n",
    "speed = int(input(\"Enter Speed: \"))\n",
    "\n",
    "if speed<0:\n",
    "    raise Exception(f\"{speed} Speed cannot be negative\")\n",
    "elif speed>300:\n",
    "    raise Exception(f\"{speed}! Speed is too high\")\n",
    "else:\n",
    "    print(f\"{speed} is valid speed\")"
   ]
  },
  {
   "cell_type": "markdown",
   "id": "1eacc77d-f39c-44be-a58e-775863507467",
   "metadata": {},
   "source": [
    "------------------------------------------------------------------------------------------------------------------------------------------------------------------------------------------"
   ]
  },
  {
   "cell_type": "markdown",
   "id": "a6bc6bea-43dc-400a-a6bc-0cf871459398",
   "metadata": {},
   "source": [
    "Q5.\n",
    "\n",
    "Ans. In Python, we can define custom exceptions by creating a new class that is derived from the built-in Exception class.\n",
    "\n",
    "Python is known for its readability and user-friendliness; using custom exceptions can help us improve this even more, especially when we are designing our packages. If we decide to avoid, custom exceptions by using only built-in ones, we risk decreasing Python's readability."
   ]
  },
  {
   "cell_type": "code",
   "execution_count": 40,
   "id": "0f1b634c-8161-4a6c-80b5-ebfdf337ff67",
   "metadata": {},
   "outputs": [],
   "source": [
    "# example custom exception:-\n",
    "\n",
    "class Speed_Validate(Exception):\n",
    "    \n",
    "    def __init__(self,messg):\n",
    "        self.messg = messg"
   ]
  },
  {
   "cell_type": "code",
   "execution_count": 41,
   "id": "c441e353-6654-4b97-998d-d3eb3df2f25c",
   "metadata": {},
   "outputs": [],
   "source": [
    "def speed_check(speed):\n",
    "    if speed < 0:\n",
    "        raise Speed_Validate(f\"{speed} Speed cannot be negative!\")\n",
    "    elif speed>300:\n",
    "        raise Speed_Validate(f\"{speed} Speed is too high!\")\n",
    "    else:\n",
    "        print(f\"{speed} Valid Speed\")"
   ]
  },
  {
   "cell_type": "code",
   "execution_count": 44,
   "id": "0bcba0c4-f01a-43f8-a5e9-5920ff805a13",
   "metadata": {},
   "outputs": [
    {
     "name": "stdin",
     "output_type": "stream",
     "text": [
      "Enter Speed  -41\n"
     ]
    },
    {
     "name": "stdout",
     "output_type": "stream",
     "text": [
      "-41 Speed cannot be negative!\n"
     ]
    }
   ],
   "source": [
    "try:\n",
    "    speed = int(input(\"Enter Speed \"))\n",
    "    speed_check(speed)\n",
    "\n",
    "except (Speed_Validate,ValueError) as e:\n",
    "    print(e)\n"
   ]
  },
  {
   "cell_type": "markdown",
   "id": "d7e72038-e3e6-4fd9-abd2-e1bece1502e0",
   "metadata": {},
   "source": [
    "------------------------------------------------------------------------------------------------------------------------------------------------------"
   ]
  },
  {
   "cell_type": "code",
   "execution_count": 46,
   "id": "9823a57e-bf68-4839-91de-2736bb3857e7",
   "metadata": {},
   "outputs": [],
   "source": [
    "# Q6. Solution:-\n",
    "\n",
    "class Is_Vowel(Exception):\n",
    "    \n",
    "    def __init__(self,messg):\n",
    "        self.messg = messg"
   ]
  },
  {
   "cell_type": "code",
   "execution_count": 48,
   "id": "6c264081-242b-497e-8718-a45885e17af8",
   "metadata": {},
   "outputs": [],
   "source": [
    "def vowel_check(ltr):\n",
    "    if len(ltr)==1 and ltr in 'aAeEiIoOuU':\n",
    "        print(f\"{ltr} is a Vowel!\")\n",
    "    else:\n",
    "        raise Is_Vowel(f\"{ltr} is not a Vowel!\")"
   ]
  },
  {
   "cell_type": "code",
   "execution_count": 54,
   "id": "67260229-927e-41e4-875f-e961b9620cec",
   "metadata": {},
   "outputs": [
    {
     "name": "stdin",
     "output_type": "stream",
     "text": [
      "Enter Speed  q\n"
     ]
    },
    {
     "name": "stdout",
     "output_type": "stream",
     "text": [
      "q is not a Vowel!\n"
     ]
    }
   ],
   "source": [
    "try:\n",
    "    ltr = input(\"Enter Speed \")\n",
    "    vowel_check(ltr)\n",
    "\n",
    "except Is_Vowel as e:\n",
    "    print(e)"
   ]
  },
  {
   "cell_type": "markdown",
   "id": "58ef360e-4aa6-4007-8842-2a5fbaf5eae8",
   "metadata": {},
   "source": [
    "-----------------------------------------------------------------------------------------------------------------------------------------------------"
   ]
  },
  {
   "cell_type": "code",
   "execution_count": null,
   "id": "ba7fb185-6d54-400e-af0e-d991b01fc506",
   "metadata": {},
   "outputs": [],
   "source": []
  }
 ],
 "metadata": {
  "kernelspec": {
   "display_name": "Python 3 (ipykernel)",
   "language": "python",
   "name": "python3"
  },
  "language_info": {
   "codemirror_mode": {
    "name": "ipython",
    "version": 3
   },
   "file_extension": ".py",
   "mimetype": "text/x-python",
   "name": "python",
   "nbconvert_exporter": "python",
   "pygments_lexer": "ipython3",
   "version": "3.10.8"
  }
 },
 "nbformat": 4,
 "nbformat_minor": 5
}
