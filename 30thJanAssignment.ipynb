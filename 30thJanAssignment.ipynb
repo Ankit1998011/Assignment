{
 "cells": [
  {
   "cell_type": "code",
   "execution_count": 22,
   "id": "89f100cf-c07d-4f24-aea6-605fe00ff955",
   "metadata": {},
   "outputs": [
    {
     "name": "stdin",
     "output_type": "stream",
     "text": [
      "Enter Percentage:  59\n"
     ]
    },
    {
     "name": "stdout",
     "output_type": "stream",
     "text": [
      "Grade D\n"
     ]
    }
   ],
   "source": [
    "# Q1. Solution:-\n",
    "\n",
    "pcent  = float(input(\"Enter Percentage: \"))\n",
    "\n",
    "if pcent<0 or pcent>100:\n",
    "    print(\"Invalid Input\")\n",
    "elif pcent>90:\n",
    "    print(\"Grade 'A'\")\n",
    "elif pcent>80:\n",
    "    print(\"Grade B\")\n",
    "elif pcent>=60:\n",
    "    print(\"Grade C\")\n",
    "else:\n",
    "    print(\"Grade D\")\n"
   ]
  },
  {
   "cell_type": "code",
   "execution_count": 33,
   "id": "7f54a267-379a-4980-b34f-c2a0a37fe647",
   "metadata": {},
   "outputs": [
    {
     "name": "stdin",
     "output_type": "stream",
     "text": [
      "Enter ptice:  49000\n"
     ]
    },
    {
     "name": "stdout",
     "output_type": "stream",
     "text": [
      "5% Tax \n"
     ]
    }
   ],
   "source": [
    "# Q2. Solution:-\n",
    "\n",
    "cost_pr = round(float(input(\"Enter ptice: \")),2)\n",
    "\n",
    "if cost_pr<0:\n",
    "    print(\"Invalid Input\")\n",
    "elif cost_pr>100000:\n",
    "    print(\"15% Tax\")\n",
    "elif cost_pr>50000:\n",
    "    print(\"10% Tax\")\n",
    "else:   \n",
    "    print(\"5% Tax \")\n",
    "    "
   ]
  },
  {
   "cell_type": "code",
   "execution_count": 42,
   "id": "a5235337-40d8-43d0-9e6d-a4577bc806f0",
   "metadata": {},
   "outputs": [
    {
     "name": "stdin",
     "output_type": "stream",
     "text": [
      "Enter City Name:  jaiPUR\n"
     ]
    },
    {
     "name": "stdout",
     "output_type": "stream",
     "text": [
      "Jai Mahal\n"
     ]
    }
   ],
   "source": [
    "# Q3. Solution:-\n",
    "\n",
    "city = input(\"Enter City Name: \").capitalize()\n",
    "\n",
    "city_M = {'Delhi':'Redfort','Agra':'Taj Mahal','Jaipur':'Jai Mahal'}\n",
    "\n",
    "if city in city_M.keys():\n",
    "    print(city_M[city])\n",
    "else:\n",
    "    print(\"Invalid Input\")"
   ]
  },
  {
   "cell_type": "code",
   "execution_count": 47,
   "id": "ea0712cf-ef3e-46dd-9110-0cf15e2bce64",
   "metadata": {},
   "outputs": [
    {
     "name": "stdin",
     "output_type": "stream",
     "text": [
      "Enter Number:  27\n"
     ]
    },
    {
     "name": "stdout",
     "output_type": "stream",
     "text": [
      "1\n"
     ]
    }
   ],
   "source": [
    "# Q4. Solution:-\n",
    "\n",
    "num = float(input(\"Enter Number: \"))\n",
    "\n",
    "counter = 0\n",
    "while num>10:\n",
    "    num = num/3\n",
    "    counter += 1\n",
    "print(counter)"
   ]
  },
  {
   "cell_type": "code",
   "execution_count": 48,
   "id": "ead4286d-409b-4c36-9b41-1e8b728352e4",
   "metadata": {},
   "outputs": [
    {
     "name": "stdout",
     "output_type": "stream",
     "text": [
      "0\n",
      "2\n",
      "4\n",
      "6\n",
      "8\n",
      "10\n",
      "12\n",
      "14\n",
      "16\n",
      "18\n",
      "20\n",
      "22\n",
      "24\n",
      "26\n",
      "28\n",
      "30\n",
      "32\n",
      "34\n",
      "36\n",
      "38\n",
      "40\n",
      "42\n",
      "44\n",
      "46\n",
      "48\n",
      "50\n",
      "52\n",
      "54\n",
      "56\n",
      "58\n",
      "60\n",
      "62\n",
      "64\n",
      "66\n",
      "68\n",
      "70\n",
      "72\n",
      "74\n",
      "76\n",
      "78\n",
      "80\n",
      "82\n",
      "84\n",
      "86\n",
      "88\n",
      "90\n",
      "92\n",
      "94\n",
      "96\n",
      "98\n",
      "100\n"
     ]
    }
   ],
   "source": [
    "# Q5. Why and when to use while Loop in Python give a detailed description with example?\n",
    "\n",
    "\"\"\"while loop is used in situation where we are given a condition, if condition is True then the Block\n",
    "   of code inside while loop is executed and if condition is False then code inside the Block is not\n",
    "   excuted.\n",
    "   It can also be said that we use while loop in cases where we don't know the number of times loop will\n",
    "   run.\n",
    "   Example:-\"\"\"\n",
    "\n",
    "i = 0\n",
    "\n",
    "while i<=100:   # All even numbers upto 100\n",
    "    print(i)\n",
    "    i += 2\n"
   ]
  },
  {
   "cell_type": "code",
   "execution_count": 17,
   "id": "dc1d0264-a7b0-49bc-850c-50d0f5fef6a7",
   "metadata": {},
   "outputs": [
    {
     "name": "stdin",
     "output_type": "stream",
     "text": [
      "Enter rows:- 7\n"
     ]
    },
    {
     "name": "stdout",
     "output_type": "stream",
     "text": [
      "1\n",
      "12\n",
      "123\n",
      "1234\n",
      "12345\n",
      "123456\n",
      "1234567\n",
      "\n",
      "\n",
      "*\n",
      "**\n",
      "***\n",
      "****\n",
      "*****\n",
      "******\n",
      "*******\n",
      "\n",
      "\n",
      "      *\n",
      "     **\n",
      "    ***\n",
      "   ****\n",
      "  *****\n",
      " ******\n",
      "*******\n"
     ]
    }
   ],
   "source": [
    "# Q6. Use Nested while loop to print 3 different patern:-\n",
    "\n",
    "rows = int(input('Enter rows:-'))\n",
    "\n",
    "if rows<0:\n",
    "    print(\"Invalid Input\")\n",
    "else:\n",
    "    i = 1\n",
    "    while i<=rows:\n",
    "        j = 1\n",
    "        while j<=i:\n",
    "            print(j,end=\"\")\n",
    "            j+=1\n",
    "        print(\"\")\n",
    "        i+=1\n",
    "    print(\"\\n\")\n",
    "    i = 1\n",
    "    while i<=rows:\n",
    "        j = 1\n",
    "        while j<=i:\n",
    "            print(\"*\",end=\"\")\n",
    "            j+=1\n",
    "        print(\"\")\n",
    "        i+=1\n",
    "    print(\"\\n\")\n",
    "    i = 1\n",
    "    \n",
    "    while i<=rows:\n",
    "        j = 1\n",
    "        while j<=(rows-i):\n",
    "            print(\" \",end=\"\")\n",
    "            \n",
    "            j+=1\n",
    "        j = 1\n",
    "        while j<=i:\n",
    "            print(\"*\",end=\"\")\n",
    "            j+=1\n",
    "        print(\"\") \n",
    "        \n",
    "        i+=1\n",
    "         "
   ]
  },
  {
   "cell_type": "code",
   "execution_count": 20,
   "id": "d797bfde-bcce-42d0-a3d8-2d1376df3d8e",
   "metadata": {},
   "outputs": [
    {
     "name": "stdout",
     "output_type": "stream",
     "text": [
      "10\n",
      "9\n",
      "8\n",
      "7\n",
      "6\n",
      "5\n",
      "4\n",
      "3\n",
      "2\n",
      "1\n"
     ]
    }
   ],
   "source": [
    "# Q7. Reverse a while loop to display numbers from 10 to 1.\n",
    "\n",
    "n = 10\n",
    "\n",
    "while n>=1:\n",
    "    print(n)\n",
    "    n-=1"
   ]
  },
  {
   "cell_type": "code",
   "execution_count": 21,
   "id": "869a8e6c-b534-4fa6-9ae1-63c8f6f02023",
   "metadata": {},
   "outputs": [
    {
     "name": "stdout",
     "output_type": "stream",
     "text": [
      "10\n",
      "9\n",
      "8\n",
      "7\n",
      "6\n",
      "5\n",
      "4\n",
      "3\n",
      "2\n",
      "1\n"
     ]
    }
   ],
   "source": [
    "# Q8. Reverse a while loop to display numbers from 10 to 1.\n",
    "\n",
    "x = 10\n",
    "\n",
    "while x>0:\n",
    "    print(x)\n",
    "    x-=1"
   ]
  },
  {
   "cell_type": "code",
   "execution_count": null,
   "id": "c64f8840-d143-4f2d-81aa-432497cd35de",
   "metadata": {},
   "outputs": [],
   "source": []
  }
 ],
 "metadata": {
  "kernelspec": {
   "display_name": "Python 3 (ipykernel)",
   "language": "python",
   "name": "python3"
  },
  "language_info": {
   "codemirror_mode": {
    "name": "ipython",
    "version": 3
   },
   "file_extension": ".py",
   "mimetype": "text/x-python",
   "name": "python",
   "nbconvert_exporter": "python",
   "pygments_lexer": "ipython3",
   "version": "3.10.8"
  }
 },
 "nbformat": 4,
 "nbformat_minor": 5
}
