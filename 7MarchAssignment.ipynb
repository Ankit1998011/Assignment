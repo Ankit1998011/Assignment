{
 "cells": [
  {
   "cell_type": "markdown",
   "id": "3b4ff886-f387-4dbf-871b-73074e1f4036",
   "metadata": {},
   "source": [
    "Q1. What are the three measures of central tendency?\n",
    "\n",
    "Ans.  The central tendency measure is defined as the number used to represent the center or middle of a set of data values. The three commonly used measures of central tendency are the:-\n",
    "\n",
    "1.mean:- The mean is the arithmetic average. Calculating the mean is very simple, we just add up all of the values and divide by the number of observations in our dataset.\n",
    "\n",
    "2.median:- The median is the middle value. It is the value that splits the dataset in half, making it a natural measure of central tendency. To find the median,we order our data from smallest to largest, and then find the data point that has an equal number of values above it and below it. The method for locating the median varies slightly depending on whether our dataset has an even or odd number of values.\n",
    "\n",
    "3.mode:- The mode is the value that occurs the most frequently in our dataset, making it a different type of measure of central tendency than the mean or median."
   ]
  },
  {
   "cell_type": "markdown",
   "id": "09640966-b01f-488d-9710-5482feee775f",
   "metadata": {},
   "source": [
    "-----------------------------------------------------------------------------------------------------------------------------------------------------------------------------------------------------------------------------------------------"
   ]
  },
  {
   "cell_type": "markdown",
   "id": "e3164c0e-c495-4d46-bc5e-446a996efb64",
   "metadata": {},
   "source": [
    "Q2. What is the difference between the mean, median, and mode? How are they used to measure the central tendency of a dataset?\n",
    "\n",
    "Ans. The mean is the average where the sum of all the numbers is divided by the total number of numbers, whereas the median is the middle value in the list of given numbers numerically ordered from smallest to biggest and mode is the value of the number which occurs most often in the list.\n",
    "\n",
    "mean:- The mean is the arithmetic average. Calculating the mean is very simple, we just add up all of the values and divide by the number of observations in our dataset.\n",
    "\n",
    "median:- The median is the middle value. It is the value that splits the dataset in half, making it a natural measure of central tendency. To find the median,we order our data from smallest to largest, and then find the data point that has an equal number of values above it and below it. The method for locating the median varies slightly depending on whether our dataset has an even or odd number of values.\n",
    "\n",
    "mode:- The mode is the value that occurs the most frequently in our dataset, making it a different type of measure of central tendency than the mean or median."
   ]
  },
  {
   "cell_type": "markdown",
   "id": "9bb20c7b-ec2d-43c8-88c8-70d808d91632",
   "metadata": {},
   "source": [
    "-----------------------------------------------------------------------------------------------------------------------------------------------------------------------------------------------------------------------------------------------"
   ]
  },
  {
   "cell_type": "code",
   "execution_count": 2,
   "id": "9934e703-30b1-4200-83ad-d67c94ca9dff",
   "metadata": {},
   "outputs": [],
   "source": [
    "\"\"\"Q3. Measure the three measures of central tendency for the given height data:\n",
    "\n",
    " [178,177,176,177,178.2,178,175,179,180,175,178.9,176.2,177,172.5,178,176.5]\"\"\"\n",
    "\n",
    "import numpy as np\n",
    "\n",
    "height_data = [178,177,176,177,178.2,178,175,179,180,175,178.9,176.2,177,172.5,178,176.5]\n",
    "\n",
    "mean = np.mean(height_data)"
   ]
  },
  {
   "cell_type": "code",
   "execution_count": 13,
   "id": "29a21b65-b134-4686-969a-fbe0747a76a9",
   "metadata": {},
   "outputs": [],
   "source": [
    "median = np.median(height_data)"
   ]
  },
  {
   "cell_type": "code",
   "execution_count": 12,
   "id": "364a6b19-2347-408b-aba1-aed8aa81c050",
   "metadata": {},
   "outputs": [
    {
     "name": "stderr",
     "output_type": "stream",
     "text": [
      "/tmp/ipykernel_77/615962888.py:3: FutureWarning: Unlike other reduction functions (e.g. `skew`, `kurtosis`), the default behavior of `mode` typically preserves the axis it acts along. In SciPy 1.11.0, this behavior will change: the default value of `keepdims` will become False, the `axis` over which the statistic is taken will be eliminated, and the value None will no longer be accepted. Set `keepdims` to True or False to avoid this warning.\n",
      "  mode = stats.mode(height_data)\n"
     ]
    },
    {
     "data": {
      "text/plain": [
       "ModeResult(mode=array([177.]), count=array([3]))"
      ]
     },
     "execution_count": 12,
     "metadata": {},
     "output_type": "execute_result"
    }
   ],
   "source": [
    "from scipy import stats\n",
    "\n",
    "mode = stats.mode(height_data)"
   ]
  },
  {
   "cell_type": "code",
   "execution_count": 14,
   "id": "240954ab-a5c3-4999-aaa6-31e93ff45a01",
   "metadata": {},
   "outputs": [
    {
     "name": "stdout",
     "output_type": "stream",
     "text": [
      "Mean:177.01875  Median:177.0  Mode:ModeResult(mode=array([177.]), count=array([3]))\n"
     ]
    }
   ],
   "source": [
    "print(f\"Mean:{mean}  Median:{median}  Mode:{mode}\")"
   ]
  },
  {
   "cell_type": "markdown",
   "id": "61909406-91d7-46e7-aee3-8994b53d2335",
   "metadata": {},
   "source": [
    "-----------------------------------------------------------------------------------------------------------------------------------------------------------------------------------------------------------------------------------------------"
   ]
  },
  {
   "cell_type": "code",
   "execution_count": 18,
   "id": "0c6252e8-4c22-41c5-a166-258596b48e8f",
   "metadata": {},
   "outputs": [
    {
     "name": "stdout",
     "output_type": "stream",
     "text": [
      "Standard Deviation for given data is: 1.7885814036548633\n"
     ]
    }
   ],
   "source": [
    "\"\"\"Q4. Find the standard deviation for the given data:\n",
    "\n",
    "[178,177,176,177,178.2,178,175,179,180,175,178.9,176.2,177,172.5,178,176.5]\"\"\"\n",
    "\n",
    "import numpy as np\n",
    "\n",
    "data = [178,177,176,177,178.2,178,175,179,180,175,178.9,176.2,177,172.5,178,176.5]\n",
    "\n",
    "std = np.std(data)\n",
    "print(f\"Standard Deviation for given data is: {std}\")"
   ]
  },
  {
   "cell_type": "markdown",
   "id": "b49a506c-7fa9-4dcc-b885-6fd52198aff0",
   "metadata": {},
   "source": [
    "----------------------------------------------------------------------------------------------------------------------------------------------------------------------------------------------------------------------------------------------"
   ]
  },
  {
   "cell_type": "markdown",
   "id": "3cf1b520-57a1-4842-8af8-e74c564d0be8",
   "metadata": {},
   "source": [
    "Q5. How are measures of dispersion such as range, variance, and standard deviation used to describe the spread of a dataset? Provide an example.\n",
    "\n",
    "Ans. A statistic that tells us how the data values are dispersed or spread out is called the measure of dispersion.\n",
    "\n",
    "1.Standard Deviation:- The standard deviation is small when the data are all concentrated close to the mean, and is larger when the data values show more variation from the mean. When the standard deviation is a lot larger than zero, the data values are very spread out about the mean; outliers can make s or σ very large.\n",
    "\n",
    "2.Variance:- The variance is measures of the spread of the data around the mean. They summarise how close each observed data value is to the mean value. In datasets with a small spread all values are very close to the mean, resulting in a small variance and standard deviation.\n",
    "\n",
    "3.Range:- The range is calculated by subtracting the lowest value from the highest value. While a large range means high variability, a small range means low variability in a distribution."
   ]
  },
  {
   "cell_type": "code",
   "execution_count": 2,
   "id": "f7d4b1ff-325f-4cbf-bd39-bb2bf98a5ce0",
   "metadata": {},
   "outputs": [
    {
     "name": "stdout",
     "output_type": "stream",
     "text": [
      "Std1: 2.7726341266023544 and Std2: 9.539392014169456 \n"
     ]
    }
   ],
   "source": [
    "# Example:-\n",
    "\n",
    "# Find the Standard Deviation of the Following Numbers: 1, 3, 5, 5, 6, 7, 9, 10 and 1, 7, 13, 20, 21, 24, 28, 30.\n",
    "\n",
    "import numpy as np\n",
    "\n",
    "data1 = [1, 3, 5, 5, 6, 7, 9, 10]\n",
    "data2 = [1, 7, 13, 20, 21, 24, 28, 30]\n",
    "\n",
    "std1 = np.std(data1)\n",
    "std2 = np.std(data2)\n",
    "print(f\"Std1: {std1} and Std2: {std2} \") # we can see data2 is more dispersed."
   ]
  },
  {
   "cell_type": "markdown",
   "id": "4ef9e35e-2250-45c1-8b26-4832eb4fa017",
   "metadata": {},
   "source": [
    "-----------------------------------------------------------------------------------------------------------------------------------------------------------------------------------------------------------------------------------------------"
   ]
  },
  {
   "cell_type": "markdown",
   "id": "e8a73001-d320-424c-b7e1-2a8dd0080bb4",
   "metadata": {},
   "source": [
    "Q6. What is a Venn diagram?\n",
    "\n",
    "Ans. A Venn diagram illustrates the relationships between two or more data sets. Venn diagrams are especially useful for highlighting similarities and differences and are commonly used to compare and contrast the characteristics of different data sets. In a Venn diagram, circles are used to represent each data set."
   ]
  },
  {
   "cell_type": "markdown",
   "id": "9838dddf-055a-4734-b25b-b579d1568aae",
   "metadata": {},
   "source": [
    "-----------------------------------------------------------------------------------------------------------------------------------------------------------------------------------------------------------------------------------------------"
   ]
  },
  {
   "cell_type": "code",
   "execution_count": 9,
   "id": "af843625-a8e3-454e-9745-eba4039203b1",
   "metadata": {},
   "outputs": [
    {
     "name": "stdout",
     "output_type": "stream",
     "text": [
      "intersetion: {2, 6} and union: {0, 2, 3, 4, 5, 6, 7, 8, 10}\n"
     ]
    }
   ],
   "source": [
    "\"\"\"Q7. For the two given sets A = (2,3,4,5,6,7) & B = (0,2,6,8,10). Find:\n",
    "(i) A intersection B\n",
    "(ii) A ⋃ B\n",
    "\"\"\"\n",
    "A = {2,3,4,5,6,7}\n",
    "B = {0,2,6,8,10}\n",
    "\n",
    "intersection = A.intersection(B)\n",
    "union = A.union(B)\n",
    "print(f\"intersetion: {intersection} and union: {union}\")"
   ]
  },
  {
   "cell_type": "markdown",
   "id": "deec62f6-ce9d-4e9d-ba05-15ab4ca75dde",
   "metadata": {},
   "source": [
    "-----------------------------------------------------------------------------------------------------------------------------------------------------------------------------------------------------------------------------------------------"
   ]
  },
  {
   "cell_type": "markdown",
   "id": "d52bac50-b74d-47e7-994c-d32a7587c02f",
   "metadata": {},
   "source": [
    "Q8. What do you understand about skewness in data?\n",
    "\n",
    "Ans.  Skewness is a measurement of the distortion of symmetrical distribution or asymmetry in a data set. Skewness is demonstrated on a bell curve when data points are not distributed symmetrically to the left and right sides of the median on a bell curve."
   ]
  },
  {
   "cell_type": "markdown",
   "id": "fc6b3cea-827f-417f-8b02-67c803d45427",
   "metadata": {},
   "source": [
    "----------------------------------------------------------------------------------------------------------------------------------------------------------------------------------------------------------------------------------------------"
   ]
  },
  {
   "cell_type": "markdown",
   "id": "235cd248-4e22-4f05-86b7-4c751f5e9079",
   "metadata": {},
   "source": [
    "Q9. If a data is right skewed then what will be the position of median with respect to mean?\n",
    "\n",
    "Ans. When the distribution is skewed to the right, the mean is often greater than the median. In symmetric distributions, we expect the mean and median to be approximately equal in value. This is an important connection between the shape of the distribution and the relationship of the mean and median."
   ]
  },
  {
   "cell_type": "markdown",
   "id": "e9b9386c-7537-4366-bfd0-45410a7dc458",
   "metadata": {},
   "source": [
    "-----------------------------------------------------------------------------------------------------------------------------------------------------------------------------------------------------------------------------------------------"
   ]
  },
  {
   "cell_type": "markdown",
   "id": "4c87f28c-136c-49d5-afa5-111de1aeee94",
   "metadata": {},
   "source": [
    "Q10. Explain the difference between covariance and correlation. How are these measures used in statistical analysis?\n",
    "\n",
    "Ans. Covariance indicates the direction of the linear relationship between variables while correlation measures both the strength and direction of the linear relationship between two variables. Correlation is a function of the covariance.\n",
    "\n",
    "Covariance tells us the direction of the relationship between two variables, while correlation provides an indication as to how strong the relationship between the two variables is, in addition to the direction of correlated variables. Correlation values range from +1 to -1.\n",
    "\n",
    "Covariance:- Covariance is a statistical tool used to determine the relationship between the movements of two random variables. When two stocks tend to move together, they are seen as having a positive covariance; when they move inversely, the covariance is negative.\n",
    "\n",
    "\n",
    "Correlation:- Correlation analysis is used to quantify the degree to which two variables are related. Through the correlation analysis, you evaluate correlation coefficient that tells you how much one variable changes when the other one does. Correlation analysis provides you with a linear relationship between two variables."
   ]
  },
  {
   "cell_type": "markdown",
   "id": "c9f841a2-f09e-42cb-8a13-f16ed938c347",
   "metadata": {},
   "source": [
    "------------------------------------------------------------------------------------------------------------------------------------------------------------------------------------------------------------"
   ]
  },
  {
   "cell_type": "markdown",
   "id": "4fd3c3ee-b3bf-4b43-8d9c-aa6c6ff68a9b",
   "metadata": {},
   "source": [
    "Q11. What is the formula for calculating the sample mean? Provide an example calculation for a dataset.\n",
    "\n",
    "Ans. The sample mean formula is written as:-\n",
    "\n",
    "sample mean = (x1+x2+x3....Xn)/n\n",
    "\n",
    "where,\n",
    "\n",
    "x1,x2,x3.... are data points\n",
    "\n",
    "n -> number of data"
   ]
  },
  {
   "cell_type": "code",
   "execution_count": 2,
   "id": "c915730e-731e-41fa-a4e0-3b8476f8b19f",
   "metadata": {},
   "outputs": [
    {
     "name": "stdout",
     "output_type": "stream",
     "text": [
      "Sample mean is: 14.777777777777779\n"
     ]
    }
   ],
   "source": [
    "# example:-\n",
    "\n",
    "import numpy as np\n",
    "\n",
    "Age = [12,13,17,12,14,15,17,20,13]\n",
    "mean_age = np.mean(Age)\n",
    "print(f\"Sample mean is: {mean_age}\")"
   ]
  },
  {
   "cell_type": "markdown",
   "id": "b8863a1a-a294-4c39-8b86-6c85ba2f6b9e",
   "metadata": {},
   "source": [
    "----------------------------------------------------------------------------------------------------------------------------------------------------------------------------------------------------------------------------------------------"
   ]
  },
  {
   "cell_type": "markdown",
   "id": "25519ba3-597e-4c78-b4f7-91d40293f880",
   "metadata": {},
   "source": [
    "Q12. For a normal distribution data what is the relationship between its measure of central tendency?\n",
    "\n",
    "Ans. Any normal distribution has a graph that is perfectly symmetric about a vertical line through its peak. Therefore, all measures of central tendency (most commonly, the mean, median, and mode) give the same answer: the x -value of the peak.\n",
    "\n",
    "i.e.  mean = median = mode"
   ]
  },
  {
   "cell_type": "markdown",
   "id": "9934804e-413a-4032-a2fb-200e4b172e1f",
   "metadata": {},
   "source": [
    "-----------------------------------------------------------------------------------------------------------------------------------------------------------------------------------------------------------------------------------------------"
   ]
  },
  {
   "cell_type": "markdown",
   "id": "ee0916ee-30c5-4497-9190-8ba6b18a9804",
   "metadata": {},
   "source": [
    "Q13. How is covariance different from correlation?\n",
    "\n",
    "Ans. Difference is Covariance tells us the direction of the relationship between two variables, while correlation provides an indication as to how strong the relationship between the two variables is, in addition to the direction of correlated variables. Correlation values range from +1 to -1."
   ]
  },
  {
   "cell_type": "markdown",
   "id": "166e83bc-25dd-4109-b725-a9f49b000b6e",
   "metadata": {},
   "source": [
    "-----------------------------------------------------------------------------------------------------------------------------------------------------------------------------------------------------------------------------------------------"
   ]
  },
  {
   "cell_type": "markdown",
   "id": "13e57c2d-66d9-499e-9d63-6ad0a6853cf7",
   "metadata": {},
   "source": [
    "Q14. How do outliers affect measures of central tendency and dispersion? Provide an example.\n",
    "\n",
    "Ans. Outliers are numbers in a data set that are vastly larger or smaller than the other values in the set. \n",
    "\n",
    "Mean, median and mode are measures of central tendency. Mean is the only measure of central tendency that is always affected by an outlier.\n",
    "\n",
    "The standard deviation is calculated using every observation in the data set. Consequently, it is called a sensitive measure because it will be influenced by outliers."
   ]
  },
  {
   "cell_type": "code",
   "execution_count": 3,
   "id": "57ecea98-2b33-4ca7-aedd-d1ea6c535db6",
   "metadata": {},
   "outputs": [
    {
     "name": "stdout",
     "output_type": "stream",
     "text": [
      "Mean Age without outliers: 15.25 and Standard deviation without outliers: 1.984313483298443\n",
      "\n",
      "\n",
      "Mean Age with outliers: 21.625 and Standard deviation with outliers: 17.98567138029604\n"
     ]
    }
   ],
   "source": [
    "# Example  Age of students in class :-\n",
    "\n",
    "Age_Data1 = [12,15,17,14,16,17,18,13]  \n",
    "\n",
    "Age_Data2 = [12,15,17,14,16,17,69,13]  # has outlier 69\n",
    "\n",
    "import numpy as np\n",
    "\n",
    "print(f\"Mean Age without outliers: {np.mean(Age_Data1)} and Standard deviation without outliers: {np.std(Age_Data1)}\")\n",
    "print(\"\\n\")\n",
    "print(f\"Mean Age with outliers: {np.mean(Age_Data2)} and Standard deviation with outliers: {np.std(Age_Data2)}\")"
   ]
  },
  {
   "cell_type": "markdown",
   "id": "85e88957-3798-4983-8e51-b647053b3efe",
   "metadata": {},
   "source": [
    "-----------------------------------------------------------------------------------------------------------------------------------------------------------------------------------------------------------------------------------------------"
   ]
  },
  {
   "cell_type": "code",
   "execution_count": null,
   "id": "8d14cafb-d9ba-4f7a-80bd-a154268601fb",
   "metadata": {},
   "outputs": [],
   "source": []
  }
 ],
 "metadata": {
  "kernelspec": {
   "display_name": "Python 3 (ipykernel)",
   "language": "python",
   "name": "python3"
  },
  "language_info": {
   "codemirror_mode": {
    "name": "ipython",
    "version": 3
   },
   "file_extension": ".py",
   "mimetype": "text/x-python",
   "name": "python",
   "nbconvert_exporter": "python",
   "pygments_lexer": "ipython3",
   "version": "3.10.8"
  }
 },
 "nbformat": 4,
 "nbformat_minor": 5
}
