{
 "cells": [
  {
   "cell_type": "markdown",
   "id": "1dd30bed-8082-48ae-a2d4-9c49ec165a4a",
   "metadata": {},
   "source": [
    "Q1. Explain Class and Object with respect to Object-Oriented Programming. Give a suitable example.\n",
    "\n",
    "Ans. class: - Class is a blueprint or template of real world entity. It is a structure that defines about the property and behaviour of\n",
    "real world entity.\n",
    "\n",
    "object:- Object is basically a real world entity. An object is basically a instance of class. "
   ]
  },
  {
   "cell_type": "code",
   "execution_count": 2,
   "id": "f74aeb95-6232-43f2-b239-330da755794b",
   "metadata": {},
   "outputs": [
    {
     "name": "stdout",
     "output_type": "stream",
     "text": [
      "Boxer\n",
      "Cane corso\n",
      "\n",
      "\n",
      "Nameo of Dog: Boxer, Species: Cane corso\n"
     ]
    }
   ],
   "source": [
    "# example:-\n",
    "\n",
    "class Dog:                               # class Dog\n",
    "    def __init__(self,Name,Species):\n",
    "        self.Name = Name\n",
    "        self.Species = Species\n",
    "        \n",
    "    def display_Name_Species(self):\n",
    "        print(f\"Nameo of Dog: {self.Name}, Species: {self.Species}\")\n",
    "\n",
    "\n",
    "dog1 = Dog(\"Boxer\",\"Cane corso\")        # dog1 is object of class Dog\n",
    "\n",
    "print(dog1.Name)\n",
    "print(dog1.Species)\n",
    "print(\"\\n\")\n",
    "dog1.display_Name_Species()"
   ]
  },
  {
   "cell_type": "markdown",
   "id": "6c142eeb-5851-451c-b4fe-545ffb255b82",
   "metadata": {},
   "source": [
    "Q2. Name the four pillars of OOPs.\n",
    "\n",
    "Ans. 1.Abstraction\n",
    "\n",
    "2.Encapsulation\n",
    "\n",
    "3.Inheritance\n",
    "\n",
    "4.Polymorphism"
   ]
  },
  {
   "cell_type": "code",
   "execution_count": 5,
   "id": "4d9d8fa3-4609-45e2-9c7a-fe885879b56f",
   "metadata": {},
   "outputs": [
    {
     "name": "stdout",
     "output_type": "stream",
     "text": [
      "1\n",
      "2\n"
     ]
    }
   ],
   "source": [
    "\"\"\"Q3.Explain why the __init__() function is used. Give a suitable example.\n",
    "\n",
    "Ans. \"__init__\" is a reseved method in python classes. It is called as a constructor in object oriented terminology.\n",
    "\n",
    "The __init__ method lets the class initialize the object's attributes.\"\"\"\n",
    "\n",
    "# example:-\n",
    "\n",
    "class Demo:\n",
    "    def __init__(self,a,b):\n",
    "        self.a = a         # here self.name is the object attribute where self is used to bind the varible to object\n",
    "        self.b = b\n",
    "        \n",
    "d1 = Demo(1,2)\n",
    "print(d1.a)\n",
    "print(d1.b)"
   ]
  },
  {
   "cell_type": "markdown",
   "id": "8e4f90df-1706-469f-a3cc-811ec0b0034e",
   "metadata": {},
   "source": [
    "Q4. Why self is used in OOPs?\n",
    "\n",
    "Ans. The self variable is used to represent the instance of the class which is often used in object-oriented programming.\n",
    "It works as a reference to the object.\n",
    "Python uses the self parameter to bind or refer to instance attributes and methods of the class."
   ]
  },
  {
   "cell_type": "code",
   "execution_count": 8,
   "id": "7071783f-52ee-4899-a476-83d81f498ab7",
   "metadata": {},
   "outputs": [
    {
     "name": "stdout",
     "output_type": "stream",
     "text": [
      "In A\n",
      "In B\n"
     ]
    }
   ],
   "source": [
    "#Q5. What is inheritance? Give an example for each type of inheritance.\n",
    "\n",
    "'''Ans. Inheritance allows us to define a class that inherits all the methods and properties from another class.\n",
    "Parent class is the class being inherited from, also called base class.\n",
    "Child class is the class that inherits from another class, also called derived class.'''\n",
    "\n",
    "# ex:- Single Inheritance:-\n",
    "\n",
    "class A:\n",
    "    def helloA(self):\n",
    "        print(\"In A\")\n",
    "class B(A):\n",
    "    def helloB(self):\n",
    "        print(\"In B\")\n",
    "        \n",
    "c1 = B()\n",
    "c1.helloA()    # c1 is object of class B and it inherited method helloA from class A\n",
    "c1.helloB()"
   ]
  },
  {
   "cell_type": "code",
   "execution_count": 10,
   "id": "189d156b-3612-428e-8b40-d6ec3dfa50e9",
   "metadata": {},
   "outputs": [
    {
     "name": "stdout",
     "output_type": "stream",
     "text": [
      "In X\n",
      "In Y\n",
      "In Z\n"
     ]
    }
   ],
   "source": [
    "# ex:- Multi-Level Inheritance:\n",
    "\n",
    "class X:\n",
    "    def helloX(self):\n",
    "        print(\"In X\")\n",
    "        \n",
    "class Y(X):\n",
    "    def helloY(self):     # class Y inherits method helloX from class X \n",
    "        print(\"In Y\")\n",
    "        \n",
    "class Z(Y):\n",
    "    def helloZ(self):    # class Z inherits method helloX and helloY from class Y\n",
    "        print(\"In Z\")\n",
    "    \n",
    "c2 = Z()           # c2 is object of class Z\n",
    "\n",
    "c2.helloX()\n",
    "c2.helloY()\n",
    "c2.helloZ()"
   ]
  },
  {
   "cell_type": "code",
   "execution_count": 21,
   "id": "91da9b21-bf88-43cd-930f-6ea9653cd103",
   "metadata": {},
   "outputs": [
    {
     "name": "stdout",
     "output_type": "stream",
     "text": [
      "Father : Raman\n",
      "Mother : Sunita\n"
     ]
    }
   ],
   "source": [
    "# ex:- Multiple Inheritance:\n",
    "\n",
    "class Mother:\n",
    "    mothername = \"\"\n",
    "\n",
    "\n",
    "\n",
    "class Father:\n",
    "    fathername = \"\"\n",
    "\n",
    "\n",
    "\n",
    "class Son(Mother, Father):             # inherits  mothername from class Mother and fathername from class father\n",
    "    def parents(self):\n",
    "        print(\"Father :\", self.fathername)\n",
    "        print(\"Mother :\", self.mothername)\n",
    "\n",
    "\n",
    "\n",
    "s1 = Son()\n",
    "s1.fathername = \"Raman\"\n",
    "s1.mothername = \"Sunita\"\n",
    "s1.parents()\n",
    "\n"
   ]
  },
  {
   "cell_type": "code",
   "execution_count": 26,
   "id": "78f5e289-c764-49bd-a98d-7269dc4619c8",
   "metadata": {},
   "outputs": [
    {
     "name": "stdout",
     "output_type": "stream",
     "text": [
      "In A!\n",
      "In B1\n",
      "In A!\n",
      "In C1\n"
     ]
    }
   ],
   "source": [
    "# ex:- Hierarchical Inheritance: \n",
    "\n",
    "\n",
    "class A1:               # Parent class\n",
    "    def helloA1(self):\n",
    "        print(\"In A!\")\n",
    "\n",
    "class B1(A1):           # B1 is child class of A1 which inherits method helloA1 from class A1\n",
    "    def helloB1(self):\n",
    "        print(\"In B1\")\n",
    "\n",
    "class C1(A1):         # C1 is child class of A1 which inherits method helloA1 from class A1\n",
    "    def helloC1(self):\n",
    "        print(\"In C1\")\n",
    "        \n",
    "o1 = B1()\n",
    "o1.helloA1()\n",
    "o1.helloB1()\n",
    "\n",
    "o2 = C1()\n",
    "o2.helloA1()\n",
    "o2.helloC1()"
   ]
  },
  {
   "cell_type": "code",
   "execution_count": null,
   "id": "1cea2646-f6d8-43b2-9966-bcc05478ba34",
   "metadata": {},
   "outputs": [],
   "source": []
  }
 ],
 "metadata": {
  "kernelspec": {
   "display_name": "Python 3 (ipykernel)",
   "language": "python",
   "name": "python3"
  },
  "language_info": {
   "codemirror_mode": {
    "name": "ipython",
    "version": 3
   },
   "file_extension": ".py",
   "mimetype": "text/x-python",
   "name": "python",
   "nbconvert_exporter": "python",
   "pygments_lexer": "ipython3",
   "version": "3.10.8"
  }
 },
 "nbformat": 4,
 "nbformat_minor": 5
}
